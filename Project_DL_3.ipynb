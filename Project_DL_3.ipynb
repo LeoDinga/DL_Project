{
  "cells": [
    {
      "cell_type": "markdown",
      "metadata": {
        "id": "view-in-github",
        "colab_type": "text"
      },
      "source": [
        "<a href=\"https://colab.research.google.com/github/LeoDinga/DL_Project/blob/main/Project_DL_3.ipynb\" target=\"_parent\"><img src=\"https://colab.research.google.com/assets/colab-badge.svg\" alt=\"Open In Colab\"/></a>"
      ]
    },
    {
      "cell_type": "code",
      "execution_count": 6,
      "metadata": {
        "colab": {
          "base_uri": "https://localhost:8080/"
        },
        "id": "FK-8g_KWzxBD",
        "outputId": "62faaba0-9256-4851-f554-a92c342361ec"
      },
      "outputs": [
        {
          "output_type": "stream",
          "name": "stdout",
          "text": [
            "fatal: destination path 'dataset' already exists and is not an empty directory.\n",
            "/content/dataset\n",
            "Your branch is up to date with 'origin/main'.\n"
          ]
        }
      ],
      "source": [
        "!git clone --filter=blob:none --no-checkout https://github.com/THETIS-dataset/dataset.git\n",
        "%cd dataset\n",
        "!git sparse-checkout init --cone\n",
        "!git sparse-checkout set VIDEO_Skelet3D\n",
        "!git checkout"
      ]
    },
    {
      "cell_type": "markdown",
      "metadata": {
        "id": "9M0yOQK3fket"
      },
      "source": [
        "Run this only the first time\n"
      ]
    },
    {
      "cell_type": "code",
      "execution_count": 2,
      "metadata": {
        "colab": {
          "base_uri": "https://localhost:8080/",
          "height": 1000
        },
        "id": "_GGlCSqpW_5A",
        "outputId": "d50c86c0-95ff-47ba-99f1-cf625f69e74a"
      },
      "outputs": [
        {
          "output_type": "stream",
          "name": "stdout",
          "text": [
            "\u001b[33mWARNING: Skipping mediapipe-silicon as it is not installed.\u001b[0m\u001b[33m\n",
            "\u001b[0m\u001b[33mWARNING: Skipping mediapipe as it is not installed.\u001b[0m\u001b[33m\n",
            "\u001b[0mFound existing installation: protobuf 5.29.4\n",
            "Uninstalling protobuf-5.29.4:\n",
            "  Successfully uninstalled protobuf-5.29.4\n",
            "Collecting protobuf==3.20.3\n",
            "  Downloading protobuf-3.20.3-py2.py3-none-any.whl.metadata (720 bytes)\n",
            "Downloading protobuf-3.20.3-py2.py3-none-any.whl (162 kB)\n",
            "\u001b[2K   \u001b[90m━━━━━━━━━━━━━━━━━━━━━━━━━━━━━━━━━━━━━━━━\u001b[0m \u001b[32m162.1/162.1 kB\u001b[0m \u001b[31m9.1 MB/s\u001b[0m eta \u001b[36m0:00:00\u001b[0m\n",
            "\u001b[?25hInstalling collected packages: protobuf\n",
            "\u001b[31mERROR: pip's dependency resolver does not currently take into account all the packages that are installed. This behaviour is the source of the following dependency conflicts.\n",
            "ydf 0.11.0 requires protobuf<6.0.0,>=5.29.1, but you have protobuf 3.20.3 which is incompatible.\n",
            "grpcio-status 1.71.0 requires protobuf<6.0dev,>=5.26.1, but you have protobuf 3.20.3 which is incompatible.\n",
            "tensorflow-metadata 1.17.1 requires protobuf<6.0.0,>=4.25.2; python_version >= \"3.11\", but you have protobuf 3.20.3 which is incompatible.\u001b[0m\u001b[31m\n",
            "\u001b[0mSuccessfully installed protobuf-3.20.3\n"
          ]
        },
        {
          "output_type": "display_data",
          "data": {
            "application/vnd.colab-display-data+json": {
              "pip_warning": {
                "packages": [
                  "google"
                ]
              },
              "id": "8c5fbd06d0e74176bfaf2e04bb41dbe8"
            }
          },
          "metadata": {}
        },
        {
          "output_type": "stream",
          "name": "stdout",
          "text": [
            "Collecting mediapipe\n",
            "  Downloading mediapipe-0.10.21-cp311-cp311-manylinux_2_28_x86_64.whl.metadata (9.7 kB)\n",
            "Requirement already satisfied: absl-py in /usr/local/lib/python3.11/dist-packages (from mediapipe) (1.4.0)\n",
            "Requirement already satisfied: attrs>=19.1.0 in /usr/local/lib/python3.11/dist-packages (from mediapipe) (25.3.0)\n",
            "Requirement already satisfied: flatbuffers>=2.0 in /usr/local/lib/python3.11/dist-packages (from mediapipe) (25.2.10)\n",
            "Requirement already satisfied: jax in /usr/local/lib/python3.11/dist-packages (from mediapipe) (0.5.2)\n",
            "Requirement already satisfied: jaxlib in /usr/local/lib/python3.11/dist-packages (from mediapipe) (0.5.1)\n",
            "Requirement already satisfied: matplotlib in /usr/local/lib/python3.11/dist-packages (from mediapipe) (3.10.0)\n",
            "Collecting numpy<2 (from mediapipe)\n",
            "  Downloading numpy-1.26.4-cp311-cp311-manylinux_2_17_x86_64.manylinux2014_x86_64.whl.metadata (61 kB)\n",
            "\u001b[2K     \u001b[90m━━━━━━━━━━━━━━━━━━━━━━━━━━━━━━━━━━━━━━━━\u001b[0m \u001b[32m61.0/61.0 kB\u001b[0m \u001b[31m5.7 MB/s\u001b[0m eta \u001b[36m0:00:00\u001b[0m\n",
            "\u001b[?25hRequirement already satisfied: opencv-contrib-python in /usr/local/lib/python3.11/dist-packages (from mediapipe) (4.11.0.86)\n",
            "Collecting protobuf<5,>=4.25.3 (from mediapipe)\n",
            "  Downloading protobuf-4.25.7-cp37-abi3-manylinux2014_x86_64.whl.metadata (541 bytes)\n",
            "Collecting sounddevice>=0.4.4 (from mediapipe)\n",
            "  Downloading sounddevice-0.5.1-py3-none-any.whl.metadata (1.4 kB)\n",
            "Requirement already satisfied: sentencepiece in /usr/local/lib/python3.11/dist-packages (from mediapipe) (0.2.0)\n",
            "Requirement already satisfied: CFFI>=1.0 in /usr/local/lib/python3.11/dist-packages (from sounddevice>=0.4.4->mediapipe) (1.17.1)\n",
            "Requirement already satisfied: ml_dtypes>=0.4.0 in /usr/local/lib/python3.11/dist-packages (from jax->mediapipe) (0.4.1)\n",
            "Requirement already satisfied: opt_einsum in /usr/local/lib/python3.11/dist-packages (from jax->mediapipe) (3.4.0)\n",
            "Requirement already satisfied: scipy>=1.11.1 in /usr/local/lib/python3.11/dist-packages (from jax->mediapipe) (1.15.2)\n",
            "Requirement already satisfied: contourpy>=1.0.1 in /usr/local/lib/python3.11/dist-packages (from matplotlib->mediapipe) (1.3.2)\n",
            "Requirement already satisfied: cycler>=0.10 in /usr/local/lib/python3.11/dist-packages (from matplotlib->mediapipe) (0.12.1)\n",
            "Requirement already satisfied: fonttools>=4.22.0 in /usr/local/lib/python3.11/dist-packages (from matplotlib->mediapipe) (4.57.0)\n",
            "Requirement already satisfied: kiwisolver>=1.3.1 in /usr/local/lib/python3.11/dist-packages (from matplotlib->mediapipe) (1.4.8)\n",
            "Requirement already satisfied: packaging>=20.0 in /usr/local/lib/python3.11/dist-packages (from matplotlib->mediapipe) (24.2)\n",
            "Requirement already satisfied: pillow>=8 in /usr/local/lib/python3.11/dist-packages (from matplotlib->mediapipe) (11.2.1)\n",
            "Requirement already satisfied: pyparsing>=2.3.1 in /usr/local/lib/python3.11/dist-packages (from matplotlib->mediapipe) (3.2.3)\n",
            "Requirement already satisfied: python-dateutil>=2.7 in /usr/local/lib/python3.11/dist-packages (from matplotlib->mediapipe) (2.9.0.post0)\n",
            "Requirement already satisfied: pycparser in /usr/local/lib/python3.11/dist-packages (from CFFI>=1.0->sounddevice>=0.4.4->mediapipe) (2.22)\n",
            "Requirement already satisfied: six>=1.5 in /usr/local/lib/python3.11/dist-packages (from python-dateutil>=2.7->matplotlib->mediapipe) (1.17.0)\n",
            "Downloading mediapipe-0.10.21-cp311-cp311-manylinux_2_28_x86_64.whl (35.6 MB)\n",
            "\u001b[2K   \u001b[90m━━━━━━━━━━━━━━━━━━━━━━━━━━━━━━━━━━━━━━━━\u001b[0m \u001b[32m35.6/35.6 MB\u001b[0m \u001b[31m19.6 MB/s\u001b[0m eta \u001b[36m0:00:00\u001b[0m\n",
            "\u001b[?25hDownloading numpy-1.26.4-cp311-cp311-manylinux_2_17_x86_64.manylinux2014_x86_64.whl (18.3 MB)\n",
            "\u001b[2K   \u001b[90m━━━━━━━━━━━━━━━━━━━━━━━━━━━━━━━━━━━━━━━━\u001b[0m \u001b[32m18.3/18.3 MB\u001b[0m \u001b[31m109.6 MB/s\u001b[0m eta \u001b[36m0:00:00\u001b[0m\n",
            "\u001b[?25hDownloading protobuf-4.25.7-cp37-abi3-manylinux2014_x86_64.whl (294 kB)\n",
            "\u001b[2K   \u001b[90m━━━━━━━━━━━━━━━━━━━━━━━━━━━━━━━━━━━━━━━━\u001b[0m \u001b[32m294.6/294.6 kB\u001b[0m \u001b[31m29.7 MB/s\u001b[0m eta \u001b[36m0:00:00\u001b[0m\n",
            "\u001b[?25hDownloading sounddevice-0.5.1-py3-none-any.whl (32 kB)\n",
            "Installing collected packages: protobuf, numpy, sounddevice, mediapipe\n",
            "  Attempting uninstall: protobuf\n",
            "    Found existing installation: protobuf 3.20.3\n",
            "    Uninstalling protobuf-3.20.3:\n",
            "      Successfully uninstalled protobuf-3.20.3\n",
            "  Attempting uninstall: numpy\n",
            "    Found existing installation: numpy 2.0.2\n",
            "    Uninstalling numpy-2.0.2:\n",
            "      Successfully uninstalled numpy-2.0.2\n",
            "\u001b[31mERROR: pip's dependency resolver does not currently take into account all the packages that are installed. This behaviour is the source of the following dependency conflicts.\n",
            "ydf 0.11.0 requires protobuf<6.0.0,>=5.29.1, but you have protobuf 4.25.7 which is incompatible.\n",
            "thinc 8.3.6 requires numpy<3.0.0,>=2.0.0, but you have numpy 1.26.4 which is incompatible.\n",
            "grpcio-status 1.71.0 requires protobuf<6.0dev,>=5.26.1, but you have protobuf 4.25.7 which is incompatible.\u001b[0m\u001b[31m\n",
            "\u001b[0mSuccessfully installed mediapipe-0.10.21 numpy-1.26.4 protobuf-4.25.7 sounddevice-0.5.1\n"
          ]
        }
      ],
      "source": [
        "!pip uninstall -y mediapipe-silicon\n",
        "!pip uninstall -y mediapipe\n",
        "!pip uninstall -y protobuf\n",
        "!pip install protobuf==3.20.3  # Specific version that often works well with MediaPipe\n",
        "!pip install mediapipe\n"
      ]
    },
    {
      "cell_type": "code",
      "execution_count": 3,
      "metadata": {
        "id": "Q6xVAAJg0FQs"
      },
      "outputs": [],
      "source": [
        "import os\n",
        "import cv2\n",
        "import torch\n",
        "import torch.nn as nn\n",
        "from torch.utils.data import Dataset, DataLoader, random_split\n",
        "import torchvision.transforms as T\n",
        "import torchvision.models as models\n",
        "from PIL import Image\n",
        "import numpy as np\n",
        "from sklearn.metrics import accuracy_score\n",
        "import shutil\n",
        "import random\n",
        "import mediapipe as mp"
      ]
    },
    {
      "cell_type": "code",
      "execution_count": 4,
      "metadata": {
        "id": "ScludcWY0Prb",
        "colab": {
          "base_uri": "https://localhost:8080/"
        },
        "outputId": "feeb80fc-b691-4456-fc9e-4f0ff68b68d5"
      },
      "outputs": [
        {
          "output_type": "stream",
          "name": "stdout",
          "text": [
            "CUDA available: True\n",
            "Device name: Tesla T4\n"
          ]
        }
      ],
      "source": [
        "print(\"CUDA available:\", torch.cuda.is_available())\n",
        "print(\"Device name:\", torch.cuda.get_device_name(0) if torch.cuda.is_available() else \"No GPU\")"
      ]
    },
    {
      "cell_type": "code",
      "execution_count": 7,
      "metadata": {
        "id": "yT1KTNHe0SVc",
        "colab": {
          "base_uri": "https://localhost:8080/"
        },
        "outputId": "a460c655-4d03-4707-b9f0-d1b0f5afbda6"
      },
      "outputs": [
        {
          "output_type": "stream",
          "name": "stdout",
          "text": [
            "['backhand_volley', 'backhand2hands', 'flat_service', 'backhand', 'backhand_slice', 'kick_service', 'smash', 'forehand_openstands', 'forehand_slice', 'forehand_flat', 'slice_service', 'forehand_volley']\n"
          ]
        }
      ],
      "source": [
        "import os\n",
        "print(os.listdir('VIDEO_Skelet3D'))"
      ]
    },
    {
      "cell_type": "code",
      "execution_count": 8,
      "metadata": {
        "collapsed": true,
        "id": "RMN9JAsO0WYw",
        "colab": {
          "base_uri": "https://localhost:8080/"
        },
        "outputId": "092b6d65-d0d8-4f54-aef2-dc3d08e9feeb"
      },
      "outputs": [
        {
          "output_type": "stream",
          "name": "stdout",
          "text": [
            "Root: VIDEO_Skelet3D\n",
            "Dirs: ['backhand_volley', 'backhand2hands', 'flat_service', 'backhand', 'backhand_slice', 'kick_service', 'smash', 'forehand_openstands', 'forehand_slice', 'forehand_flat', 'slice_service', 'forehand_volley']\n",
            "Files: []\n",
            "----------------------------------------\n",
            "Root: VIDEO_Skelet3D/backhand_volley\n",
            "Dirs: []\n",
            "Files: ['p6_bvolley_skelet3D_s3.avi', 'p39_bvolley_skelet3D_s3.avi', 'p52_bvolley_skelet3D_s2.avi', 'p12_bvolley_skelet3D_s2.avi', 'p2_bvolley_skelet3D_s1.avi', 'p2_bvolley_skelet3D_s3.avi', 'p38_bvolley_skelet3D_s3.avi', 'p30_bvolley_skelet3D_s3.avi', 'p22_bvolley_skelet3D_s3.avi', 'p49_bvolley_skelet3D_s3.avi', 'p43_bvolley_skelet3D_s2.avi', 'p9_bvolley_skelet3D_s3.avi', 'p4_bvolley_skelet3D_s3.avi', 'p1_bvolley_skelet3D_s3.avi', 'p43_bvolley_skelet3D_s3.avi', 'p23_bvolley_skelet3D_s3.avi', 'p27_bvolley_skelet3D_s3.avi', 'p42_bvolley_skelet3D_s3.avi', 'p41_bvolley_skelet3D_s1.avi', 'p7_bvolley_skelet3D_s2.avi', 'p2_bvolley_skelet3D_s2.avi', 'p18_bvolley_skelet3D_s2.avi', 'p3_bvolley_skelet3D_s2.avi', 'p14_bvolley_skelet3D_s3.avi', 'p16_bvolley_skelet3D_s2.avi', 'p38_bvolley_skelet3D_s2.avi', 'p8_bvolley_skelet3D_s2.avi', 'p11_bvolley_skelet3D_s2.avi', 'p28_bvolley_skelet3D_s2.avi', 'p47_bvolley_skelet3D_s3.avi', 'p6_bvolley_skelet3D_s2.avi', 'p1_bvolley_skelet3D_s2.avi', 'p44_bvolley_skelet3D_s3.avi', 'p19_bvolley_skelet3D_s2.avi', 'p28_bvolley_skelet3D_s3.avi', 'p46_bvolley_skelet3D_s2.avi', 'p29_bvolley_skelet3D_s2.avi', 'p4_bvolley_skelet3D_s2.avi', 'p34_bvolley_skelet3D_s2.avi', 'p12_bvolley_skelet3D_s3.avi', 'p53_bvolley_skelet3D_s2.avi', 'p55_bvolley_skelet3D_s3.avi', 'p3_bvolley_skelet3D_s3.avi', 'p21_bvolley_skelet3D_s3.avi', 'p51_bvolley_skelet3D_s3.avi', 'p13_bvolley_skelet3D_s1.avi', 'p15_bvolley_skelet3D_s2.avi', 'p33_bvolley_skelet3D_s2.avi', 'p25_bvolley_skelet3D_s3.avi', 'p48_bvolley_skelet3D_s2.avi', 'p8_bvolley_skelet3D_s3.avi', 'p20_bvolley_skelet3D_s2.avi', 'p31_bvolley_skelet3D_s3.avi', 'p23_bvolley_skelet3D_s2.avi', 'p10_bvolley_skelet3D_s3.avi', 'p16_bvolley_skelet3D_s3.avi', 'p5_bvolley_skelet3D_s3.avi', 'p13_bvolley_skelet3D_s2.avi', 'p14_bvolley_skelet3D_s2.avi', 'p52_bvolley_skelet3D_s3.avi', 'p46_bvolley_skelet3D_s3.avi', 'p24_bvolley_skelet3D_s3.avi', 'p10_bvolley_skelet3D_s2.avi', 'p44_bvolley_skelet3D_s2.avi', 'p42_bvolley_skelet3D_s2.avi', 'p17_bvolley_skelet3D_s2.avi', 'p18_bvolley_skelet3D_s3.avi', 'p26_bvolley_skelet3D_s2.avi', 'p54_bvolley_skelet3D_s3.avi', 'p55_bvolley_skelet3D_s2.avi', 'p48_bvolley_skelet3D_s1.avi', 'p13_bvolley_skelet3D_s3.avi', 'p9_bvolley_skelet3D_s2.avi', 'p41_bvolley_skelet3D_s2.avi', 'p29_bvolley_skelet3D_s3.avi', 'p7_bvolley_skelet3D_s3.avi', 'p47_bvolley_skelet3D_s2.avi', 'p36_bvolley_skelet3D_s2.avi', 'p31_bvolley_skelet3D_s2.avi', 'p33_bvolley_skelet3D_s3.avi', 'p53_bvolley_skelet3D_s3.avi', 'p11_bvolley_skelet3D_s3.avi', 'p35_bvolley_skelet3D_s3.avi', 'p34_bvolley_skelet3D_s3.avi', 'p51_bvolley_skelet3D_s2.avi', 'p41_bvolley_skelet3D_s3.avi', 'p26_bvolley_skelet3D_s3.avi', 'p50_bvolley_skelet3D_s3.avi', 'p48_bvolley_skelet3D_s3.avi', 'p20_bvolley_skelet3D_s3.avi', 'p40_bvolley_skelet3D_s2.avi', 'p25_bvolley_skelet3D_s2.avi', 'p51_bvolley_skelet3D_s1.avi', 'p39_bvolley_skelet3D_s2.avi', 'p40_bvolley_skelet3D_s3.avi', 'p45_bvolley_skelet3D_s3.avi', 'p54_bvolley_skelet3D_s2.avi', 'p19_bvolley_skelet3D_s3.avi', 'p30_bvolley_skelet3D_s2.avi', 'p15_bvolley_skelet3D_s3.avi', 'p36_bvolley_skelet3D_s3.avi', 'p17_bvolley_skelet3D_s3.avi', 'p24_bvolley_skelet3D_s2.avi']\n",
            "----------------------------------------\n",
            "Root: VIDEO_Skelet3D/backhand2hands\n",
            "Dirs: []\n",
            "Files: ['p7_backhand2h_skelet3D_s2.avi', 'p39_backhand2h_skelet3D_s2.avi', 'p33_backhand2h_skelet3D_s3.avi', 'p22_backhand2h_skelet3D_s3.avi', 'p42_backhand2h_skelet3D_s3.avi', 'p16_backhand2h_skelet3D_s3.avi', 'p29_backhand2h_skelet3D_s2.avi', 'p38_backhand2h_skelet3D_s3.avi', 'p44_backhand2h_skelet3D_s2.avi', 'p44_backhand2h_skelet3D_s3.avi', 'p33_backhand2h_skelet3D_s2.avi', 'p15_backhand2h_skelet3D_s2.avi', 'p1_backhand2h_skelet3D_s1.avi', 'p53_backhand2h_skelet3D_s2.avi', 'p39_backhand2h_skelet3D_s3.avi', 'p49_backhand2h_skelet3D_s2.avi', 'p29_backhand2h_skelet3D_s3.avi', 'p6_backhand2h_skelet3D_s1.avi', 'p14_backhand2h_skelet3D_s3.avi', 'p7_backhand2h_skelet3D_s3.avi', 'p48_backhand2h_skelet3D_s2.avi', 'p12_backhand2h_skelet3D_s3.avi', 'p6_backhand2h_skelet3D_s2.avi', 'p30_backhand2h_skelet3D_s3.avi', 'p6_backhand2h_skelet3D_s3.avi', 'p3_backhand2h_skelet3D_s2.avi', 'p19_backhand2h_skelet3D_s2.avi', 'p15_backhand2h_skelet3D_s3.avi', 'p45_backhand2h_skelet3D_s2.avi', 'p4_backhand2h_skelet3D_s2.avi', 'p21_backhand2h_skelet3D_s2.avi', 'p54_backhand2h_skelet3D_s3.avi', 'p3_backhand2h_skelet3D_s3.avi', 'p26_backhand2h_skelet3D_s2.avi', 'p43_backhand2h_skelet3D_s2.avi', 'p38_backhand2h_skelet3D_s2.avi', 'p17_backhand2h_skelet3D_s3.avi', 'p10_backhand2h_skelet3D_s3.avi', 'p41_backhand2h_skelet3D_s2.avi', 'p13_backhand2h_skelet3D_s2.avi', 'p26_backhand2h_skelet3D_s3.avi', 'p1_backhand2h_skelet3D_s2.avi', 'p40_backhand2h_skelet3D_s2.avi', 'p31_backhand2h_skelet3D_s1.avi', 'p9_backhand2h_skelet3D_s3.avi', 'p43_backhand2h_skelet3D_s3.avi', 'p25_backhand2h_skelet3D_s3.avi', 'p46_backhand2h_skelet3D_s2.avi', 'p46_backhand2h_skelet3D_s3.avi', 'p10_backhand2h_skelet3D_s2.avi', 'p55_backhand2h_skelet3D_s2.avi', 'p48_backhand2h_skelet3D_s3.avi', 'p37_backhand2h_skelet3D_s2.avi', 'p47_backhand2h_skelet3D_s3.avi', 'p19_backhand2h_skelet3D_s3.avi', 'p23_backhand2h_skelet3D_s3.avi', 'p47_backhand2h_skelet3D_s2.avi', 'p21_backhand2h_skelet3D_s3.avi', 'p11_backhand2h_skelet3D_s3.avi', 'p31_backhand2h_skelet3D_s3.avi', 'p2_backhand2h_skelet3D_s2.avi', 'p52_backhand2h_skelet3D_s2.avi', 'p35_backhand2h_skelet3D_s2.avi', 'p28_backhand2h_skelet3D_s2.avi', 'p18_backhand2h_skelet3D_s2.avi', 'p50_backhand2h_skelet3D_s3.avi', 'p18_backhand2h_skelet3D_s3.avi', 'p24_backhand2h_skelet3D_s2.avi', 'p34_backhand2h_skelet3D_s3.avi', 'p12_backhand2h_skelet3D_s2.avi', 'p8_backhand2h_skelet3D_s2.avi', 'p53_backhand2h_skelet3D_s3.avi', 'p28_backhand2h_skelet3D_s3.avi', 'p50_backhand2h_skelet3D_s2.avi', 'p49_backhand2h_skelet3D_s3.avi', 'p5_backhand2h_skelet3D_s3.avi', 'p8_backhand2h_skelet3D_s3.avi', 'p24_backhand2h_skelet3D_s3.avi', 'p36_backhand2h_skelet3D_s3.avi', 'p2_backhand2h_skelet3D_s3.avi', 'p1_backhand2h_skelet3D_s3.avi', 'p27_backhand2h_skelet3D_s2.avi', 'p52_backhand2h_skelet3D_s1.avi', 'p45_backhand2h_skelet3D_s3.avi', 'p51_backhand2h_skelet3D_s2.avi', 'p4_backhand2h_skelet3D_s3.avi', 'p40_backhand2h_skelet3D_s3.avi', 'p54_backhand2h_skelet3D_s2.avi', 'p16_backhand2h_skelet3D_s2.avi', 'p20_backhand2h_skelet3D_s2.avi', 'p35_backhand2h_skelet3D_s3.avi', 'p30_backhand2h_skelet3D_s2.avi', 'p41_backhand2h_skelet3D_s3.avi', 'p42_backhand2h_skelet3D_s2.avi', 'p20_backhand2h_skelet3D_s3.avi', 'p27_backhand2h_skelet3D_s3.avi', 'p37_backhand2h_skelet3D_s3.avi', 'p31_backhand2h_skelet3D_s2.avi', 'p36_backhand2h_skelet3D_s2.avi', 'p52_backhand2h_skelet3D_s3.avi', 'p51_backhand2h_skelet3D_s3.avi', 'p13_backhand2h_skelet3D_s3.avi', 'p9_backhand2h_skelet3D_s2.avi', 'p17_backhand2h_skelet3D_s2.avi', 'p25_backhand2h_skelet3D_s2.avi', 'p5_backhand2h_skelet3D_s2.avi', 'p22_backhand2h_skelet3D_s2.avi']\n",
            "----------------------------------------\n",
            "Root: VIDEO_Skelet3D/flat_service\n",
            "Dirs: []\n",
            "Files: ['p25_serflat_skelet3D_s3.avi', 'p40_serflat_skelet3D_s1.avi', 'p42_serflat_skelet3D_s3.avi', 'p12_serflat_skelet3D_s3.avi', 'p48_serflat_skelet3D_s3.avi', 'p21_serflat_skelet3D_s3.avi', 'p40_serflat_skelet3D_s2.avi', 'p14_serflat_skelet3D_s2.avi', 'p38_serflat_skelet3D_s2.avi', 'p19_serflat_skelet3D_s3.avi', 'p54_serflat_skelet3D_s2.avi', 'p12_serflat_skelet3D_s2.avi', 'p47_serflat_skelet3D_s3.avi', 'p20_serflat_skelet3D_s2.avi', 'p18_serflat_skelet3D_s2.avi', 'p44_serflat_skelet3D_s3.avi', 'p19_serflat_skelet3D_s2.avi', 'p11_serflat_skelet3D_s3.avi', 'p26_serflat_skelet3D_s2.avi', 'p9_serflat_skelet3D_s2.avi', 'p32_serflat_skelet3D_s2.avi', 'p31_serflat_skelet3D_s3.avi', 'p30_serflat_skelet3D_s2.avi', 'p29_serflat_skelet3D_s3.avi', 'p23_serflat_skelet3D_s2.avi', 'p54_serflat_skelet3D_s1.avi', 'p21_serflat_skelet3D_s2.avi', 'p44_serflat_skelet3D_s1.avi', 'p26_serflat_skelet3D_s3.avi', 'p13_serflat_skelet3D_s3.avi', 'p48_serflat_skelet3D_s2.avi', 'p8_serflat_skelet3D_s2.avi', 'p46_serflat_skelet3D_s3.avi', 'p6_serflat_skelet3D_s2.avi', 'p14_serflat_skelet3D_s3.avi', 'p25_serflat_skelet3D_s2.avi', 'p32_serflat_skelet3D_s3.avi', 'p52_serflat_skelet3D_s2.avi', 'p45_serflat_skelet3D_s3.avi', 'p17_serflat_skelet3D_s3.avi', 'p9_serflat_skelet3D_s3.avi', 'p33_serflat_skelet3D_s3.avi', 'p15_serflat_skelet3D_s3.avi', 'p28_serflat_skelet3D_s2.avi', 'p10_serflat_skelet3D_s2.avi', 'p23_serflat_skelet3D_s3.avi', 'p53_serflat_skelet3D_s2.avi', 'p4_serflat_skelet3D_s3.avi', 'p51_serflat_skelet3D_s3.avi', 'p3_serflat_skelet3D_s3.avi', 'p16_serflat_skelet3D_s3.avi', 'p29_serflat_skelet3D_s2.avi', 'p46_serflat_skelet3D_s2.avi', 'p17_serflat_skelet3D_s2.avi', 'p10_serflat_skelet3D_s3.avi', 'p30_serflat_skelet3D_s3.avi', 'p5_serflat_skelet3D_s3.avi', 'p28_serflat_skelet3D_s3.avi', 'p2_serflat_skelet3D_s3.avi', 'p42_serflat_skelet3D_s2.avi', 'p24_serflat_skelet3D_s3.avi', 'p34_serflat_skelet3D_s2.avi', 'p27_serflat_skelet3D_s3.avi', 'p40_serflat_skelet3D_s3.avi', 'p54_serflat_skelet3D_s3.avi', 'p6_serflat_skelet3D_s3.avi', 'p31_serflat_skelet3D_s2.avi', 'p35_serflat_skelet3D_s3.avi', 'p44_serflat_skelet3D_s2.avi', 'p8_serflat_skelet3D_s3.avi', 'p43_serflat_skelet3D_s3.avi', 'p2_serflat_skelet3D_s1.avi', 'p53_serflat_skelet3D_s3.avi', 'p2_serflat_skelet3D_s2.avi', 'p38_serflat_skelet3D_s3.avi', 'p11_serflat_skelet3D_s2.avi', 'p34_serflat_skelet3D_s3.avi', 'p49_serflat_skelet3D_s2.avi', 'p41_serflat_skelet3D_s3.avi', 'p4_serflat_skelet3D_s2.avi', 'p49_serflat_skelet3D_s3.avi', 'p35_serflat_skelet3D_s2.avi', 'p7_serflat_skelet3D_s3.avi', 'p39_serflat_skelet3D_s2.avi', 'p47_serflat_skelet3D_s2.avi', 'p36_serflat_skelet3D_s3.avi', 'p20_serflat_skelet3D_s3.avi', 'p39_serflat_skelet3D_s3.avi', 'p52_serflat_skelet3D_s3.avi', 'p43_serflat_skelet3D_s2.avi', 'p16_serflat_skelet3D_s2.avi', 'p24_serflat_skelet3D_s2.avi', 'p27_serflat_skelet3D_s2.avi', 'p15_serflat_skelet3D_s2.avi', 'p1_serflat_skelet3D_s3.avi', 'p18_serflat_skelet3D_s3.avi']\n",
            "----------------------------------------\n",
            "Root: VIDEO_Skelet3D/backhand\n",
            "Dirs: []\n",
            "Files: ['p17_backhand_skelet3D_s3.avi', 'p27_backhand_skelet3D_s3.avi', 'p15_backhand_skelet3D_s3.avi', 'p4_backhand_skelet3D_s2.avi', 'p37_backhand_skelet3D_s2.avi', 'p20_backhand_skelet3D_s2.avi', 'p54_backhand_skelet3D_s3.avi', 'p32_backhand_skelet3D_s3.avi', 'p41_backhand_skelet3D_s2.avi', 'p53_backhand_skelet3D_s3.avi', 'p8_backhand_skelet3D_s3.avi', 'p23_backhand_skelet3D_s2.avi', 'p35_backhand_skelet3D_s2.avi', 'p37_backhand_skelet3D_s3.avi', 'p51_backhand_skelet3D_s3.avi', 'p15_backhand_skelet3D_s2.avi', 'p47_backhand_skelet3D_s3.avi', 'p2_backhand_skelet3D_s3.avi', 'p43_backhand_skelet3D_s3.avi', 'p39_backhand_skelet3D_s3.avi', 'p1_backhand_skelet3D_s3.avi', 'p50_backhand_skelet3D_s3.avi', 'p16_backhand_skelet3D_s2.avi', 'p19_backhand_skelet3D_s2.avi', 'p18_backhand_skelet3D_s3.avi', 'p35_backhand_skelet3D_s3.avi', 'p4_backhand_skelet3D_s3.avi', 'p24_backhand_skelet3D_s3.avi', 'p21_backhand_skelet3D_s3.avi', 'p49_backhand_skelet3D_s2.avi', 'p38_backhand_skelet3D_s3.avi', 'p39_backhand_skelet3D_s2.avi', 'p48_backhand_skelet3D_s3.avi', 'p31_backhand_skelet3D_s3.avi', 'p41_backhand_skelet3D_s3.avi', 'p6_backhand_skelet3D_s2.avi', 'p44_backhand_skelet3D_s3.avi', 'p19_backhand_skelet3D_s3.avi', 'p26_backhand_skelet3D_s2.avi', 'p43_backhand_skelet3D_s2.avi', 'p20_backhand_skelet3D_s3.avi', 'p30_backhand_skelet3D_s3.avi', 'p34_backhand_skelet3D_s2.avi', 'p52_backhand_skelet3D_s3.avi', 'p27_backhand_skelet3D_s2.avi', 'p21_backhand_skelet3D_s2.avi', 'p24_backhand_skelet3D_s2.avi', 'p23_backhand_skelet3D_s3.avi', 'p47_backhand_skelet3D_s2.avi', 'p54_backhand_skelet3D_s2.avi', 'p52_backhand_skelet3D_s2.avi', 'p53_backhand_skelet3D_s2.avi', 'p10_backhand_skelet3D_s2.avi', 'p23_backhand_skelet3D_s1.avi', 'p34_backhand_skelet3D_s3.avi', 'p55_backhand_skelet3D_s2.avi', 'p16_backhand_skelet3D_s3.avi', 'p36_backhand_skelet3D_s2.avi', 'p8_backhand_skelet3D_s2.avi', 'p22_backhand_skelet3D_s3.avi', 'p38_backhand_skelet3D_s2.avi', 'p29_backhand_skelet3D_s3.avi', 'p26_backhand_skelet3D_s3.avi', 'p42_backhand_skelet3D_s3.avi', 'p14_backhand_skelet3D_s2.avi', 'p3_backhand_skelet3D_s2.avi', 'p46_backhand_skelet3D_s2.avi', 'p46_backhand_skelet3D_s1.avi', 'p9_backhand_skelet3D_s3.avi', 'p11_backhand_skelet3D_s2.avi', 'p26_backhand_skelet3D_s1.avi', 'p3_backhand_skelet3D_s1.avi', 'p48_backhand_skelet3D_s2.avi', 'p40_backhand_skelet3D_s3.avi', 'p42_backhand_skelet3D_s2.avi', 'p44_backhand_skelet3D_s2.avi', 'p10_backhand_skelet3D_s3.avi', 'p55_backhand_skelet3D_s3.avi', 'p5_backhand_skelet3D_s3.avi', 'p36_backhand_skelet3D_s3.avi', 'p49_backhand_skelet3D_s3.avi', 'p11_backhand_skelet3D_s3.avi', 'p53_backhand_skelet3D_s1.avi', 'p12_backhand_skelet3D_s3.avi', 'p3_backhand_skelet3D_s3.avi', 'p25_backhand_skelet3D_s2.avi', 'p54_backhand_skelet3D_s1.avi', 'p46_backhand_skelet3D_s3.avi', 'p51_backhand_skelet3D_s2.avi', 'p25_backhand_skelet3D_s3.avi', 'p30_backhand_skelet3D_s2.avi', 'p2_backhand_skelet3D_s2.avi', 'p14_backhand_skelet3D_s3.avi', 'p2_backhand_skelet3D_s1.avi', 'p9_backhand_skelet3D_s2.avi', 'p13_backhand_skelet3D_s3.avi', 'p51_backhand_skelet3D_s1.avi']\n",
            "----------------------------------------\n",
            "Root: VIDEO_Skelet3D/backhand_slice\n",
            "Dirs: []\n",
            "Files: ['p42_bslice_skelet3D_s2.avi', 'p20_bslice_skelet3D_s3.avi', 'p37_bslice_skelet3D_s3.avi', 'p40_bslice_skelet3D_s3.avi', 'p14_bslice_skelet3D_s2.avi', 'p38_bslice_skelet3D_s2.avi', 'p24_bslice_skelet3D_s3.avi', 'p22_bslice_skelet3D_s2.avi', 'p45_bslice_skelet3D_s2.avi', 'p42_bslice_skelet3D_s3.avi', 'p26_bslice_skelet3D_s2.avi', 'p6_bslice_skelet3D_s2.avi', 'p16_bslice_skelet3D_s2.avi', 'p49_bslice_skelet3D_s2.avi', 'p35_bslice_skelet3D_s2.avi', 'p33_bslice_skelet3D_s3.avi', 'p24_bslice_skelet3D_s2.avi', 'p39_bslice_skelet3D_s2.avi', 'p50_bslice_skelet3D_s3.avi', 'p11_bslice_skelet3D_s2.avi', 'p22_bslice_skelet3D_s3.avi', 'p53_bslice_skelet3D_s2.avi', 'p40_bslice_skelet3D_s2.avi', 'p39_bslice_skelet3D_s3.avi', 'p37_bslice_skelet3D_s2.avi', 'p49_bslice_skelet3D_s3.avi', 'p4_bslice_skelet3D_s3.avi', 'p26_bslice_skelet3D_s3.avi', 'p10_bslice_skelet3D_s3.avi', 'p15_bslice_skelet3D_s2.avi', 'p6_bslice_skelet3D_s1.avi', 'p1_bslice_skelet3D_s2.avi', 'p12_bslice_skelet3D_s3.avi', 'p32_bslice_skelet3D_s3.avi', 'p36_bslice_skelet3D_s2.avi', 'p54_bslice_skelet3D_s2.avi', 'p5_bslice_skelet3D_s3.avi', 'p1_bslice_skelet3D_s3.avi', 'p52_bslice_skelet3D_s2.avi', 'p9_bslice_skelet3D_s3.avi', 'p3_bslice_skelet3D_s2.avi', 'p27_bslice_skelet3D_s3.avi', 'p32_bslice_skelet3D_s2.avi', 'p18_bslice_skelet3D_s3.avi', 'p16_bslice_skelet3D_s3.avi', 'p52_bslice_skelet3D_s3.avi', 'p28_bslice_skelet3D_s2.avi', 'p29_bslice_skelet3D_s2.avi', 'p30_bslice_skelet3D_s3.avi', 'p3_bslice_skelet3D_s3.avi', 'p31_bslice_skelet3D_s2.avi', 'p34_bslice_skelet3D_s3.avi', 'p46_bslice_skelet3D_s3.avi', 'p19_bslice_skelet3D_s3.avi', 'p47_bslice_skelet3D_s3.avi', 'p30_bslice_skelet3D_s2.avi', 'p11_bslice_skelet3D_s3.avi', 'p53_bslice_skelet3D_s3.avi', 'p2_bslice_skelet3D_s3.avi', 'p43_bslice_skelet3D_s3.avi', 'p33_bslice_skelet3D_s2.avi', 'p19_bslice_skelet3D_s2.avi', 'p23_bslice_skelet3D_s2.avi', 'p17_bslice_skelet3D_s3.avi', 'p28_bslice_skelet3D_s3.avi', 'p9_bslice_skelet3D_s2.avi', 'p38_bslice_skelet3D_s3.avi', 'p21_bslice_skelet3D_s2.avi', 'p51_bslice_skelet3D_s3.avi', 'p45_bslice_skelet3D_s3.avi', 'p13_bslice_skelet3D_s2.avi', 'p4_bslice_skelet3D_s2.avi', 'p34_bslice_skelet3D_s2.avi', 'p20_bslice_skelet3D_s1.avi', 'p5_bslice_skelet3D_s2.avi', 'p31_bslice_skelet3D_s3.avi', 'p7_bslice_skelet3D_s3.avi', 'p15_bslice_skelet3D_s3.avi', 'p48_bslice_skelet3D_s3.avi', 'p17_bslice_skelet3D_s2.avi', 'p13_bslice_skelet3D_s3.avi', 'p54_bslice_skelet3D_s3.avi', 'p23_bslice_skelet3D_s3.avi', 'p14_bslice_skelet3D_s3.avi', 'p18_bslice_skelet3D_s2.avi', 'p29_bslice_skelet3D_s3.avi', 'p36_bslice_skelet3D_s3.avi', 'p44_bslice_skelet3D_s3.avi', 'p48_bslice_skelet3D_s2.avi', 'p41_bslice_skelet3D_s3.avi', 'p20_bslice_skelet3D_s2.avi', 'p21_bslice_skelet3D_s3.avi', 'p25_bslice_skelet3D_s3.avi', 'p55_bslice_skelet3D_s2.avi', 'p35_bslice_skelet3D_s3.avi', 'p51_bslice_skelet3D_s2.avi', 'p53_bslice_skelet3D_s1.avi', 'p46_bslice_skelet3D_s2.avi', 'p6_bslice_skelet3D_s3.avi', 'p50_bslice_skelet3D_s2.avi']\n",
            "----------------------------------------\n",
            "Root: VIDEO_Skelet3D/kick_service\n",
            "Dirs: []\n",
            "Files: ['p42_serkick_skelet3D_s2.avi', 'p7_serkick_skelet3D_s2.avi', 'p12_serkick_skelet3D_s2.avi', 'p10_serkick_skelet3D_s2.avi', 'p23_serkick_skelet3D_s3.avi', 'p22_serkick_skelet3D_s3.avi', 'p18_serkick_skelet3D_s2.avi', 'p43_serkick_skelet3D_s2.avi', 'p4_serkick_skelet3D_s2.avi', 'p31_serkick_skelet3D_s3.avi', 'p36_serkick_skelet3D_s2.avi', 'p54_serkick_skelet3D_s3.avi', 'p54_serkick_skelet3D_s2.avi', 'p7_serkick_skelet3D_s1.avi', 'p39_serkick_skelet3D_s3.avi', 'p44_serkick_skelet3D_s3.avi', 'p39_serkick_skelet3D_s2.avi', 'p31_serkick_skelet3D_s2.avi', 'p11_serkick_skelet3D_s3.avi', 'p53_serkick_skelet3D_s2.avi', 'p30_serkick_skelet3D_s3.avi', 'p19_serkick_skelet3D_s2.avi', 'p28_serkick_skelet3D_s3.avi', 'p44_serkick_skelet3D_s1.avi', 'p48_serkick_skelet3D_s2.avi', 'p13_serkick_skelet3D_s3.avi', 'p3_serkick_skelet3D_s3.avi', 'p16_serkick_skelet3D_s2.avi', 'p23_serkick_skelet3D_s2.avi', 'p43_serkick_skelet3D_s3.avi', 'p47_serkick_skelet3D_s3.avi', 'p1_serkick_skelet3D_s3.avi', 'p41_serkick_skelet3D_s3.avi', 'p9_serkick_skelet3D_s2.avi', 'p2_serkick_skelet3D_s3.avi', 'p25_serkick_skelet3D_s3.avi', 'p7_serkick_skelet3D_s3.avi', 'p26_serkick_skelet3D_s2.avi', 'p18_serkick_skelet3D_s3.avi', 'p50_serkick_skelet3D_s3.avi', 'p29_serkick_skelet3D_s2.avi', 'p35_serkick_skelet3D_s3.avi', 'p34_serkick_skelet3D_s3.avi', 'p9_serkick_skelet3D_s3.avi', 'p17_serkick_skelet3D_s2.avi', 'p53_serkick_skelet3D_s1.avi', 'p52_serkick_skelet3D_s3.avi', 'p49_serkick_skelet3D_s2.avi', 'p29_serkick_skelet3D_s3.avi', 'p5_serkick_skelet3D_s2.avi', 'p6_serkick_skelet3D_s2.avi', 'p1_serkick_skelet3D_s2.avi', 'p4_serkick_skelet3D_s3.avi', 'p25_serkick_skelet3D_s2.avi', 'p40_serkick_skelet3D_s3.avi', 'p19_serkick_skelet3D_s3.avi', 'p55_serkick_skelet3D_s3.avi', 'p20_serkick_skelet3D_s3.avi', 'p49_serkick_skelet3D_s3.avi', 'p48_serkick_skelet3D_s1.avi', 'p2_serkick_skelet3D_s2.avi', 'p31_serkick_skelet3D_s1.avi', 'p40_serkick_skelet3D_s2.avi', 'p36_serkick_skelet3D_s3.avi', 'p44_serkick_skelet3D_s2.avi', 'p17_serkick_skelet3D_s1.avi', 'p11_serkick_skelet3D_s2.avi', 'p42_serkick_skelet3D_s3.avi', 'p38_serkick_skelet3D_s3.avi', 'p6_serkick_skelet3D_s3.avi', 'p15_serkick_skelet3D_s2.avi', 'p48_serkick_skelet3D_s3.avi', 'p13_serkick_skelet3D_s2.avi', 'p24_serkick_skelet3D_s3.avi', 'p49_serkick_skelet3D_s1.avi', 'p16_serkick_skelet3D_s3.avi', 'p3_serkick_skelet3D_s2.avi', 'p14_serkick_skelet3D_s2.avi', 'p1_serkick_skelet3D_s1.avi', 'p55_serkick_skelet3D_s2.avi', 'p5_serkick_skelet3D_s3.avi', 'p35_serkick_skelet3D_s2.avi', 'p14_serkick_skelet3D_s3.avi', 'p53_serkick_skelet3D_s3.avi', 'p34_serkick_skelet3D_s2.avi', 'p46_serkick_skelet3D_s2.avi', 'p11_serkick_skelet3D_s1.avi', 'p10_serkick_skelet3D_s3.avi', 'p50_serkick_skelet3D_s2.avi', 'p32_serkick_skelet3D_s3.avi', 'p21_serkick_skelet3D_s3.avi', 'p20_serkick_skelet3D_s2.avi', 'p15_serkick_skelet3D_s3.avi', 'p52_serkick_skelet3D_s2.avi', 'p46_serkick_skelet3D_s3.avi', 'p24_serkick_skelet3D_s2.avi', 'p51_serkick_skelet3D_s2.avi', 'p12_serkick_skelet3D_s3.avi', 'p26_serkick_skelet3D_s3.avi', 'p8_serkick_skelet3D_s3.avi', 'p45_serkick_skelet3D_s3.avi', 'p38_serkick_skelet3D_s2.avi', 'p51_serkick_skelet3D_s3.avi', 'p32_serkick_skelet3D_s2.avi', 'p33_serkick_skelet3D_s3.avi', 'p17_serkick_skelet3D_s3.avi', 'p30_serkick_skelet3D_s2.avi', 'p27_serkick_skelet3D_s3.avi', 'p47_serkick_skelet3D_s2.avi']\n",
            "----------------------------------------\n",
            "Root: VIDEO_Skelet3D/smash\n",
            "Dirs: []\n",
            "Files: ['p44_smash_skelet3D_s2.avi', 'p31_smash_skelet3D_s2.avi', 'p29_smash_skelet3D_s3.avi', 'p20_smash_skelet3D_s2.avi', 'p13_smash_skelet3D_s3.avi', 'p25_smash_skelet3D_s3.avi', 'p49_smash_skelet3D_s3.avi', 'p44_smash_skelet3D_s3.avi', 'p23_smash_skelet3D_s3.avi', 'p19_smash_skelet3D_s2.avi', 'p16_smash_skelet3D_s1.avi', 'p5_smash_skelet3D_s1.avi', 'p29_smash_skelet3D_s2.avi', 'p28_smash_skelet3D_s3.avi', 'p15_smash_skelet3D_s2.avi', 'p42_smash_skelet3D_s3.avi', 'p28_smash_skelet3D_s1.avi', 'p47_smash_skelet3D_s3.avi', 'p41_smash_skelet3D_s2.avi', 'p51_smash_skelet3D_s2.avi', 'p3_smash_skelet3D_s3.avi', 'p46_smash_skelet3D_s2.avi', 'p20_smash_skelet3D_s3.avi', 'p39_smash_skelet3D_s3.avi', 'p10_smash_skelet3D_s3.avi', 'p1_smash_skelet3D_s3.avi', 'p54_smash_skelet3D_s2.avi', 'p5_smash_skelet3D_s2.avi', 'p16_smash_skelet3D_s2.avi', 'p2_smash_skelet3D_s2.avi', 'p38_smash_skelet3D_s2.avi', 'p30_smash_skelet3D_s3.avi', 'p52_smash_skelet3D_s3.avi', 'p48_smash_skelet3D_s2.avi', 'p33_smash_skelet3D_s2.avi', 'p55_smash_skelet3D_s1.avi', 'p55_smash_skelet3D_s3.avi', 'p35_smash_skelet3D_s3.avi', 'p24_smash_skelet3D_s2.avi', 'p8_smash_skelet3D_s3.avi', 'p19_smash_skelet3D_s3.avi', 'p51_smash_skelet3D_s3.avi', 'p12_smash_skelet3D_s2.avi', 'p25_smash_skelet3D_s2.avi', 'p14_smash_skelet3D_s2.avi', 'p12_smash_skelet3D_s3.avi', 'p43_smash_skelet3D_s3.avi', 'p31_smash_skelet3D_s3.avi', 'p5_smash_skelet3D_s3.avi', 'p41_smash_skelet3D_s3.avi', 'p9_smash_skelet3D_s3.avi', 'p27_smash_skelet3D_s3.avi', 'p53_smash_skelet3D_s2.avi', 'p4_smash_skelet3D_s2.avi', 'p52_smash_skelet3D_s2.avi', 'p10_smash_skelet3D_s2.avi', 'p2_smash_skelet3D_s3.avi', 'p36_smash_skelet3D_s3.avi', 'p21_smash_skelet3D_s2.avi', 'p23_smash_skelet3D_s2.avi', 'p50_smash_skelet3D_s2.avi', 'p22_smash_skelet3D_s3.avi', 'p55_smash_skelet3D_s2.avi', 'p13_smash_skelet3D_s2.avi', 'p48_smash_skelet3D_s3.avi', 'p14_smash_skelet3D_s3.avi', 'p53_smash_skelet3D_s3.avi', 'p40_smash_skelet3D_s2.avi', 'p50_smash_skelet3D_s3.avi', 'p21_smash_skelet3D_s3.avi', 'p28_smash_skelet3D_s2.avi', 'p26_smash_skelet3D_s2.avi', 'p42_smash_skelet3D_s1.avi', 'p49_smash_skelet3D_s2.avi', 'p7_smash_skelet3D_s2.avi', 'p46_smash_skelet3D_s3.avi', 'p15_smash_skelet3D_s3.avi', 'p47_smash_skelet3D_s2.avi', 'p25_smash_skelet3D_s1.avi', 'p24_smash_skelet3D_s3.avi', 'p1_smash_skelet3D_s2.avi', 'p34_smash_skelet3D_s3.avi', 'p17_smash_skelet3D_s3.avi', 'p17_smash_skelet3D_s2.avi', 'p33_smash_skelet3D_s3.avi', 'p26_smash_skelet3D_s3.avi', 'p18_smash_skelet3D_s3.avi', 'p6_smash_skelet3D_s3.avi', 'p54_smash_skelet3D_s3.avi', 'p6_smash_skelet3D_s2.avi', 'p36_smash_skelet3D_s2.avi', 'p40_smash_skelet3D_s3.avi', 'p4_smash_skelet3D_s3.avi', 'p7_smash_skelet3D_s3.avi', 'p32_smash_skelet3D_s3.avi', 'p38_smash_skelet3D_s3.avi', 'p30_smash_skelet3D_s2.avi', 'p35_smash_skelet3D_s2.avi', 'p16_smash_skelet3D_s3.avi', 'p42_smash_skelet3D_s2.avi', 'p9_smash_skelet3D_s2.avi', 'p18_smash_skelet3D_s2.avi', 'p8_smash_skelet3D_s2.avi', 'p39_smash_skelet3D_s2.avi']\n",
            "----------------------------------------\n",
            "Root: VIDEO_Skelet3D/forehand_openstands\n",
            "Dirs: []\n",
            "Files: ['p6_foreopen_skelet3D_s2.avi', 'p2_foreopen_skelet3D_s3.avi', 'p53_foreopen_skelet3D_s3.avi', 'p40_foreopen_skelet3D_s3.avi', 'p11_foreopen_skelet3D_s2.avi', 'p31_foreopen_skelet3D_s2.avi', 'p1_foreopen_skelet3D_s2.avi', 'p27_foreopen_skelet3D_s2.avi', 'p10_foreopen_skelet3D_s3.avi', 'p5_foreopen_skelet3D_s3.avi', 'p14_foreopen_skelet3D_s2.avi', 'p29_foreopen_skelet3D_s2.avi', 'p17_foreopen_skelet3D_s2.avi', 'p41_foreopen_skelet3D_s3.avi', 'p24_foreopen_skelet3D_s2.avi', 'p28_foreopen_skelet3D_s3.avi', 'p23_foreopen_skelet3D_s3.avi', 'p9_foreopen_skelet3D_s3.avi', 'p26_foreopen_skelet3D_s3.avi', 'p21_foreopen_skelet3D_s3.avi', 'p36_foreopen_skelet3D_s3.avi', 'p8_foreopen_skelet3D_s3.avi', 'p44_foreopen_skelet3D_s2.avi', 'p16_foreopen_skelet3D_s2.avi', 'p23_foreopen_skelet3D_s2.avi', 'p55_foreopen_skelet3D_s1.avi', 'p38_foreopen_skelet3D_s2.avi', 'p43_foreopen_skelet3D_s2.avi', 'p16_foreopen_skelet3D_s3.avi', 'p39_foreopen_skelet3D_s2.avi', 'p30_foreopen_skelet3D_s3.avi', 'p46_foreopen_skelet3D_s2.avi', 'p18_foreopen_skelet3D_s3.avi', 'p26_foreopen_skelet3D_s2.avi', 'p29_foreopen_skelet3D_s3.avi', 'p41_foreopen_skelet3D_s2.avi', 'p30_foreopen_skelet3D_s2.avi', 'p20_foreopen_skelet3D_s2.avi', 'p10_foreopen_skelet3D_s2.avi', 'p6_foreopen_skelet3D_s3.avi', 'p20_foreopen_skelet3D_s3.avi', 'p4_foreopen_skelet3D_s2.avi', 'p12_foreopen_skelet3D_s3.avi', 'p7_foreopen_skelet3D_s3.avi', 'p9_foreopen_skelet3D_s1.avi', 'p49_foreopen_skelet3D_s3.avi', 'p25_foreopen_skelet3D_s3.avi', 'p13_foreopen_skelet3D_s3.avi', 'p48_foreopen_skelet3D_s3.avi', 'p45_foreopen_skelet3D_s3.avi', 'p15_foreopen_skelet3D_s3.avi', 'p35_foreopen_skelet3D_s3.avi', 'p14_foreopen_skelet3D_s3.avi', 'p52_foreopen_skelet3D_s3.avi', 'p34_foreopen_skelet3D_s3.avi', 'p13_foreopen_skelet3D_s2.avi', 'p46_foreopen_skelet3D_s3.avi', 'p53_foreopen_skelet3D_s2.avi', 'p55_foreopen_skelet3D_s2.avi', 'p54_foreopen_skelet3D_s3.avi', 'p19_foreopen_skelet3D_s3.avi', 'p18_foreopen_skelet3D_s2.avi', 'p27_foreopen_skelet3D_s3.avi', 'p39_foreopen_skelet3D_s3.avi', 'p2_foreopen_skelet3D_s2.avi', 'p32_foreopen_skelet3D_s2.avi', 'p51_foreopen_skelet3D_s2.avi', 'p4_foreopen_skelet3D_s3.avi', 'p43_foreopen_skelet3D_s3.avi', 'p3_foreopen_skelet3D_s1.avi', 'p44_foreopen_skelet3D_s3.avi', 'p3_foreopen_skelet3D_s2.avi', 'p1_foreopen_skelet3D_s3.avi', 'p47_foreopen_skelet3D_s3.avi', 'p9_foreopen_skelet3D_s2.avi', 'p50_foreopen_skelet3D_s3.avi', 'p49_foreopen_skelet3D_s2.avi', 'p24_foreopen_skelet3D_s3.avi', 'p37_foreopen_skelet3D_s2.avi', 'p19_foreopen_skelet3D_s2.avi', 'p42_foreopen_skelet3D_s2.avi', 'p25_foreopen_skelet3D_s2.avi', 'p33_foreopen_skelet3D_s3.avi', 'p3_foreopen_skelet3D_s3.avi', 'p5_foreopen_skelet3D_s2.avi', 'p17_foreopen_skelet3D_s3.avi', 'p37_foreopen_skelet3D_s3.avi', 'p22_foreopen_skelet3D_s3.avi', 'p8_foreopen_skelet3D_s2.avi', 'p53_foreopen_skelet3D_s1.avi', 'p40_foreopen_skelet3D_s2.avi', 'p11_foreopen_skelet3D_s3.avi', 'p31_foreopen_skelet3D_s3.avi', 'p45_foreopen_skelet3D_s2.avi', 'p38_foreopen_skelet3D_s3.avi', 'p32_foreopen_skelet3D_s3.avi', 'p4_foreopen_skelet3D_s1.avi', 'p51_foreopen_skelet3D_s3.avi', 'p54_foreopen_skelet3D_s2.avi', 'p34_foreopen_skelet3D_s2.avi', 'p42_foreopen_skelet3D_s3.avi']\n",
            "----------------------------------------\n",
            "Root: VIDEO_Skelet3D/forehand_slice\n",
            "Dirs: []\n",
            "Files: ['p23_fslice_skelet3D_s3.avi', 'p31_fslice_skelet3D_s2.avi', 'p49_fslice_skelet3D_s3.avi', 'p43_fslice_skelet3D_s3.avi', 'p41_fslice_skelet3D_s3.avi', 'p42_fslice_skelet3D_s3.avi', 'p53_fslice_skelet3D_s3.avi', 'p37_fslice_skelet3D_s3.avi', 'p52_fslice_skelet3D_s2.avi', 'p28_fslice_skelet3D_s3.avi', 'p17_fslice_skelet3D_s3.avi', 'p34_fslice_skelet3D_s3.avi', 'p11_fslice_skelet3D_s3.avi', 'p16_fslice_skelet3D_s2.avi', 'p5_fslice_skelet3D_s3.avi', 'p45_fslice_skelet3D_s3.avi', 'p20_fslice_skelet3D_s2.avi', 'p53_fslice_skelet3D_s2.avi', 'p19_fslice_skelet3D_s2.avi', 'p46_fslice_skelet3D_s3.avi', 'p14_fslice_skelet3D_s3.avi', 'p23_fslice_skelet3D_s2.avi', 'p19_fslice_skelet3D_s3.avi', 'p6_fslice_skelet3D_s3.avi', 'p18_fslice_skelet3D_s2.avi', 'p51_fslice_skelet3D_s3.avi', 'p3_fslice_skelet3D_s3.avi', 'p42_fslice_skelet3D_s2.avi', 'p51_fslice_skelet3D_s2.avi', 'p43_fslice_skelet3D_s2.avi', 'p54_fslice_skelet3D_s2.avi', 'p18_fslice_skelet3D_s3.avi', 'p25_fslice_skelet3D_s2.avi', 'p16_fslice_skelet3D_s3.avi', 'p25_fslice_skelet3D_s3.avi', 'p14_fslice_skelet3D_s2.avi', 'p44_fslice_skelet3D_s3.avi', 'p4_fslice_skelet3D_s3.avi', 'p15_fslice_skelet3D_s2.avi', 'p48_fslice_skelet3D_s3.avi', 'p2_fslice_skelet3D_s2.avi', 'p31_fslice_skelet3D_s3.avi', 'p12_fslice_skelet3D_s2.avi', 'p12_fslice_skelet3D_s3.avi', 'p17_fslice_skelet3D_s2.avi', 'p26_fslice_skelet3D_s2.avi', 'p40_fslice_skelet3D_s3.avi', 'p21_fslice_skelet3D_s2.avi', 'p4_fslice_skelet3D_s2.avi', 'p11_fslice_skelet3D_s2.avi', 'p22_fslice_skelet3D_s2.avi', 'p15_fslice_skelet3D_s3.avi', 'p9_fslice_skelet3D_s2.avi', 'p52_fslice_skelet3D_s3.avi', 'p10_fslice_skelet3D_s3.avi', 'p29_fslice_skelet3D_s2.avi', 'p36_fslice_skelet3D_s3.avi', 'p55_fslice_skelet3D_s2.avi', 'p39_fslice_skelet3D_s3.avi', 'p30_fslice_skelet3D_s2.avi', 'p41_fslice_skelet3D_s2.avi', 'p22_fslice_skelet3D_s3.avi', 'p13_fslice_skelet3D_s2.avi', 'p30_fslice_skelet3D_s3.avi', 'p8_fslice_skelet3D_s3.avi', 'p50_fslice_skelet3D_s3.avi', 'p20_fslice_skelet3D_s3.avi', 'p27_fslice_skelet3D_s2.avi', 'p1_fslice_skelet3D_s3.avi', 'p37_fslice_skelet3D_s2.avi', 'p36_fslice_skelet3D_s2.avi', 'p29_fslice_skelet3D_s3.avi', 'p13_fslice_skelet3D_s3.avi', 'p55_fslice_skelet3D_s1.avi', 'p10_fslice_skelet3D_s2.avi', 'p1_fslice_skelet3D_s2.avi', 'p38_fslice_skelet3D_s3.avi', 'p9_fslice_skelet3D_s3.avi', 'p27_fslice_skelet3D_s3.avi', 'p32_fslice_skelet3D_s3.avi', 'p21_fslice_skelet3D_s3.avi', 'p54_fslice_skelet3D_s3.avi', 'p2_fslice_skelet3D_s3.avi', 'p47_fslice_skelet3D_s3.avi', 'p3_fslice_skelet3D_s2.avi', 'p38_fslice_skelet3D_s2.avi', 'p26_fslice_skelet3D_s3.avi', 'p7_fslice_skelet3D_s2.avi', 'p35_fslice_skelet3D_s3.avi', 'p8_fslice_skelet3D_s2.avi', 'p39_fslice_skelet3D_s2.avi', 'p5_fslice_skelet3D_s2.avi', 'p24_fslice_skelet3D_s3.avi', 'p33_fslice_skelet3D_s3.avi', 'p46_fslice_skelet3D_s2.avi', 'p1_fslice_skelet3D_s1.avi', 'p7_fslice_skelet3D_s3.avi']\n",
            "----------------------------------------\n",
            "Root: VIDEO_Skelet3D/forehand_flat\n",
            "Dirs: []\n",
            "Files: ['p15_foreflat_skelet3D_s3.avi', 'p31_foreflat_skelet3D_s1.avi', 'p3_foreflat_skelet3D_s2.avi', 'p53_foreflat_skelet3D_s3.avi', 'p54_foreflat_skelet3D_s2.avi', 'p24_foreflat_skelet3D_s3.avi', 'p51_foreflat_skelet3D_s2.avi', 'p23_foreflat_skelet3D_s3.avi', 'p42_foreflat_skelet3D_s2.avi', 'p34_foreflat_skelet3D_s2.avi', 'p29_foreflat_skelet3D_s2.avi', 'p4_foreflat_skelet3D_s3.avi', 'p13_foreflat_skelet3D_s2.avi', 'p5_foreflat_skelet3D_s3.avi', 'p53_foreflat_skelet3D_s2.avi', 'p19_foreflat_skelet3D_s3.avi', 'p26_foreflat_skelet3D_s3.avi', 'p6_foreflat_skelet3D_s3.avi', 'p21_foreflat_skelet3D_s3.avi', 'p55_foreflat_skelet3D_s2.avi', 'p17_foreflat_skelet3D_s2.avi', 'p35_foreflat_skelet3D_s2.avi', 'p40_foreflat_skelet3D_s2.avi', 'p4_foreflat_skelet3D_s1.avi', 'p44_foreflat_skelet3D_s3.avi', 'p23_foreflat_skelet3D_s2.avi', 'p41_foreflat_skelet3D_s2.avi', 'p42_foreflat_skelet3D_s3.avi', 'p7_foreflat_skelet3D_s3.avi', 'p7_foreflat_skelet3D_s2.avi', 'p16_foreflat_skelet3D_s2.avi', 'p43_foreflat_skelet3D_s3.avi', 'p36_foreflat_skelet3D_s3.avi', 'p10_foreflat_skelet3D_s3.avi', 'p46_foreflat_skelet3D_s2.avi', 'p10_foreflat_skelet3D_s2.avi', 'p27_foreflat_skelet3D_s2.avi', 'p31_foreflat_skelet3D_s2.avi', 'p18_foreflat_skelet3D_s2.avi', 'p15_foreflat_skelet3D_s2.avi', 'p33_foreflat_skelet3D_s2.avi', 'p18_foreflat_skelet3D_s3.avi', 'p38_foreflat_skelet3D_s3.avi', 'p11_foreflat_skelet3D_s3.avi', 'p34_foreflat_skelet3D_s3.avi', 'p2_foreflat_skelet3D_s2.avi', 'p12_foreflat_skelet3D_s3.avi', 'p44_foreflat_skelet3D_s2.avi', 'p3_foreflat_skelet3D_s1.avi', 'p29_foreflat_skelet3D_s3.avi', 'p8_foreflat_skelet3D_s1.avi', 'p1_foreflat_skelet3D_s3.avi', 'p52_foreflat_skelet3D_s2.avi', 'p30_foreflat_skelet3D_s3.avi', 'p26_foreflat_skelet3D_s2.avi', 'p41_foreflat_skelet3D_s3.avi', 'p16_foreflat_skelet3D_s3.avi', 'p38_foreflat_skelet3D_s2.avi', 'p13_foreflat_skelet3D_s3.avi', 'p46_foreflat_skelet3D_s3.avi', 'p48_foreflat_skelet3D_s2.avi', 'p17_foreflat_skelet3D_s3.avi', 'p49_foreflat_skelet3D_s3.avi', 'p25_foreflat_skelet3D_s3.avi', 'p11_foreflat_skelet3D_s1.avi', 'p9_foreflat_skelet3D_s3.avi', 'p49_foreflat_skelet3D_s2.avi', 'p47_foreflat_skelet3D_s3.avi', 'p24_foreflat_skelet3D_s2.avi', 'p8_foreflat_skelet3D_s3.avi', 'p22_foreflat_skelet3D_s3.avi', 'p39_foreflat_skelet3D_s3.avi', 'p32_foreflat_skelet3D_s3.avi', 'p50_foreflat_skelet3D_s3.avi', 'p20_foreflat_skelet3D_s2.avi', 'p27_foreflat_skelet3D_s3.avi', 'p37_foreflat_skelet3D_s3.avi', 'p48_foreflat_skelet3D_s3.avi', 'p31_foreflat_skelet3D_s3.avi', 'p9_foreflat_skelet3D_s2.avi', 'p11_foreflat_skelet3D_s2.avi', 'p25_foreflat_skelet3D_s2.avi', 'p35_foreflat_skelet3D_s3.avi', 'p43_foreflat_skelet3D_s2.avi', 'p47_foreflat_skelet3D_s2.avi', 'p22_foreflat_skelet3D_s2.avi', 'p8_foreflat_skelet3D_s2.avi', 'p12_foreflat_skelet3D_s2.avi', 'p45_foreflat_skelet3D_s3.avi', 'p49_foreflat_skelet3D_s1.avi', 'p3_foreflat_skelet3D_s3.avi', 'p28_foreflat_skelet3D_s3.avi', 'p30_foreflat_skelet3D_s2.avi', 'p37_foreflat_skelet3D_s2.avi', 'p4_foreflat_skelet3D_s2.avi', 'p51_foreflat_skelet3D_s3.avi', 'p52_foreflat_skelet3D_s3.avi', 'p14_foreflat_skelet3D_s2.avi', 'p1_foreflat_skelet3D_s2.avi', 'p20_foreflat_skelet3D_s3.avi', 'p28_foreflat_skelet3D_s2.avi', 'p2_foreflat_skelet3D_s3.avi', 'p40_foreflat_skelet3D_s3.avi', 'p14_foreflat_skelet3D_s3.avi', 'p45_foreflat_skelet3D_s2.avi', 'p36_foreflat_skelet3D_s2.avi', 'p5_foreflat_skelet3D_s2.avi', 'p39_foreflat_skelet3D_s2.avi', 'p33_foreflat_skelet3D_s3.avi', 'p54_foreflat_skelet3D_s3.avi']\n",
            "----------------------------------------\n",
            "Root: VIDEO_Skelet3D/slice_service\n",
            "Dirs: []\n",
            "Files: ['p28_serslice_skelet3D_s3.avi', 'p4_serslice_skelet3D_s2.avi', 'p40_serslice_skelet3D_s2.avi', 'p54_serslice_skelet3D_s2.avi', 'p21_serslice_skelet3D_s2.avi', 'p51_serslice_skelet3D_s2.avi', 'p39_serslice_skelet3D_s3.avi', 'p10_serslice_skelet3D_s3.avi', 'p51_serslice_skelet3D_s1.avi', 'p13_serslice_skelet3D_s2.avi', 'p18_serslice_skelet3D_s2.avi', 'p27_serslice_skelet3D_s2.avi', 'p45_serslice_skelet3D_s3.avi', 'p32_serslice_skelet3D_s2.avi', 'p29_serslice_skelet3D_s2.avi', 'p30_serslice_skelet3D_s3.avi', 'p1_serslice_skelet3D_s2.avi', 'p26_serslice_skelet3D_s3.avi', 'p44_serslice_skelet3D_s3.avi', 'p48_serslice_skelet3D_s3.avi', 'p34_serslice_skelet3D_s2.avi', 'p21_serslice_skelet3D_s3.avi', 'p44_serslice_skelet3D_s2.avi', 'p20_serslice_skelet3D_s3.avi', 'p9_serslice_skelet3D_s2.avi', 'p39_serslice_skelet3D_s2.avi', 'p33_serslice_skelet3D_s3.avi', 'p16_serslice_skelet3D_s2.avi', 'p50_serslice_skelet3D_s2.avi', 'p17_serslice_skelet3D_s3.avi', 'p13_serslice_skelet3D_s3.avi', 'p22_serslice_skelet3D_s3.avi', 'p25_serslice_skelet3D_s2.avi', 'p31_serslice_skelet3D_s3.avi', 'p42_serslice_skelet3D_s2.avi', 'p15_serslice_skelet3D_s3.avi', 'p8_serslice_skelet3D_s2.avi', 'p27_serslice_skelet3D_s3.avi', 'p6_serslice_skelet3D_s3.avi', 'p21_serslice_skelet3D_s1.avi', 'p8_serslice_skelet3D_s3.avi', 'p35_serslice_skelet3D_s3.avi', 'p7_serslice_skelet3D_s3.avi', 'p12_serslice_skelet3D_s3.avi', 'p38_serslice_skelet3D_s3.avi', 'p38_serslice_skelet3D_s2.avi', 'p47_serslice_skelet3D_s2.avi', 'p53_serslice_skelet3D_s2.avi', 'p1_serslice_skelet3D_s3.avi', 'p18_serslice_skelet3D_s3.avi', 'p23_serslice_skelet3D_s3.avi', 'p36_serslice_skelet3D_s3.avi', 'p47_serslice_skelet3D_s3.avi', 'p46_serslice_skelet3D_s3.avi', 'p6_serslice_skelet3D_s2.avi', 'p24_serslice_skelet3D_s2.avi', 'p46_serslice_skelet3D_s2.avi', 'p14_serslice_skelet3D_s3.avi', 'p16_serslice_skelet3D_s1.avi', 'p33_serslice_skelet3D_s2.avi', 'p53_serslice_skelet3D_s3.avi', 'p19_serslice_skelet3D_s3.avi', 'p9_serslice_skelet3D_s1.avi', 'p4_serslice_skelet3D_s3.avi', 'p41_serslice_skelet3D_s3.avi', 'p24_serslice_skelet3D_s3.avi', 'p3_serslice_skelet3D_s2.avi', 'p17_serslice_skelet3D_s2.avi', 'p23_serslice_skelet3D_s2.avi', 'p49_serslice_skelet3D_s2.avi', 'p40_serslice_skelet3D_s3.avi', 'p49_serslice_skelet3D_s3.avi', 'p14_serslice_skelet3D_s2.avi', 'p10_serslice_skelet3D_s2.avi', 'p2_serslice_skelet3D_s3.avi', 'p50_serslice_skelet3D_s3.avi', 'p42_serslice_skelet3D_s3.avi', 'p55_serslice_skelet3D_s3.avi', 'p34_serslice_skelet3D_s3.avi', 'p5_serslice_skelet3D_s2.avi', 'p48_serslice_skelet3D_s2.avi', 'p15_serslice_skelet3D_s2.avi', 'p52_serslice_skelet3D_s3.avi', 'p43_serslice_skelet3D_s3.avi', 'p43_serslice_skelet3D_s2.avi', 'p54_serslice_skelet3D_s3.avi', 'p29_serslice_skelet3D_s3.avi', 'p9_serslice_skelet3D_s3.avi', 'p16_serslice_skelet3D_s3.avi', 'p20_serslice_skelet3D_s2.avi', 'p3_serslice_skelet3D_s3.avi', 'p51_serslice_skelet3D_s3.avi', 'p26_serslice_skelet3D_s2.avi', 'p25_serslice_skelet3D_s3.avi', 'p28_serslice_skelet3D_s2.avi', 'p11_serslice_skelet3D_s3.avi', 'p32_serslice_skelet3D_s3.avi', 'p35_serslice_skelet3D_s2.avi', 'p30_serslice_skelet3D_s2.avi', 'p5_serslice_skelet3D_s3.avi']\n",
            "----------------------------------------\n",
            "Root: VIDEO_Skelet3D/forehand_volley\n",
            "Dirs: []\n",
            "Files: ['p44_fvolley_skelet3D_s3.avi', 'p13_fvolley_skelet3D_s2.avi', 'p14_fvolley_skelet3D_s2.avi', 'p19_fvolley_skelet3D_s3.avi', 'p28_fvolley_skelet3D_s3.avi', 'p42_fvolley_skelet3D_s3.avi', 'p18_fvolley_skelet3D_s3.avi', 'p48_fvolley_skelet3D_s2.avi', 'p23_fvolley_skelet3D_s2.avi', 'p43_fvolley_skelet3D_s3.avi', 'p39_fvolley_skelet3D_s2.avi', 'p35_fvolley_skelet3D_s2.avi', 'p46_fvolley_skelet3D_s3.avi', 'p2_fvolley_skelet3D_s2.avi', 'p37_fvolley_skelet3D_s3.avi', 'p1_fvolley_skelet3D_s3.avi', 'p36_fvolley_skelet3D_s3.avi', 'p54_fvolley_skelet3D_s3.avi', 'p4_fvolley_skelet3D_s2.avi', 'p29_fvolley_skelet3D_s2.avi', 'p3_fvolley_skelet3D_s2.avi', 'p31_fvolley_skelet3D_s3.avi', 'p10_fvolley_skelet3D_s2.avi', 'p48_fvolley_skelet3D_s3.avi', 'p39_fvolley_skelet3D_s3.avi', 'p20_fvolley_skelet3D_s2.avi', 'p35_fvolley_skelet3D_s3.avi', 'p30_fvolley_skelet3D_s1.avi', 'p55_fvolley_skelet3D_s2.avi', 'p8_fvolley_skelet3D_s2.avi', 'p45_fvolley_skelet3D_s3.avi', 'p27_fvolley_skelet3D_s3.avi', 'p33_fvolley_skelet3D_s3.avi', 'p47_fvolley_skelet3D_s2.avi', 'p15_fvolley_skelet3D_s3.avi', 'p13_fvolley_skelet3D_s3.avi', 'p7_fvolley_skelet3D_s3.avi', 'p29_fvolley_skelet3D_s3.avi', 'p3_fvolley_skelet3D_s3.avi', 'p9_fvolley_skelet3D_s2.avi', 'p40_fvolley_skelet3D_s3.avi', 'p47_fvolley_skelet3D_s3.avi', 'p11_fvolley_skelet3D_s3.avi', 'p38_fvolley_skelet3D_s2.avi', 'p8_fvolley_skelet3D_s3.avi', 'p23_fvolley_skelet3D_s3.avi', 'p30_fvolley_skelet3D_s3.avi', 'p16_fvolley_skelet3D_s3.avi', 'p12_fvolley_skelet3D_s3.avi', 'p2_fvolley_skelet3D_s3.avi', 'p51_fvolley_skelet3D_s3.avi', 'p22_fvolley_skelet3D_s3.avi', 'p5_fvolley_skelet3D_s2.avi', 'p24_fvolley_skelet3D_s2.avi', 'p45_fvolley_skelet3D_s2.avi', 'p41_fvolley_skelet3D_s3.avi', 'p42_fvolley_skelet3D_s2.avi', 'p6_fvolley_skelet3D_s3.avi', 'p17_fvolley_skelet3D_s3.avi', 'p11_fvolley_skelet3D_s2.avi', 'p25_fvolley_skelet3D_s2.avi', 'p34_fvolley_skelet3D_s3.avi', 'p24_fvolley_skelet3D_s3.avi', 'p17_fvolley_skelet3D_s2.avi', 'p1_fvolley_skelet3D_s2.avi', 'p41_fvolley_skelet3D_s2.avi', 'p52_fvolley_skelet3D_s3.avi', 'p22_fvolley_skelet3D_s2.avi', 'p26_fvolley_skelet3D_s3.avi', 'p53_fvolley_skelet3D_s3.avi', 'p19_fvolley_skelet3D_s2.avi', 'p40_fvolley_skelet3D_s2.avi', 'p21_fvolley_skelet3D_s3.avi', 'p4_fvolley_skelet3D_s3.avi', 'p14_fvolley_skelet3D_s3.avi', 'p31_fvolley_skelet3D_s2.avi', 'p46_fvolley_skelet3D_s2.avi', 'p44_fvolley_skelet3D_s2.avi', 'p10_fvolley_skelet3D_s3.avi', 'p18_fvolley_skelet3D_s2.avi', 'p6_fvolley_skelet3D_s2.avi', 'p9_fvolley_skelet3D_s3.avi', 'p5_fvolley_skelet3D_s1.avi', 'p28_fvolley_skelet3D_s2.avi', 'p55_fvolley_skelet3D_s3.avi', 'p54_fvolley_skelet3D_s2.avi', 'p16_fvolley_skelet3D_s2.avi', 'p30_fvolley_skelet3D_s2.avi', 'p5_fvolley_skelet3D_s3.avi', 'p38_fvolley_skelet3D_s3.avi', 'p25_fvolley_skelet3D_s3.avi', 'p20_fvolley_skelet3D_s3.avi', 'p15_fvolley_skelet3D_s2.avi']\n",
            "----------------------------------------\n"
          ]
        }
      ],
      "source": [
        "#shows the videos in each folder\n",
        "data_path = 'VIDEO_Skelet3D'\n",
        "\n",
        "# Print out the directory structure\n",
        "for root, dirs, files in os.walk(data_path):\n",
        "    print(f\"Root: {root}\")\n",
        "    print(f\"Dirs: {dirs}\")\n",
        "    print(f\"Files: {files}\")\n",
        "    print(\"-\" * 40)"
      ]
    },
    {
      "cell_type": "code",
      "execution_count": 9,
      "metadata": {
        "id": "fvbjFQyiv_DK"
      },
      "outputs": [],
      "source": [
        "def convert_video_to_npy(video_path, resize_shape=(224, 224)):\n",
        "    \"\"\"\n",
        "    Converts a video to a numpy array of resized frames.\n",
        "\n",
        "    Parameters:\n",
        "    - video_path: The path to the video file.\n",
        "    - resize_shape: The desired frame size (default is 224x224).\n",
        "\n",
        "    Returns:\n",
        "    - frames_array: Numpy array containing all frames.\n",
        "    \"\"\"\n",
        "    cap = cv2.VideoCapture(video_path)\n",
        "    frames = []\n",
        "\n",
        "    if not cap.isOpened():\n",
        "        raise ValueError(f\"Error opening video file: {video_path}\")\n",
        "\n",
        "    while True:\n",
        "        ret, frame = cap.read()\n",
        "        if not ret:\n",
        "            break\n",
        "        # Resize frame to the desired shape\n",
        "        frame_resized = cv2.resize(frame, resize_shape)\n",
        "        frames.append(frame_resized)\n",
        "\n",
        "    cap.release()\n",
        "\n",
        "    # Convert list of frames into a numpy array\n",
        "    frames_array = np.array(frames)\n",
        "    return frames_array\n",
        "\n",
        "def create_subfolders(pastas_dir, output_dir):\n",
        "    \"\"\"\n",
        "    Creates subfolders in the output directory and processes .avi files.\n",
        "\n",
        "    Parameters:\n",
        "    - pastas_dir: The root directory containing class folders.\n",
        "    - output_dir: The directory where the .npy files will be saved.\n",
        "    \"\"\"\n",
        "    for pastas_filename in os.listdir(pastas_dir):\n",
        "        origem_path = os.path.join(pastas_dir, pastas_filename)\n",
        "\n",
        "        # Check if it's a directory (ignore files)\n",
        "        if os.path.isdir(origem_path):\n",
        "            nova_pasta_path = os.path.join(output_dir, pastas_filename)\n",
        "            os.makedirs(nova_pasta_path, exist_ok=True)\n",
        "\n",
        "            # Process each video file in the subfolder\n",
        "            videos_dir = os.path.join(pastas_dir, pastas_filename)\n",
        "            for video_filename in os.listdir(videos_dir):\n",
        "                if video_filename.endswith(\".avi\"):  # Process only .avi files\n",
        "                    video_path = os.path.join(videos_dir, video_filename)\n",
        "                    video_name = os.path.splitext(video_filename)[0]\n",
        "\n",
        "                    try:\n",
        "                        # Convert the video to numpy array\n",
        "                        frames_array = convert_video_to_npy(video_path)\n",
        "\n",
        "                        # Save the numpy array to a .npy file\n",
        "                        output_filename = os.path.join(nova_pasta_path, f\"{video_name}.npy\")\n",
        "                        np.save(output_filename, frames_array)\n",
        "                    except ValueError as e:\n",
        "                        print(f\"Error processing {video_filename}: {e}\")\n",
        "                    except Exception as e:\n",
        "                        print(f\"Unexpected error with {video_filename}: {e}\")\n",
        "\n",
        "# Example usage\n",
        "pastas_dir = 'VIDEO_Skelet3D'  # Directory with .avi videos\n",
        "npy_dir = 'npy_videos'  # Directory to save .npy files\n",
        "os.makedirs(npy_dir, exist_ok=True)\n",
        "\n",
        "# Process videos and maintain class folders\n",
        "create_subfolders(pastas_dir, npy_dir)"
      ]
    },
    {
      "cell_type": "code",
      "execution_count": 10,
      "metadata": {
        "id": "4Kl8O3i9BQFz"
      },
      "outputs": [],
      "source": [
        "# Pad/truncate to 120 frames\n",
        "def pad_or_truncate_keypoints(keypoints, target_length=120):\n",
        "    \"\"\"\n",
        "    Pads or truncates a keypoints array to a fixed number of frames (target_length).\n",
        "    If padding is needed, uses zeros.\n",
        "    \"\"\"\n",
        "    current_length = keypoints.shape[0]\n",
        "\n",
        "    if current_length == target_length:\n",
        "        return keypoints\n",
        "    elif current_length > target_length:\n",
        "        return keypoints[:target_length]  # Truncate\n",
        "    else:\n",
        "        # Pad with zeros\n",
        "        padding = np.zeros((target_length - current_length, keypoints.shape[1], keypoints.shape[2]))\n",
        "        return np.concatenate([keypoints, padding], axis=0)"
      ]
    },
    {
      "cell_type": "code",
      "execution_count": 11,
      "metadata": {
        "id": "8Yb1A2XfSFkd",
        "colab": {
          "base_uri": "https://localhost:8080/"
        },
        "outputId": "34e005b1-470e-4b41-97a8-84e472887b49"
      },
      "outputs": [
        {
          "output_type": "stream",
          "name": "stderr",
          "text": [
            "Processing actions: 100%|██████████| 12/12 [23:22<00:00, 116.89s/it]"
          ]
        },
        {
          "output_type": "stream",
          "name": "stdout",
          "text": [
            "\n",
            " Summary of extracted keypoints:\n",
            "- backhand: 97 videos processed.\n",
            "- backhand2hands: 107 videos processed.\n",
            "- backhand_slice: 100 videos processed.\n",
            "- backhand_volley: 103 videos processed.\n",
            "- flat_service: 96 videos processed.\n",
            "- forehand_flat: 110 videos processed.\n",
            "- forehand_openstands: 101 videos processed.\n",
            "- forehand_slice: 97 videos processed.\n",
            "- forehand_volley: 93 videos processed.\n",
            "- kick_service: 109 videos processed.\n",
            "- slice_service: 100 videos processed.\n",
            "- smash: 104 videos processed.\n",
            "Keypoints for the first frame of p10_backhand_skelet3D_s2.npy in backhand:\n",
            "[[0. 0. 0.]\n",
            " [0. 0. 0.]\n",
            " [0. 0. 0.]\n",
            " [0. 0. 0.]\n",
            " [0. 0. 0.]\n",
            " [0. 0. 0.]\n",
            " [0. 0. 0.]\n",
            " [0. 0. 0.]\n",
            " [0. 0. 0.]\n",
            " [0. 0. 0.]\n",
            " [0. 0. 0.]\n",
            " [0. 0. 0.]\n",
            " [0. 0. 0.]\n",
            " [0. 0. 0.]\n",
            " [0. 0. 0.]\n",
            " [0. 0. 0.]\n",
            " [0. 0. 0.]\n",
            " [0. 0. 0.]\n",
            " [0. 0. 0.]\n",
            " [0. 0. 0.]\n",
            " [0. 0. 0.]\n",
            " [0. 0. 0.]\n",
            " [0. 0. 0.]\n",
            " [0. 0. 0.]\n",
            " [0. 0. 0.]\n",
            " [0. 0. 0.]\n",
            " [0. 0. 0.]\n",
            " [0. 0. 0.]\n",
            " [0. 0. 0.]\n",
            " [0. 0. 0.]\n",
            " [0. 0. 0.]\n",
            " [0. 0. 0.]\n",
            " [0. 0. 0.]]\n"
          ]
        },
        {
          "output_type": "stream",
          "name": "stderr",
          "text": [
            "\n"
          ]
        }
      ],
      "source": [
        "# In theory this will extract the keypoints AND pad/truncate\n",
        "from tqdm import tqdm\n",
        "\n",
        "root_dir = \"npy_videos\"\n",
        "\n",
        "mp_pose = mp.solutions.pose\n",
        "pose = mp_pose.Pose(static_image_mode=False) # This allows MediaPipe to track pose across frames, potentially leading to more stable and accurate keypoint estimations.\n",
        "\n",
        "all_keypoints = {}\n",
        "\n",
        "# Top-level loop with a single progress bar\n",
        "action_folders = sorted([d for d in os.listdir(root_dir) if os.path.isdir(os.path.join(root_dir, d))])\n",
        "for action_folder in tqdm(action_folders, desc=\"Processing actions\"):\n",
        "    action_path = os.path.join(root_dir, action_folder)\n",
        "    all_keypoints[action_folder] = {}\n",
        "\n",
        "    video_files = sorted([f for f in os.listdir(action_path) if f.endswith(\".npy\")])\n",
        "    for video_file in video_files:  # No tqdm here\n",
        "        video_path = os.path.join(action_path, video_file)\n",
        "        try:\n",
        "            sample = np.load(video_path)\n",
        "            video_keypoints = []\n",
        "\n",
        "            for frame in sample:\n",
        "                frame_rgb = cv2.cvtColor(frame, cv2.COLOR_BGR2RGB)\n",
        "                results = pose.process(frame_rgb)\n",
        "\n",
        "                if results.pose_landmarks:\n",
        "                    keypoints = [[lm.x, lm.y, lm.z] for lm in results.pose_landmarks.landmark]\n",
        "                else:\n",
        "                    keypoints = np.zeros((33, 3)).tolist()\n",
        "\n",
        "                video_keypoints.append(keypoints)\n",
        "\n",
        "            video_keypoints = np.array(video_keypoints)\n",
        "            video_keypoints = pad_or_truncate_keypoints(video_keypoints, target_length=120)\n",
        "            all_keypoints[action_folder][video_file] = video_keypoints\n",
        "\n",
        "\n",
        "\n",
        "\n",
        "\n",
        "        except Exception as e:\n",
        "            pass  # Suppress per-video error printing for a clean log\n",
        "\n",
        "# Final summary\n",
        "print(\"\\n Summary of extracted keypoints:\")\n",
        "for action, videos in all_keypoints.items():\n",
        "    print(f\"- {action}: {len(videos)} videos processed.\")\n",
        "\n",
        "# Jsut to see the calues for the first one\n",
        "first_action = list(all_keypoints.keys())[0]\n",
        "first_video = list(all_keypoints[first_action].keys())[0]\n",
        "print(f\"Keypoints for the first frame of {first_video} in {first_action}:\")\n",
        "print(all_keypoints[first_action][first_video][0])"
      ]
    },
    {
      "cell_type": "code",
      "execution_count": 12,
      "metadata": {
        "id": "70WA4t68oSC8",
        "colab": {
          "base_uri": "https://localhost:8080/"
        },
        "outputId": "15d3340a-15d0-4e91-e799-3217196e3324"
      },
      "outputs": [
        {
          "output_type": "stream",
          "name": "stdout",
          "text": [
            "Train: 827, Val: 189, Test: 201\n"
          ]
        }
      ],
      "source": [
        "from collections import defaultdict\n",
        "from sklearn.model_selection import train_test_split\n",
        "\n",
        "def extract_player_id(filename):\n",
        "    # Example: 'player1_video1.npy' → 'player1'\n",
        "    return filename.split('_')[0]\n",
        "\n",
        "# Organize videos by player\n",
        "player_video_map = defaultdict(list)\n",
        "for action, videos in all_keypoints.items():\n",
        "    for video_file in videos:\n",
        "        player_id = extract_player_id(video_file)\n",
        "        player_video_map[player_id].append((action, video_file))\n",
        "\n",
        "# Split player IDs\n",
        "players = list(player_video_map.keys())\n",
        "random.shuffle(players)\n",
        "\n",
        "train_end = int(len(players) * 0.7)\n",
        "val_end = int(len(players) * 0.85)\n",
        "\n",
        "train_players = players[:train_end]\n",
        "val_players = players[train_end:val_end]\n",
        "test_players = players[val_end:]\n",
        "\n",
        "def collect_by_players(player_ids):\n",
        "    dataset = []\n",
        "    for pid in player_ids:\n",
        "        for action, filename in player_video_map[pid]:\n",
        "            keypoints = all_keypoints[action][filename]\n",
        "            dataset.append((keypoints, action))\n",
        "    return dataset\n",
        "\n",
        "train_set = collect_by_players(train_players)\n",
        "val_set = collect_by_players(val_players)\n",
        "test_set = collect_by_players(test_players)\n",
        "\n",
        "print(f\"Train: {len(train_set)}, Val: {len(val_set)}, Test: {len(test_set)}\")\n"
      ]
    },
    {
      "cell_type": "code",
      "execution_count": 21,
      "metadata": {
        "id": "d-_CDLteobl0"
      },
      "outputs": [],
      "source": [
        "class STGCNDataset(Dataset):\n",
        "    def __init__(self, data, label_map):\n",
        "        self.data = data\n",
        "        self.label_map = label_map\n",
        "\n",
        "    def __len__(self):\n",
        "        return len(self.data)\n",
        "\n",
        "    def __getitem__(self, idx):\n",
        "        keypoints, label = self.data[idx]\n",
        "        # Shape: [T, V, C] → [C, T, V, 1]\n",
        "        keypoints = keypoints.transpose((2, 0, 1))  # [C, T, V]\n",
        "        label_idx = self.label_map[label]\n",
        "        return torch.tensor(keypoints, dtype=torch.float32), label_idx\n",
        "\n",
        "# Create label map\n",
        "all_labels = sorted({label for _, label in train_set + val_set + test_set})\n",
        "label_map = {label: i for i, label in enumerate(all_labels)}\n",
        "\n",
        "# Create datasets\n",
        "train_dataset = STGCNDataset(train_set, label_map)\n",
        "val_dataset = STGCNDataset(val_set, label_map)\n",
        "test_dataset = STGCNDataset(test_set, label_map)\n",
        "\n",
        "train_loader = DataLoader(train_dataset, batch_size=16, shuffle=True)\n",
        "val_loader = DataLoader(val_dataset, batch_size=16)\n",
        "test_loader = DataLoader(test_dataset, batch_size=16)\n"
      ]
    },
    {
      "cell_type": "code",
      "source": [
        "# Assume you have a simple ST-GCN model class `STGCN` compatible with [C, T, V]\n",
        "class STGCN(nn.Module):\n",
        "    def __init__(self, in_channels=3, num_classes=10):\n",
        "        super(STGCN, self).__init__()\n",
        "        self.gcn = nn.Sequential(\n",
        "            nn.Conv2d(in_channels, 64, kernel_size=(1, 1)),\n",
        "            nn.ReLU(),\n",
        "            nn.Conv2d(64, 128, kernel_size=(1, 1)),\n",
        "            nn.ReLU(),\n",
        "            nn.AdaptiveAvgPool2d((1, 1))\n",
        "        )\n",
        "        self.fc = nn.Linear(128, num_classes)\n",
        "\n",
        "    def forward(self, x):  # [B, C, T, V]\n",
        "        x = self.gcn(x)\n",
        "        x = x.view(x.size(0), -1)\n",
        "        return self.fc(x)\n"
      ],
      "metadata": {
        "id": "Jz8yWC9ifOXq"
      },
      "execution_count": 19,
      "outputs": []
    },
    {
      "cell_type": "code",
      "source": [
        "device = torch.device(\"cuda\" if torch.cuda.is_available() else \"cpu\")\n",
        "model = STGCN(in_channels=3, num_classes=len(label_map)).to(device)\n",
        "\n",
        "optimizer = torch.optim.Adam(model.parameters(), lr=3e-4)\n",
        "criterion = nn.CrossEntropyLoss()\n",
        "\n",
        "def train_model(model, train_loader, val_loader, epochs=50):\n",
        "    for epoch in range(epochs):\n",
        "        model.train()\n",
        "        train_loss = 0\n",
        "        train_preds, train_labels = [], []\n",
        "\n",
        "        for X, y in train_loader:\n",
        "            X, y = X.to(device), y.to(device)\n",
        "            optimizer.zero_grad()\n",
        "            outputs = model(X)\n",
        "            loss = criterion(outputs, y)\n",
        "            loss.backward()\n",
        "            optimizer.step()\n",
        "\n",
        "            train_loss += loss.item()\n",
        "            train_preds.extend(outputs.argmax(1).cpu().numpy())\n",
        "            train_labels.extend(y.cpu().numpy())\n",
        "\n",
        "        train_acc = accuracy_score(train_labels, train_preds)\n",
        "\n",
        "        # Validation\n",
        "        model.eval()\n",
        "        val_preds, val_labels = [], []\n",
        "        with torch.no_grad():\n",
        "            for X, y in val_loader:\n",
        "                X, y = X.to(device), y.to(device)\n",
        "                outputs = model(X)\n",
        "                val_preds.extend(outputs.argmax(1).cpu().numpy())\n",
        "                val_labels.extend(y.cpu().numpy())\n",
        "\n",
        "        val_acc = accuracy_score(val_labels, val_preds)\n",
        "\n",
        "        print(f\"Epoch {epoch+1}/{epochs} | Train Acc: {train_acc:.4f} | Val Acc: {val_acc:.4f}\")\n",
        "\n",
        "train_model(model, train_loader, val_loader, epochs=50)\n"
      ],
      "metadata": {
        "colab": {
          "base_uri": "https://localhost:8080/"
        },
        "id": "S0P-U6W3fRuQ",
        "outputId": "a4b8d70c-f31b-4114-9461-6e549d51674f"
      },
      "execution_count": 34,
      "outputs": [
        {
          "output_type": "stream",
          "name": "stdout",
          "text": [
            "Epoch 1/50 | Train Acc: 0.0798 | Val Acc: 0.0847\n",
            "Epoch 2/50 | Train Acc: 0.0919 | Val Acc: 0.0741\n",
            "Epoch 3/50 | Train Acc: 0.0943 | Val Acc: 0.0741\n",
            "Epoch 4/50 | Train Acc: 0.0943 | Val Acc: 0.0741\n",
            "Epoch 5/50 | Train Acc: 0.0943 | Val Acc: 0.0741\n",
            "Epoch 6/50 | Train Acc: 0.0943 | Val Acc: 0.0741\n",
            "Epoch 7/50 | Train Acc: 0.0943 | Val Acc: 0.0741\n",
            "Epoch 8/50 | Train Acc: 0.0943 | Val Acc: 0.0741\n",
            "Epoch 9/50 | Train Acc: 0.0943 | Val Acc: 0.0741\n",
            "Epoch 10/50 | Train Acc: 0.0834 | Val Acc: 0.0741\n",
            "Epoch 11/50 | Train Acc: 0.0943 | Val Acc: 0.0741\n",
            "Epoch 12/50 | Train Acc: 0.0943 | Val Acc: 0.0741\n",
            "Epoch 13/50 | Train Acc: 0.0943 | Val Acc: 0.0741\n",
            "Epoch 14/50 | Train Acc: 0.0943 | Val Acc: 0.0741\n",
            "Epoch 15/50 | Train Acc: 0.0943 | Val Acc: 0.0741\n",
            "Epoch 16/50 | Train Acc: 0.0943 | Val Acc: 0.0741\n",
            "Epoch 17/50 | Train Acc: 0.0943 | Val Acc: 0.0741\n",
            "Epoch 18/50 | Train Acc: 0.0943 | Val Acc: 0.0741\n",
            "Epoch 19/50 | Train Acc: 0.0943 | Val Acc: 0.0741\n",
            "Epoch 20/50 | Train Acc: 0.0943 | Val Acc: 0.0741\n",
            "Epoch 21/50 | Train Acc: 0.0943 | Val Acc: 0.0741\n",
            "Epoch 22/50 | Train Acc: 0.0943 | Val Acc: 0.0741\n",
            "Epoch 23/50 | Train Acc: 0.0943 | Val Acc: 0.0741\n",
            "Epoch 24/50 | Train Acc: 0.0943 | Val Acc: 0.0741\n",
            "Epoch 25/50 | Train Acc: 0.0943 | Val Acc: 0.0741\n",
            "Epoch 26/50 | Train Acc: 0.0943 | Val Acc: 0.0741\n",
            "Epoch 27/50 | Train Acc: 0.0943 | Val Acc: 0.0741\n",
            "Epoch 28/50 | Train Acc: 0.0943 | Val Acc: 0.0741\n",
            "Epoch 29/50 | Train Acc: 0.0943 | Val Acc: 0.0741\n",
            "Epoch 30/50 | Train Acc: 0.0943 | Val Acc: 0.0741\n",
            "Epoch 31/50 | Train Acc: 0.0943 | Val Acc: 0.0741\n",
            "Epoch 32/50 | Train Acc: 0.0943 | Val Acc: 0.0741\n",
            "Epoch 33/50 | Train Acc: 0.0943 | Val Acc: 0.0741\n",
            "Epoch 34/50 | Train Acc: 0.0943 | Val Acc: 0.0741\n",
            "Epoch 35/50 | Train Acc: 0.0943 | Val Acc: 0.0741\n",
            "Epoch 36/50 | Train Acc: 0.0943 | Val Acc: 0.0741\n",
            "Epoch 37/50 | Train Acc: 0.0943 | Val Acc: 0.0741\n",
            "Epoch 38/50 | Train Acc: 0.0943 | Val Acc: 0.0741\n",
            "Epoch 39/50 | Train Acc: 0.0955 | Val Acc: 0.0741\n",
            "Epoch 40/50 | Train Acc: 0.0943 | Val Acc: 0.0741\n",
            "Epoch 41/50 | Train Acc: 0.0943 | Val Acc: 0.0741\n",
            "Epoch 42/50 | Train Acc: 0.0955 | Val Acc: 0.0741\n",
            "Epoch 43/50 | Train Acc: 0.0955 | Val Acc: 0.0741\n",
            "Epoch 44/50 | Train Acc: 0.0955 | Val Acc: 0.0741\n",
            "Epoch 45/50 | Train Acc: 0.0955 | Val Acc: 0.0741\n",
            "Epoch 46/50 | Train Acc: 0.0955 | Val Acc: 0.0741\n",
            "Epoch 47/50 | Train Acc: 0.0919 | Val Acc: 0.0741\n",
            "Epoch 48/50 | Train Acc: 0.0967 | Val Acc: 0.0741\n",
            "Epoch 49/50 | Train Acc: 0.0967 | Val Acc: 0.0741\n",
            "Epoch 50/50 | Train Acc: 0.0979 | Val Acc: 0.0741\n"
          ]
        }
      ]
    },
    {
      "cell_type": "code",
      "source": [
        "torch.save(model.state_dict(), \"stgcn_model.pth\")"
      ],
      "metadata": {
        "id": "H11RPDClg5Io"
      },
      "execution_count": 33,
      "outputs": []
    },
    {
      "cell_type": "code",
      "source": [
        "model.load_state_dict(torch.load(\"stgcn_model.pth\"))\n",
        "model.to(device)"
      ],
      "metadata": {
        "colab": {
          "base_uri": "https://localhost:8080/"
        },
        "id": "GPK8fPxyg7a9",
        "outputId": "c3638f33-9bad-44e6-cae6-3e968a50190d"
      },
      "execution_count": 28,
      "outputs": [
        {
          "output_type": "execute_result",
          "data": {
            "text/plain": [
              "STGCN(\n",
              "  (gcn): Sequential(\n",
              "    (0): Conv2d(3, 64, kernel_size=(1, 1), stride=(1, 1))\n",
              "    (1): ReLU()\n",
              "    (2): Conv2d(64, 128, kernel_size=(1, 1), stride=(1, 1))\n",
              "    (3): ReLU()\n",
              "    (4): AdaptiveAvgPool2d(output_size=(1, 1))\n",
              "  )\n",
              "  (fc): Linear(in_features=128, out_features=12, bias=True)\n",
              ")"
            ]
          },
          "metadata": {},
          "execution_count": 28
        }
      ]
    },
    {
      "cell_type": "code",
      "source": [
        "from sklearn.metrics import classification_report, confusion_matrix\n",
        "import numpy as np\n",
        "import seaborn as sns\n",
        "import matplotlib.pyplot as plt\n",
        "\n",
        "def test_model(model, test_loader, label_map):\n",
        "    model.eval()\n",
        "    test_preds, test_labels = [], []\n",
        "\n",
        "    with torch.no_grad():\n",
        "        for X, y in test_loader:\n",
        "            X, y = X.to(device), y.to(device)\n",
        "            outputs = model(X)\n",
        "            preds = outputs.argmax(dim=1)\n",
        "            test_preds.extend(preds.cpu().numpy())\n",
        "            test_labels.extend(y.cpu().numpy())\n",
        "\n",
        "    acc = accuracy_score(test_labels, test_preds)\n",
        "    print(f\"\\n✅ Final Test Accuracy: {acc:.4f}\")\n",
        "\n",
        "    # Reverse label_map to get class names\n",
        "    idx_to_class = {v: k for k, v in label_map.items()}\n",
        "\n",
        "    # Convert indices to class names\n",
        "    pred_classes = [idx_to_class[p] for p in test_preds]\n",
        "    true_classes = [idx_to_class[t] for t in test_labels]\n",
        "\n",
        "    # Print classification report\n",
        "    print(\"\\n📊 Classification Report:\")\n",
        "    print(classification_report(true_classes, pred_classes, digits=4))\n",
        "\n",
        "    # Confusion matrix\n",
        "    cm = confusion_matrix(true_classes, pred_classes, labels=list(label_map.keys()))\n",
        "    plt.figure(figsize=(10, 8))\n",
        "    sns.heatmap(cm, annot=True, fmt='d', xticklabels=label_map.keys(), yticklabels=label_map.keys(), cmap=\"Blues\")\n",
        "    plt.xlabel('Predicted')\n",
        "    plt.ylabel('True')\n",
        "    plt.title('Confusion Matrix')\n",
        "    plt.show()\n",
        "\n",
        ""
      ],
      "metadata": {
        "id": "Iswmtvftgo-4"
      },
      "execution_count": 30,
      "outputs": []
    },
    {
      "cell_type": "code",
      "source": [
        "test_model(model, test_loader, label_map)\n"
      ],
      "metadata": {
        "colab": {
          "base_uri": "https://localhost:8080/",
          "height": 1000
        },
        "id": "-3ykquBvg0PN",
        "outputId": "137c273c-ac9a-4732-b741-d3eb4fae0203"
      },
      "execution_count": 31,
      "outputs": [
        {
          "output_type": "stream",
          "name": "stdout",
          "text": [
            "\n",
            "✅ Final Test Accuracy: 0.0896\n",
            "\n",
            "📊 Classification Report:\n",
            "                     precision    recall  f1-score   support\n",
            "\n",
            "           backhand     0.0000    0.0000    0.0000        15\n",
            "     backhand2hands     0.0000    0.0000    0.0000        17\n",
            "     backhand_slice     0.0000    0.0000    0.0000        17\n",
            "    backhand_volley     0.0000    0.0000    0.0000        17\n",
            "       flat_service     0.0000    0.0000    0.0000        15\n",
            "      forehand_flat     0.0896    1.0000    0.1644        18\n",
            "forehand_openstands     0.0000    0.0000    0.0000        16\n",
            "     forehand_slice     0.0000    0.0000    0.0000        16\n",
            "    forehand_volley     0.0000    0.0000    0.0000        17\n",
            "       kick_service     0.0000    0.0000    0.0000        16\n",
            "      slice_service     0.0000    0.0000    0.0000        18\n",
            "              smash     0.0000    0.0000    0.0000        19\n",
            "\n",
            "           accuracy                         0.0896       201\n",
            "          macro avg     0.0075    0.0833    0.0137       201\n",
            "       weighted avg     0.0080    0.0896    0.0147       201\n",
            "\n"
          ]
        },
        {
          "output_type": "stream",
          "name": "stderr",
          "text": [
            "/usr/local/lib/python3.11/dist-packages/sklearn/metrics/_classification.py:1565: UndefinedMetricWarning: Precision is ill-defined and being set to 0.0 in labels with no predicted samples. Use `zero_division` parameter to control this behavior.\n",
            "  _warn_prf(average, modifier, f\"{metric.capitalize()} is\", len(result))\n",
            "/usr/local/lib/python3.11/dist-packages/sklearn/metrics/_classification.py:1565: UndefinedMetricWarning: Precision is ill-defined and being set to 0.0 in labels with no predicted samples. Use `zero_division` parameter to control this behavior.\n",
            "  _warn_prf(average, modifier, f\"{metric.capitalize()} is\", len(result))\n",
            "/usr/local/lib/python3.11/dist-packages/sklearn/metrics/_classification.py:1565: UndefinedMetricWarning: Precision is ill-defined and being set to 0.0 in labels with no predicted samples. Use `zero_division` parameter to control this behavior.\n",
            "  _warn_prf(average, modifier, f\"{metric.capitalize()} is\", len(result))\n"
          ]
        },
        {
          "output_type": "display_data",
          "data": {
            "text/plain": [
              "<Figure size 1000x800 with 2 Axes>"
            ],
            "image/png": "[encoded data removed]"
          },
          "metadata": {}
        }
      ]
    }
  ],
  "metadata": {
    "accelerator": "GPU",
    "colab": {
      "gpuType": "T4",
      "provenance": [],
      "authorship_tag": "ABX9TyPtsTYVKMRXGx/uONOJeY7A",
      "include_colab_link": true
    },
    "kernelspec": {
      "display_name": "Python 3",
      "name": "python3"
    },
    "language_info": {
      "name": "python"
    }
  },
  "nbformat": 4,
  "nbformat_minor": 0
}
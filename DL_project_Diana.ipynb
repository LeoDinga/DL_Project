{
 "cells": [
  {
   "cell_type": "code",
   "execution_count": 1,
   "id": "532bb60f",
   "metadata": {},
   "outputs": [],
   "source": [
    "#import necessary libraries\n",
    "\n",
    "import cv2 \n",
    "import os \n",
    "import numpy as np\n"
   ]
  },
  {
   "cell_type": "markdown",
   "id": "af264ab4",
   "metadata": {},
   "source": [
    "60 FPS é recomendado independentemente da duração do vídeo se o objetivo é analisar movimentos rápidos (como no ténis).\n",
    "\n",
    "Queremos gerar frames \"falsos\" (interpolados) entre os reais, de forma uniforme, para alcançar exatamente 143 no total.\n",
    "\n",
    "A função np.linspace(start, end, num) gera valores uniformemente espaçados entre os números start e end."
   ]
  },
  {
   "cell_type": "code",
   "execution_count": 2,
   "id": "d4135464",
   "metadata": {},
   "outputs": [
    {
     "name": "stdout",
     "output_type": "stream",
     "text": [
      "FPS of the video: 18.0\n",
      "Ideal number of total frames to obtain:  143\n"
     ]
    }
   ],
   "source": [
    "vidcap = cv2.VideoCapture(\"p35_foreflat_s1.avi\") #VER MELHOR se posso retirar\n",
    "\n",
    "def ideal_number_frames(video, file):\n",
    "\n",
    "    fps = video.get(cv2.CAP_PROP_FPS)  # Extract FPS from metadata\n",
    "    print(f\"FPS of the video: {fps}\") #the ideal number of frames per second for fast sports is 60\n",
    "\n",
    "    total_frames = video.get(cv2.CAP_PROP_FRAME_COUNT)  # Total of frames\n",
    "    duracao = total_frames / fps  # duration in seconds\n",
    "\n",
    "    video.release() # Release of Hardware Resources\n",
    "\n",
    "    return int(60*duracao)\n",
    "\n",
    "\n",
    "target_frames = ideal_number_frames(vidcap, \"p35_foreflat_s1.avi\")\n",
    "\n",
    "print('Ideal number of total frames to obtain: ' , target_frames)"
   ]
  },
  {
   "cell_type": "code",
   "execution_count": 5,
   "id": "1cd4ba86",
   "metadata": {},
   "outputs": [],
   "source": [
    "# # Open the video file\n",
    "vidcap = cv2.VideoCapture(\"p35_foreflat_s1.avi\")\n",
    "\n",
    "# Create the output directory if it doesn't exist\n",
    "output_dir = 'data_test'\n",
    "try:\n",
    "    if not os.path.exists(output_dir):\n",
    "        os.makedirs(output_dir)\n",
    "except OSError:\n",
    "    print('Error: Could not create output directory.')\n",
    "\n",
    "# Read all frames from the video into a list\n",
    "frames = []\n",
    "while True:\n",
    "    success, frame = vidcap.read()\n",
    "    if not success:\n",
    "        break\n",
    "    frames.append(frame)\n",
    "\n",
    "vidcap.release()\n",
    "\n",
    "original_frame_count = len(frames)\n",
    "target_frame_count = target_frames  # desired number of output frames\n",
    "\n",
    "# Generate evenly spaced positions between 0 and the last frame index\n",
    "positions = np.linspace(0, original_frame_count - 1, target_frame_count)\n",
    "\n",
    "# Interpolate frames and save them\n",
    "for i, pos in enumerate(positions):\n",
    "    lower = int(np.floor(pos))\n",
    "    upper = int(np.ceil(pos))\n",
    "\n",
    "    if lower == upper:\n",
    "        interpolated = frames[lower]\n",
    "    else:\n",
    "        alpha = pos - lower\n",
    "        interpolated = cv2.addWeighted(\n",
    "            frames[lower], 1 - alpha,\n",
    "            frames[upper], alpha,\n",
    "            0\n",
    "        )\n",
    "\n",
    "    filename = os.path.join(output_dir, f\"frame_{i:04d}.jpg\")\n",
    "    cv2.imwrite(filename, interpolated)\n",
    "\n",
    "cv2.destroyAllWindows()"
   ]
  },
  {
   "cell_type": "code",
   "execution_count": 6,
   "id": "adefc1cf",
   "metadata": {},
   "outputs": [],
   "source": [
    "#clean the existed files\n",
    "\n",
    "def remove_files(folder):\n",
    "    if not os.path.exists(folder):\n",
    "        print(f\"Error: The folder '{folder}' does not exist!\")\n",
    "        exit()\n",
    "\n",
    "    for file in os.listdir(folder):\n",
    "        path = os.path.join(folder, file)\n",
    "        \n",
    "        try:\n",
    "            if os.path.isfile(path):  \n",
    "                os.remove(path)\n",
    "        except Exception as e:\n",
    "            print(f\"Fail trying to remove {path}: {str(e)}\")\n",
    "\n",
    "remove_files('data_test')"
   ]
  }
 ],
 "metadata": {
  "kernelspec": {
   "display_name": "Python 3",
   "language": "python",
   "name": "python3"
  },
  "language_info": {
   "codemirror_mode": {
    "name": "ipython",
    "version": 3
   },
   "file_extension": ".py",
   "mimetype": "text/x-python",
   "name": "python",
   "nbconvert_exporter": "python",
   "pygments_lexer": "ipython3",
   "version": "3.13.2"
  }
 },
 "nbformat": 4,
 "nbformat_minor": 5
}

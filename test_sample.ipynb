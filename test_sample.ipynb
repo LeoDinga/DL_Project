{
  "nbformat": 4,
  "nbformat_minor": 0,
  "metadata": {
    "colab": {
      "provenance": [],
      "include_colab_link": true
    },
    "kernelspec": {
      "name": "python3",
      "display_name": "Python 3"
    },
    "language_info": {
      "name": "python"
    }
  },
  "cells": [
    {
      "cell_type": "markdown",
      "metadata": {
        "id": "view-in-github",
        "colab_type": "text"
      },
      "source": [
        "<a href=\"https://colab.research.google.com/github/LeoDinga/DL_Project/blob/main/test_sample.ipynb\" target=\"_parent\"><img src=\"https://colab.research.google.com/assets/colab-badge.svg\" alt=\"Open In Colab\"/></a>"
      ]
    },
    {
      "cell_type": "code",
      "source": [
        "!pip uninstall -y torch torchvision torchao torchaudio torchtext torchdata\n",
        "!pip uninstall -y mmcv mmcv-full mmengine mmaction2 transformers"
      ],
      "metadata": {
        "colab": {
          "base_uri": "https://localhost:8080/",
          "height": 1000
        },
        "id": "430Ny3s8q97U",
        "outputId": "dcc62ac5-3e7e-44d0-ced5-5f0166aee56e",
        "collapsed": true
      },
      "execution_count": null,
      "outputs": [
        {
          "output_type": "stream",
          "name": "stdout",
          "text": [
            "\u001b[33mWARNING: Skipping mediapipe-silicon as it is not installed.\u001b[0m\u001b[33m\n",
            "\u001b[0m\u001b[33mWARNING: Skipping mediapipe as it is not installed.\u001b[0m\u001b[33m\n",
            "\u001b[0mFound existing installation: protobuf 5.29.4\n",
            "Uninstalling protobuf-5.29.4:\n",
            "  Successfully uninstalled protobuf-5.29.4\n",
            "Collecting protobuf==3.20.3\n",
            "  Downloading protobuf-3.20.3-py2.py3-none-any.whl.metadata (720 bytes)\n",
            "Downloading protobuf-3.20.3-py2.py3-none-any.whl (162 kB)\n",
            "\u001b[2K   \u001b[90m━━━━━━━━━━━━━━━━━━━━━━━━━━━━━━━━━━━━━━━━\u001b[0m \u001b[32m162.1/162.1 kB\u001b[0m \u001b[31m6.4 MB/s\u001b[0m eta \u001b[36m0:00:00\u001b[0m\n",
            "\u001b[?25hInstalling collected packages: protobuf\n",
            "\u001b[31mERROR: pip's dependency resolver does not currently take into account all the packages that are installed. This behaviour is the source of the following dependency conflicts.\n",
            "tensorflow-metadata 1.17.1 requires protobuf<6.0.0,>=4.25.2; python_version >= \"3.11\", but you have protobuf 3.20.3 which is incompatible.\n",
            "ydf 0.11.0 requires protobuf<6.0.0,>=5.29.1, but you have protobuf 3.20.3 which is incompatible.\n",
            "grpcio-status 1.71.0 requires protobuf<6.0dev,>=5.26.1, but you have protobuf 3.20.3 which is incompatible.\u001b[0m\u001b[31m\n",
            "\u001b[0mSuccessfully installed protobuf-3.20.3\n"
          ]
        },
        {
          "output_type": "display_data",
          "data": {
            "application/vnd.colab-display-data+json": {
              "pip_warning": {
                "packages": [
                  "google"
                ]
              },
              "id": "438e36cf76304aae8181d7aa406aee5b"
            }
          },
          "metadata": {}
        },
        {
          "output_type": "stream",
          "name": "stdout",
          "text": [
            "Collecting mediapipe\n",
            "  Downloading mediapipe-0.10.21-cp311-cp311-manylinux_2_28_x86_64.whl.metadata (9.7 kB)\n",
            "Requirement already satisfied: absl-py in /usr/local/lib/python3.11/dist-packages (from mediapipe) (1.4.0)\n",
            "Requirement already satisfied: attrs>=19.1.0 in /usr/local/lib/python3.11/dist-packages (from mediapipe) (25.3.0)\n",
            "Requirement already satisfied: flatbuffers>=2.0 in /usr/local/lib/python3.11/dist-packages (from mediapipe) (25.2.10)\n",
            "Requirement already satisfied: jax in /usr/local/lib/python3.11/dist-packages (from mediapipe) (0.5.2)\n",
            "Requirement already satisfied: jaxlib in /usr/local/lib/python3.11/dist-packages (from mediapipe) (0.5.1)\n",
            "Requirement already satisfied: matplotlib in /usr/local/lib/python3.11/dist-packages (from mediapipe) (3.10.0)\n",
            "Collecting numpy<2 (from mediapipe)\n",
            "  Downloading numpy-1.26.4-cp311-cp311-manylinux_2_17_x86_64.manylinux2014_x86_64.whl.metadata (61 kB)\n",
            "\u001b[2K     \u001b[90m━━━━━━━━━━━━━━━━━━━━━━━━━━━━━━━━━━━━━━━━\u001b[0m \u001b[32m61.0/61.0 kB\u001b[0m \u001b[31m4.3 MB/s\u001b[0m eta \u001b[36m0:00:00\u001b[0m\n",
            "\u001b[?25hRequirement already satisfied: opencv-contrib-python in /usr/local/lib/python3.11/dist-packages (from mediapipe) (4.11.0.86)\n",
            "Collecting protobuf<5,>=4.25.3 (from mediapipe)\n",
            "  Downloading protobuf-4.25.7-cp37-abi3-manylinux2014_x86_64.whl.metadata (541 bytes)\n",
            "Collecting sounddevice>=0.4.4 (from mediapipe)\n",
            "  Downloading sounddevice-0.5.2-py3-none-any.whl.metadata (1.6 kB)\n",
            "Requirement already satisfied: sentencepiece in /usr/local/lib/python3.11/dist-packages (from mediapipe) (0.2.0)\n",
            "Requirement already satisfied: CFFI>=1.0 in /usr/local/lib/python3.11/dist-packages (from sounddevice>=0.4.4->mediapipe) (1.17.1)\n",
            "Requirement already satisfied: ml_dtypes>=0.4.0 in /usr/local/lib/python3.11/dist-packages (from jax->mediapipe) (0.4.1)\n",
            "Requirement already satisfied: opt_einsum in /usr/local/lib/python3.11/dist-packages (from jax->mediapipe) (3.4.0)\n",
            "Requirement already satisfied: scipy>=1.11.1 in /usr/local/lib/python3.11/dist-packages (from jax->mediapipe) (1.15.3)\n",
            "Requirement already satisfied: contourpy>=1.0.1 in /usr/local/lib/python3.11/dist-packages (from matplotlib->mediapipe) (1.3.2)\n",
            "Requirement already satisfied: cycler>=0.10 in /usr/local/lib/python3.11/dist-packages (from matplotlib->mediapipe) (0.12.1)\n",
            "Requirement already satisfied: fonttools>=4.22.0 in /usr/local/lib/python3.11/dist-packages (from matplotlib->mediapipe) (4.58.0)\n",
            "Requirement already satisfied: kiwisolver>=1.3.1 in /usr/local/lib/python3.11/dist-packages (from matplotlib->mediapipe) (1.4.8)\n",
            "Requirement already satisfied: packaging>=20.0 in /usr/local/lib/python3.11/dist-packages (from matplotlib->mediapipe) (24.2)\n",
            "Requirement already satisfied: pillow>=8 in /usr/local/lib/python3.11/dist-packages (from matplotlib->mediapipe) (11.2.1)\n",
            "Requirement already satisfied: pyparsing>=2.3.1 in /usr/local/lib/python3.11/dist-packages (from matplotlib->mediapipe) (3.2.3)\n",
            "Requirement already satisfied: python-dateutil>=2.7 in /usr/local/lib/python3.11/dist-packages (from matplotlib->mediapipe) (2.9.0.post0)\n",
            "Requirement already satisfied: pycparser in /usr/local/lib/python3.11/dist-packages (from CFFI>=1.0->sounddevice>=0.4.4->mediapipe) (2.22)\n",
            "Requirement already satisfied: six>=1.5 in /usr/local/lib/python3.11/dist-packages (from python-dateutil>=2.7->matplotlib->mediapipe) (1.17.0)\n",
            "Downloading mediapipe-0.10.21-cp311-cp311-manylinux_2_28_x86_64.whl (35.6 MB)\n",
            "\u001b[2K   \u001b[90m━━━━━━━━━━━━━━━━━━━━━━━━━━━━━━━━━━━━━━━━\u001b[0m \u001b[32m35.6/35.6 MB\u001b[0m \u001b[31m41.1 MB/s\u001b[0m eta \u001b[36m0:00:00\u001b[0m\n",
            "\u001b[?25hDownloading numpy-1.26.4-cp311-cp311-manylinux_2_17_x86_64.manylinux2014_x86_64.whl (18.3 MB)\n",
            "\u001b[2K   \u001b[90m━━━━━━━━━━━━━━━━━━━━━━━━━━━━━━━━━━━━━━━━\u001b[0m \u001b[32m18.3/18.3 MB\u001b[0m \u001b[31m72.3 MB/s\u001b[0m eta \u001b[36m0:00:00\u001b[0m\n",
            "\u001b[?25hDownloading protobuf-4.25.7-cp37-abi3-manylinux2014_x86_64.whl (294 kB)\n",
            "\u001b[2K   \u001b[90m━━━━━━━━━━━━━━━━━━━━━━━━━━━━━━━━━━━━━━━━\u001b[0m \u001b[32m294.6/294.6 kB\u001b[0m \u001b[31m21.6 MB/s\u001b[0m eta \u001b[36m0:00:00\u001b[0m\n",
            "\u001b[?25hDownloading sounddevice-0.5.2-py3-none-any.whl (32 kB)\n",
            "Installing collected packages: protobuf, numpy, sounddevice, mediapipe\n",
            "  Attempting uninstall: protobuf\n",
            "    Found existing installation: protobuf 3.20.3\n",
            "    Uninstalling protobuf-3.20.3:\n",
            "      Successfully uninstalled protobuf-3.20.3\n",
            "  Attempting uninstall: numpy\n",
            "    Found existing installation: numpy 2.0.2\n",
            "    Uninstalling numpy-2.0.2:\n",
            "      Successfully uninstalled numpy-2.0.2\n",
            "\u001b[31mERROR: pip's dependency resolver does not currently take into account all the packages that are installed. This behaviour is the source of the following dependency conflicts.\n",
            "ydf 0.11.0 requires protobuf<6.0.0,>=5.29.1, but you have protobuf 4.25.7 which is incompatible.\n",
            "thinc 8.3.6 requires numpy<3.0.0,>=2.0.0, but you have numpy 1.26.4 which is incompatible.\n",
            "grpcio-status 1.71.0 requires protobuf<6.0dev,>=5.26.1, but you have protobuf 4.25.7 which is incompatible.\u001b[0m\u001b[31m\n",
            "\u001b[0mSuccessfully installed mediapipe-0.10.21 numpy-1.26.4 protobuf-4.25.7 sounddevice-0.5.2\n"
          ]
        }
      ]
    },
    {
      "cell_type": "code",
      "source": [
        "!pip install -U openmim\n",
        "!mim install mmengine\n",
        "!mim install 'mmcv==2.1.0'\n",
        "!pip install torch==2.0.1 torchvision==0.15.2 --index-url https://download.pytorch.org/whl/cu118\n",
        "!pip install transformers==4.35.2\n",
        "!pip install mmaction2"
      ],
      "metadata": {
        "id": "UoQKulBkpDXi"
      },
      "execution_count": null,
      "outputs": []
    },
    {
      "cell_type": "code",
      "source": [
        "# verifica se tens o GPU ativado. Tem de dizer TRUE\n",
        "# import numpy as np\n",
        "import torch\n",
        "print(f\"PyTorch Version: {torch.__version__}\")\n",
        "print(f\"CUDA Available: {torch.cuda.is_available()}\")\n",
        "print(f\"CUDA Version used by PyTorch: {torch.version.cuda}\")"
      ],
      "metadata": {
        "id": "3dJK_x0qOgEz"
      },
      "execution_count": null,
      "outputs": []
    },
    {
      "cell_type": "code",
      "execution_count": null,
      "metadata": {
        "colab": {
          "base_uri": "https://localhost:8080/"
        },
        "id": "YRkSKGGqosU7",
        "outputId": "47ed9137-dc8a-484c-81c5-09910fdea953",
        "collapsed": true
      },
      "outputs": [
        {
          "output_type": "stream",
          "name": "stdout",
          "text": [
            "Cloning into 'dataset'...\n",
            "remote: Enumerating objects: 113, done.\u001b[K\n",
            "remote: Counting objects: 100% (3/3), done.\u001b[K\n",
            "remote: Compressing objects: 100% (3/3), done.\u001b[K\n",
            "remote: Total 113 (delta 0), reused 2 (delta 0), pack-reused 110 (from 1)\u001b[K\n",
            "Receiving objects: 100% (113/113), 214.90 KiB | 5.51 MiB/s, done.\n",
            "Resolving deltas: 100% (16/16), done.\n",
            "/content/dataset\n",
            "remote: Enumerating objects: 1972, done.\u001b[K\n",
            "remote: Counting objects: 100% (1/1), done.\u001b[K\n",
            "remote: Total 1972 (delta 0), reused 0 (delta 0), pack-reused 1971 (from 1)\u001b[K\n",
            "Receiving objects: 100% (1972/1972), 3.63 GiB | 34.39 MiB/s, done.\n",
            "Resolving deltas: 100% (1/1), done.\n",
            "Updating files: 100% (1981/1981), done.\n",
            "Your branch is up to date with 'origin/main'.\n"
          ]
        }
      ],
      "source": [
        "\n",
        "# Exemplo para MMAction2\n",
        "!git clone https://github.com/open-mmlab/mmaction2.git mmaction2 #alterei\n",
        "%cd mmaction2\n",
        "!pip install -e ."
      ]
    },
    {
      "cell_type": "code",
      "source": [
        "!mim install 'mmcv==2.1.0'"
      ],
      "metadata": {
        "id": "B252S0TFO2Ot"
      },
      "execution_count": null,
      "outputs": []
    },
    {
      "cell_type": "code",
      "source": [
        "import mmcv\n",
        "# import mmengine #not sure\n",
        "import mmaction2"
      ],
      "metadata": {
        "id": "kOalfSdHPdxz"
      },
      "execution_count": null,
      "outputs": []
    },
    {
      "cell_type": "code",
      "source": [
        "import sys\n",
        "sys.path.append('mmaction2')"
      ],
      "metadata": {
        "id": "kdTho9QNPkqD"
      },
      "execution_count": null,
      "outputs": []
    },
    {
      "cell_type": "code",
      "source": [
        "import os\n",
        "from google.colab import drive\n",
        "drive.mount('/content/drive')\n",
        "\n",
        "\n",
        "save_path = '/content/drive/MyDrive/mmaction2_work_dir/stgcn_treino'\n",
        "os.makedirs(save_path, exist_ok=True)"
      ],
      "metadata": {
        "id": "DyWDcNh8QWtE"
      },
      "execution_count": null,
      "outputs": []
    },
    {
      "cell_type": "code",
      "source": [
        "\n",
        "config_code = \"\"\"\n",
        "\n",
        "_base_ = ['/content/mmaction2/configs/_base_/default_runtime.py']\n",
        "model = dict(\n",
        "    type='RecognizerGCN',\n",
        "    backbone=dict(\n",
        "        type='STGCN',\n",
        "        graph_cfg=dict(layout='nturgb+d', mode='stgcn_spatial'),\n",
        "        in_channels=3\n",
        "    ),\n",
        "    cls_head=dict(type='GCNHead', num_classes=12, in_channels=256)\n",
        ")\n",
        "\n",
        "train_pipeline = [\n",
        "    dict(type='PreNormalize3D'),\n",
        "    dict(type='GenSkeFeat', dataset='nturgb+d', feats=['j']),\n",
        "    dict(type='UniformSampleFrames', clip_len=100),\n",
        "    dict(type='PoseDecode'),\n",
        "    dict(type='FormatGCNInput', num_person=1),\n",
        "    dict(type='PackActionInputs')\n",
        "]\n",
        "val_pipeline = [\n",
        "    dict(type='PreNormalize3D'),\n",
        "    dict(type='GenSkeFeat', dataset='nturgb+d', feats=['j']),\n",
        "    dict(type='UniformSampleFrames', clip_len=100, num_clips=1, test_mode=True),\n",
        "    dict(type='PoseDecode'),\n",
        "    dict(type='FormatGCNInput', num_person=1),\n",
        "    dict(type='PackActionInputs')\n",
        "]\n",
        "test_pipeline = [\n",
        "    dict(type='PreNormalize3D'),\n",
        "    dict(type='GenSkeFeat', dataset='nturgb+d', feats=['j']),\n",
        "    dict(type='UniformSampleFrames', clip_len=100, num_clips=1, test_mode=True),\n",
        "    dict(type='PoseDecode'),\n",
        "    dict(type='FormatGCNInput', num_person=1),\n",
        "    dict(type='PackActionInputs')\n",
        "]\n",
        "\n",
        "train_dataloader = dict(\n",
        "    batch_size=64,  # ALTERADO: era 16, agora 4 para teste rápido\n",
        "    num_workers=2,\n",
        "    persistent_workers=True,\n",
        "    sampler=dict(type='DefaultSampler', shuffle=True),\n",
        "    dataset=dict(\n",
        "        type='PoseDataset',\n",
        "        ann_file='/content/train_labels.pkl',  # ALTERADO: caminho absoluto, antes era 'train_labels.pkl'\n",
        "        pipeline=train_pipeline\n",
        "    )\n",
        "  )\n",
        "\n",
        "val_dataloader = dict(\n",
        "    batch_size=64,  # ALTERADO: era 16, agora 4 para teste rápido\n",
        "    num_workers=2,\n",
        "    persistent_workers=True,\n",
        "    sampler=dict(type='DefaultSampler', shuffle=False),\n",
        "    dataset=dict(\n",
        "        type='PoseDataset',\n",
        "        ann_file='/content/val_labels.pkl',  # ALTERADO: caminho absoluto, antes era 'val_labels.pkl'\n",
        "        pipeline=val_pipeline\n",
        "    )\n",
        ")\n",
        "test_dataloader = dict(\n",
        "    batch_size=64,  # ALTERADO: era 16, agora 4 para teste rápido\n",
        "    num_workers=2,\n",
        "    persistent_workers=True,\n",
        "    sampler=dict(type='DefaultSampler', shuffle=False),\n",
        "    dataset=dict(\n",
        "        type='PoseDataset',\n",
        "        ann_file='/content/test_labels.pkl',  # ALTERADO: caminho absoluto, antes era 'test_labels.pkl'\n",
        "        pipeline=test_pipeline\n",
        "    )\n",
        ")\n",
        "\n",
        "\n",
        "\n",
        "param_scheduler = [\n",
        "    dict(\n",
        "        type='CosineAnnealingLR',\n",
        "        eta_min=0,\n",
        "        T_max=16,\n",
        "        by_epoch=True,\n",
        "        convert_to_iter_based=True)\n",
        "]\n",
        "\n",
        "evaluation = dict(\n",
        "    interval=2,\n",
        "    metrics=['top_k_accuracy']\n",
        ")\n",
        "\n",
        "val_evaluator = [dict(type='AccMetric')]\n",
        "test_evaluator = val_evaluator\n",
        "\n",
        "\n",
        "\n",
        "train_cfg = dict(\n",
        "    type='EpochBasedTrainLoop', max_epochs=50, val_begin=1, val_interval=1)\n",
        "val_cfg = dict(type='ValLoop')\n",
        "test_cfg = dict(type='TestLoop')\n",
        "\n",
        "\n",
        "optim_wrapper = dict(\n",
        "    optimizer=dict(\n",
        "        type='SGD', lr=0.1, momentum=0.9, weight_decay=0.0005, nesterov=True)\n",
        ")\n",
        "\n",
        "\n",
        "# Salvar checkpoints, logs, etc.\n",
        "work_dir = '/content/drive/MyDrive/mmaction2_work_dir/stgcn_treino'   # ALTERADO: era './work_dirs/stgcn_3d_custom_test'\n",
        "\n",
        "load_from = 'https://download.openmmlab.com/mmaction/v1.0/skeleton/stgcn/stgcn_8xb16-joint-u100-80e_ntu60-xsub-keypoint-3d/stgcn_8xb16-joint-u100-80e_ntu60-xsub-keypoint-3d_20221129-850308e1.pth'\n",
        "\n",
        "\n",
        "\n",
        "\"\"\"\n",
        "\n",
        "# Gravar para o ficheiro na pasta configs/stgcn/\n",
        "with open('/content/mmaction2/configs/stgcn_3d_custom.py', 'w') as f:\n",
        "    f.write(config_code)"
      ],
      "metadata": {
        "id": "hMyeFnZMQ-c3"
      },
      "execution_count": null,
      "outputs": []
    },
    {
      "cell_type": "code",
      "source": [
        "\n",
        "config_code = \"\"\"\n",
        "\n",
        "_base_ = ['/content/mmaction2/configs/_base_/default_runtime.py']\n",
        "model = dict(\n",
        "    type='RecognizerGCN',\n",
        "    backbone=dict(\n",
        "        type='STGCN',\n",
        "        graph_cfg=dict(layout='nturgb+d', mode='stgcn_spatial'),\n",
        "        in_channels=3\n",
        "    ),\n",
        "    cls_head=dict(type='GCNHead', num_classes=12, in_channels=256)\n",
        ")\n",
        "\n",
        "train_pipeline = [\n",
        "    dict(type='PreNormalize3D'),\n",
        "    dict(type='GenSkeFeat', dataset='nturgb+d', feats=['j']),\n",
        "    dict(type='UniformSampleFrames', clip_len=100),\n",
        "    dict(type='PoseDecode'),\n",
        "    dict(type='FormatGCNInput', num_person=1),\n",
        "    dict(type='PackActionInputs')\n",
        "]\n",
        "val_pipeline = [\n",
        "    dict(type='PreNormalize3D'),\n",
        "    dict(type='GenSkeFeat', dataset='nturgb+d', feats=['j']),\n",
        "    dict(type='UniformSampleFrames', clip_len=100, num_clips=1, test_mode=True),\n",
        "    dict(type='PoseDecode'),\n",
        "    dict(type='FormatGCNInput', num_person=1),\n",
        "    dict(type='PackActionInputs')\n",
        "]\n",
        "test_pipeline = [\n",
        "    dict(type='PreNormalize3D'),\n",
        "    dict(type='GenSkeFeat', dataset='nturgb+d', feats=['j']),\n",
        "    dict(type='UniformSampleFrames', clip_len=100, num_clips=1, test_mode=True),\n",
        "    dict(type='PoseDecode'),\n",
        "    dict(type='FormatGCNInput', num_person=1),\n",
        "    dict(type='PackActionInputs')\n",
        "]\n",
        "\n",
        "train_dataloader = dict(\n",
        "    batch_size=64,  # ALTERADO: era 16, agora 4 para teste rápido\n",
        "    num_workers=2,\n",
        "    persistent_workers=True,\n",
        "    sampler=dict(type='DefaultSampler', shuffle=True),\n",
        "    dataset=dict(\n",
        "        type='PoseDataset',\n",
        "        ann_file='/content/train_labels.pkl',  # ALTERADO: caminho absoluto, antes era 'train_labels.pkl'\n",
        "        pipeline=train_pipeline\n",
        "    )\n",
        "  )\n",
        "\n",
        "val_dataloader = dict(\n",
        "    batch_size=64,  # ALTERADO: era 16, agora 4 para teste rápido\n",
        "    num_workers=2,\n",
        "    persistent_workers=True,\n",
        "    sampler=dict(type='DefaultSampler', shuffle=False),\n",
        "    dataset=dict(\n",
        "        type='PoseDataset',\n",
        "        ann_file='/content/val_labels.pkl',  # ALTERADO: caminho absoluto, antes era 'val_labels.pkl'\n",
        "        pipeline=val_pipeline\n",
        "    )\n",
        ")\n",
        "test_dataloader = dict(\n",
        "    batch_size=64,  # ALTERADO: era 16, agora 4 para teste rápido\n",
        "    num_workers=2,\n",
        "    persistent_workers=True,\n",
        "    sampler=dict(type='DefaultSampler', shuffle=False),\n",
        "    dataset=dict(\n",
        "      type='PoseDataset',\n",
        "      ann_file='/content/our_test_labels.txt',  # Pode ser .txt MUDEI\n",
        "      pipeline=test_pipeline\n",
        ")\n",
        "\n",
        ")\n",
        "\n",
        "\n",
        "\n",
        "param_scheduler = [\n",
        "    dict(\n",
        "        type='CosineAnnealingLR',\n",
        "        eta_min=0,\n",
        "        T_max=16,\n",
        "        by_epoch=True,\n",
        "        convert_to_iter_based=True)\n",
        "]\n",
        "\n",
        "evaluation = dict(\n",
        "    interval=2,\n",
        "    metrics=['top_k_accuracy']\n",
        ")\n",
        "\n",
        "val_evaluator = [dict(type='AccMetric')]\n",
        "test_evaluator = val_evaluator\n",
        "\n",
        "\n",
        "\n",
        "train_cfg = dict(\n",
        "    type='EpochBasedTrainLoop', max_epochs=50, val_begin=1, val_interval=1)\n",
        "val_cfg = dict(type='ValLoop')\n",
        "test_cfg = dict(type='TestLoop')\n",
        "\n",
        "\n",
        "optim_wrapper = dict(\n",
        "    optimizer=dict(\n",
        "        type='SGD', lr=0.1, momentum=0.9, weight_decay=0.0005, nesterov=True)\n",
        ")\n",
        "\n",
        "\n",
        "# Salvar checkpoints, logs, etc.\n",
        "work_dir = '/content/drive/MyDrive/mmaction2_work_dir/stgcn_treino'   # ALTERADO: era './work_dirs/stgcn_3d_custom_test'\n",
        "\n",
        "load_from = 'https://download.openmmlab.com/mmaction/v1.0/skeleton/stgcn/stgcn_8xb16-joint-u100-80e_ntu60-xsub-keypoint-3d/stgcn_8xb16-joint-u100-80e_ntu60-xsub-keypoint-3d_20221129-850308e1.pth'\n",
        "\n",
        "\n",
        "\n",
        "\"\"\"\n",
        "\n",
        "# Gravar para o ficheiro na pasta configs/stgcn/\n",
        "with open('/content/mmaction2/configs/stgcn_3d_custom.py', 'w') as f:\n",
        "    f.write(config_code)"
      ],
      "metadata": {
        "id": "d9pB_BTpBj0r"
      },
      "execution_count": null,
      "outputs": []
    },
    {
      "cell_type": "code",
      "source": [
        "!python tools/test.py configs/stgcn_3d_custom.py /content/drive/MyDrive/mmaction2_work_dir/stgcn_treino/epoch_50.pth --dump /content/drive/MyDrive/mmaction2_work_dir/stgcn_test_50/results.pkl\n"
      ],
      "metadata": {
        "id": "ez1iUI9uQtX6"
      },
      "execution_count": null,
      "outputs": []
    }
  ]
}
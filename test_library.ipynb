{
 "cells": [
  {
   "cell_type": "code",
   "execution_count": null,
   "id": "ac2eb127",
   "metadata": {},
   "outputs": [],
   "source": [
    "# 1. Instala PyTorch (usa a versão estável para Python 3.11)\n",
    "!pip install torch torchvision torchaudio --index-url https://download.pytorch.org/whl/cpu\n",
    "\n",
    "# 2. Instala OpenMIM e dependências OpenMMLab\n",
    "!pip install -U openmim\n",
    "\n",
    "# 3. Instala mmcv e mmengine (usa as versões mais recentes, que já suportam Python 3.11)\n",
    "!mim install \"mmcv>=2.0.0\"\n",
    "!mim install \"mmengine>=0.9.0\"\n",
    "\n",
    "# 4. Instala MediaPipe e Protobuf compatível\n",
    "!pip install protobuf==3.20.3\n",
    "!pip install mediapipe\n",
    "\n",
    "# 5. Instala MMAction2 (última versão do GitHub, que já suporta Python 3.11)\n",
    "!git clone https://github.com/open-mmlab/mmaction2.git\n",
    "%cd mmaction2\n",
    "!pip install -e .\n"
   ]
  }
 ],
 "metadata": {
  "language_info": {
   "name": "python"
  }
 },
 "nbformat": 4,
 "nbformat_minor": 5
}

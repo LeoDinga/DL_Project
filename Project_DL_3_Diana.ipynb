{
  "nbformat": 4,
  "nbformat_minor": 0,
  "metadata": {
    "colab": {
      "provenance": [],
      "gpuType": "T4",
      "include_colab_link": true
    },
    "kernelspec": {
      "name": "python3",
      "display_name": "Python 3"
    },
    "language_info": {
      "name": "python"
    },
    "accelerator": "GPU"
  },
  "cells": [
    {
      "cell_type": "markdown",
      "metadata": {
        "id": "view-in-github",
        "colab_type": "text"
      },
      "source": [
        "<a href=\"https://colab.research.google.com/github/LeoDinga/DL_Project/blob/main/Project_DL_3_Diana.ipynb\" target=\"_parent\"><img src=\"https://colab.research.google.com/assets/colab-badge.svg\" alt=\"Open In Colab\"/></a>"
      ]
    },
    {
      "cell_type": "code",
      "execution_count": 1,
      "metadata": {
        "colab": {
          "base_uri": "https://localhost:8080/"
        },
        "id": "FK-8g_KWzxBD",
        "outputId": "646a6c8f-e8e6-4c54-da7a-530dbb692de1"
      },
      "outputs": [
        {
          "output_type": "stream",
          "name": "stdout",
          "text": [
            "Cloning into 'dataset'...\n",
            "remote: Enumerating objects: 113, done.\u001b[K\n",
            "remote: Counting objects: 100% (3/3), done.\u001b[K\n",
            "remote: Compressing objects: 100% (3/3), done.\u001b[K\n",
            "remote: Total 113 (delta 0), reused 2 (delta 0), pack-reused 110 (from 1)\u001b[K\n",
            "Receiving objects: 100% (113/113), 214.90 KiB | 8.60 MiB/s, done.\n",
            "Resolving deltas: 100% (16/16), done.\n",
            "/content/dataset\n",
            "remote: Enumerating objects: 1217, done.\u001b[K\n",
            "remote: Counting objects: 100% (1/1), done.\u001b[K\n",
            "remote: Total 1217 (delta 0), reused 0 (delta 0), pack-reused 1216 (from 1)\u001b[K\n",
            "Receiving objects: 100% (1217/1217), 507.08 MiB | 16.54 MiB/s, done.\n",
            "Updating files: 100% (1218/1218), done.\n",
            "Your branch is up to date with 'origin/main'.\n"
          ]
        }
      ],
      "source": [
        "!git clone --filter=blob:none --no-checkout https://github.com/THETIS-dataset/dataset.git\n",
        "%cd dataset\n",
        "!git sparse-checkout init --cone\n",
        "!git sparse-checkout set VIDEO_Skelet3D\n",
        "!git checkout"
      ]
    },
    {
      "cell_type": "markdown",
      "source": [],
      "metadata": {
        "id": "AkDevFBKHFEv"
      }
    },
    {
      "cell_type": "code",
      "source": [
        "!pip install mediapipe"
      ],
      "metadata": {
        "colab": {
          "base_uri": "https://localhost:8080/"
        },
        "collapsed": true,
        "id": "GcSd0eHO1K1A",
        "outputId": "65d8abba-9538-4fed-90d3-babd1e1a2364"
      },
      "execution_count": null,
      "outputs": [
        {
          "output_type": "stream",
          "name": "stdout",
          "text": [
            "Collecting mediapipe\n",
            "  Downloading mediapipe-0.10.21-cp311-cp311-manylinux_2_28_x86_64.whl.metadata (9.7 kB)\n",
            "Requirement already satisfied: absl-py in /usr/local/lib/python3.11/dist-packages (from mediapipe) (1.4.0)\n",
            "Requirement already satisfied: attrs>=19.1.0 in /usr/local/lib/python3.11/dist-packages (from mediapipe) (25.3.0)\n",
            "Requirement already satisfied: flatbuffers>=2.0 in /usr/local/lib/python3.11/dist-packages (from mediapipe) (25.2.10)\n",
            "Requirement already satisfied: jax in /usr/local/lib/python3.11/dist-packages (from mediapipe) (0.5.2)\n",
            "Requirement already satisfied: jaxlib in /usr/local/lib/python3.11/dist-packages (from mediapipe) (0.5.1)\n",
            "Requirement already satisfied: matplotlib in /usr/local/lib/python3.11/dist-packages (from mediapipe) (3.10.0)\n",
            "Collecting numpy<2 (from mediapipe)\n",
            "  Downloading numpy-1.26.4-cp311-cp311-manylinux_2_17_x86_64.manylinux2014_x86_64.whl.metadata (61 kB)\n",
            "\u001b[2K     \u001b[90m━━━━━━━━━━━━━━━━━━━━━━━━━━━━━━━━━━━━━━━━\u001b[0m \u001b[32m61.0/61.0 kB\u001b[0m \u001b[31m2.7 MB/s\u001b[0m eta \u001b[36m0:00:00\u001b[0m\n",
            "\u001b[?25hRequirement already satisfied: opencv-contrib-python in /usr/local/lib/python3.11/dist-packages (from mediapipe) (4.11.0.86)\n",
            "Collecting protobuf<5,>=4.25.3 (from mediapipe)\n",
            "  Downloading protobuf-4.25.7-cp37-abi3-manylinux2014_x86_64.whl.metadata (541 bytes)\n",
            "Collecting sounddevice>=0.4.4 (from mediapipe)\n",
            "  Downloading sounddevice-0.5.1-py3-none-any.whl.metadata (1.4 kB)\n",
            "Requirement already satisfied: sentencepiece in /usr/local/lib/python3.11/dist-packages (from mediapipe) (0.2.0)\n",
            "Requirement already satisfied: CFFI>=1.0 in /usr/local/lib/python3.11/dist-packages (from sounddevice>=0.4.4->mediapipe) (1.17.1)\n",
            "Requirement already satisfied: ml_dtypes>=0.4.0 in /usr/local/lib/python3.11/dist-packages (from jax->mediapipe) (0.4.1)\n",
            "Requirement already satisfied: opt_einsum in /usr/local/lib/python3.11/dist-packages (from jax->mediapipe) (3.4.0)\n",
            "Requirement already satisfied: scipy>=1.11.1 in /usr/local/lib/python3.11/dist-packages (from jax->mediapipe) (1.15.2)\n",
            "Requirement already satisfied: contourpy>=1.0.1 in /usr/local/lib/python3.11/dist-packages (from matplotlib->mediapipe) (1.3.2)\n",
            "Requirement already satisfied: cycler>=0.10 in /usr/local/lib/python3.11/dist-packages (from matplotlib->mediapipe) (0.12.1)\n",
            "Requirement already satisfied: fonttools>=4.22.0 in /usr/local/lib/python3.11/dist-packages (from matplotlib->mediapipe) (4.57.0)\n",
            "Requirement already satisfied: kiwisolver>=1.3.1 in /usr/local/lib/python3.11/dist-packages (from matplotlib->mediapipe) (1.4.8)\n",
            "Requirement already satisfied: packaging>=20.0 in /usr/local/lib/python3.11/dist-packages (from matplotlib->mediapipe) (24.2)\n",
            "Requirement already satisfied: pillow>=8 in /usr/local/lib/python3.11/dist-packages (from matplotlib->mediapipe) (11.2.1)\n",
            "Requirement already satisfied: pyparsing>=2.3.1 in /usr/local/lib/python3.11/dist-packages (from matplotlib->mediapipe) (3.2.3)\n",
            "Requirement already satisfied: python-dateutil>=2.7 in /usr/local/lib/python3.11/dist-packages (from matplotlib->mediapipe) (2.9.0.post0)\n",
            "Requirement already satisfied: pycparser in /usr/local/lib/python3.11/dist-packages (from CFFI>=1.0->sounddevice>=0.4.4->mediapipe) (2.22)\n",
            "Requirement already satisfied: six>=1.5 in /usr/local/lib/python3.11/dist-packages (from python-dateutil>=2.7->matplotlib->mediapipe) (1.17.0)\n",
            "Downloading mediapipe-0.10.21-cp311-cp311-manylinux_2_28_x86_64.whl (35.6 MB)\n",
            "\u001b[2K   \u001b[90m━━━━━━━━━━━━━━━━━━━━━━━━━━━━━━━━━━━━━━━━\u001b[0m \u001b[32m35.6/35.6 MB\u001b[0m \u001b[31m39.4 MB/s\u001b[0m eta \u001b[36m0:00:00\u001b[0m\n",
            "\u001b[?25hDownloading numpy-1.26.4-cp311-cp311-manylinux_2_17_x86_64.manylinux2014_x86_64.whl (18.3 MB)\n",
            "\u001b[2K   \u001b[90m━━━━━━━━━━━━━━━━━━━━━━━━━━━━━━━━━━━━━━━━\u001b[0m \u001b[32m18.3/18.3 MB\u001b[0m \u001b[31m57.2 MB/s\u001b[0m eta \u001b[36m0:00:00\u001b[0m\n",
            "\u001b[?25hDownloading protobuf-4.25.7-cp37-abi3-manylinux2014_x86_64.whl (294 kB)\n",
            "\u001b[2K   \u001b[90m━━━━━━━━━━━━━━━━━━━━━━━━━━━━━━━━━━━━━━━━\u001b[0m \u001b[32m294.6/294.6 kB\u001b[0m \u001b[31m19.1 MB/s\u001b[0m eta \u001b[36m0:00:00\u001b[0m\n",
            "\u001b[?25hDownloading sounddevice-0.5.1-py3-none-any.whl (32 kB)\n",
            "Installing collected packages: protobuf, numpy, sounddevice, mediapipe\n",
            "  Attempting uninstall: protobuf\n",
            "    Found existing installation: protobuf 5.29.4\n",
            "    Uninstalling protobuf-5.29.4:\n",
            "      Successfully uninstalled protobuf-5.29.4\n",
            "  Attempting uninstall: numpy\n",
            "    Found existing installation: numpy 2.0.2\n",
            "    Uninstalling numpy-2.0.2:\n",
            "      Successfully uninstalled numpy-2.0.2\n",
            "\u001b[31mERROR: pip's dependency resolver does not currently take into account all the packages that are installed. This behaviour is the source of the following dependency conflicts.\n",
            "grpcio-status 1.71.0 requires protobuf<6.0dev,>=5.26.1, but you have protobuf 4.25.7 which is incompatible.\n",
            "ydf 0.11.0 requires protobuf<6.0.0,>=5.29.1, but you have protobuf 4.25.7 which is incompatible.\n",
            "thinc 8.3.6 requires numpy<3.0.0,>=2.0.0, but you have numpy 1.26.4 which is incompatible.\u001b[0m\u001b[31m\n",
            "\u001b[0mSuccessfully installed mediapipe-0.10.21 numpy-1.26.4 protobuf-4.25.7 sounddevice-0.5.1\n"
          ]
        }
      ]
    },
    {
      "cell_type": "code",
      "source": [
        "%pip install --upgrade pip\n",
        "%pip install mediapipe opencv-python"
      ],
      "metadata": {
        "id": "dRO110DsIjfG",
        "outputId": "f298505b-d84b-48fc-ba27-f5c6bc774919",
        "colab": {
          "base_uri": "https://localhost:8080/"
        }
      },
      "execution_count": 3,
      "outputs": [
        {
          "output_type": "stream",
          "name": "stdout",
          "text": [
            "Requirement already satisfied: pip in /usr/local/lib/python3.11/dist-packages (24.1.2)\n",
            "Collecting pip\n",
            "  Downloading pip-25.1.1-py3-none-any.whl.metadata (3.6 kB)\n",
            "Downloading pip-25.1.1-py3-none-any.whl (1.8 MB)\n",
            "\u001b[2K   \u001b[90m━━━━━━━━━━━━━━━━━━━━━━━━━━━━━━━━━━━━━━━━\u001b[0m \u001b[32m1.8/1.8 MB\u001b[0m \u001b[31m39.0 MB/s\u001b[0m eta \u001b[36m0:00:00\u001b[0m\n",
            "\u001b[?25hInstalling collected packages: pip\n",
            "  Attempting uninstall: pip\n",
            "    Found existing installation: pip 24.1.2\n",
            "    Uninstalling pip-24.1.2:\n",
            "      Successfully uninstalled pip-24.1.2\n",
            "Successfully installed pip-25.1.1\n",
            "Collecting mediapipe\n",
            "  Downloading mediapipe-0.10.21-cp311-cp311-manylinux_2_28_x86_64.whl.metadata (9.7 kB)\n",
            "Requirement already satisfied: opencv-python in /usr/local/lib/python3.11/dist-packages (4.11.0.86)\n",
            "Requirement already satisfied: absl-py in /usr/local/lib/python3.11/dist-packages (from mediapipe) (1.4.0)\n",
            "Requirement already satisfied: attrs>=19.1.0 in /usr/local/lib/python3.11/dist-packages (from mediapipe) (25.3.0)\n",
            "Requirement already satisfied: flatbuffers>=2.0 in /usr/local/lib/python3.11/dist-packages (from mediapipe) (25.2.10)\n",
            "Requirement already satisfied: jax in /usr/local/lib/python3.11/dist-packages (from mediapipe) (0.5.2)\n",
            "Requirement already satisfied: jaxlib in /usr/local/lib/python3.11/dist-packages (from mediapipe) (0.5.1)\n",
            "Requirement already satisfied: matplotlib in /usr/local/lib/python3.11/dist-packages (from mediapipe) (3.10.0)\n",
            "Collecting numpy<2 (from mediapipe)\n",
            "  Downloading numpy-1.26.4-cp311-cp311-manylinux_2_17_x86_64.manylinux2014_x86_64.whl.metadata (61 kB)\n",
            "Requirement already satisfied: opencv-contrib-python in /usr/local/lib/python3.11/dist-packages (from mediapipe) (4.11.0.86)\n",
            "Collecting protobuf<5,>=4.25.3 (from mediapipe)\n",
            "  Downloading protobuf-4.25.7-cp37-abi3-manylinux2014_x86_64.whl.metadata (541 bytes)\n",
            "Collecting sounddevice>=0.4.4 (from mediapipe)\n",
            "  Downloading sounddevice-0.5.1-py3-none-any.whl.metadata (1.4 kB)\n",
            "Requirement already satisfied: sentencepiece in /usr/local/lib/python3.11/dist-packages (from mediapipe) (0.2.0)\n",
            "Requirement already satisfied: CFFI>=1.0 in /usr/local/lib/python3.11/dist-packages (from sounddevice>=0.4.4->mediapipe) (1.17.1)\n",
            "Requirement already satisfied: pycparser in /usr/local/lib/python3.11/dist-packages (from CFFI>=1.0->sounddevice>=0.4.4->mediapipe) (2.22)\n",
            "Requirement already satisfied: ml_dtypes>=0.4.0 in /usr/local/lib/python3.11/dist-packages (from jax->mediapipe) (0.4.1)\n",
            "Requirement already satisfied: opt_einsum in /usr/local/lib/python3.11/dist-packages (from jax->mediapipe) (3.4.0)\n",
            "Requirement already satisfied: scipy>=1.11.1 in /usr/local/lib/python3.11/dist-packages (from jax->mediapipe) (1.15.2)\n",
            "Requirement already satisfied: contourpy>=1.0.1 in /usr/local/lib/python3.11/dist-packages (from matplotlib->mediapipe) (1.3.2)\n",
            "Requirement already satisfied: cycler>=0.10 in /usr/local/lib/python3.11/dist-packages (from matplotlib->mediapipe) (0.12.1)\n",
            "Requirement already satisfied: fonttools>=4.22.0 in /usr/local/lib/python3.11/dist-packages (from matplotlib->mediapipe) (4.57.0)\n",
            "Requirement already satisfied: kiwisolver>=1.3.1 in /usr/local/lib/python3.11/dist-packages (from matplotlib->mediapipe) (1.4.8)\n",
            "Requirement already satisfied: packaging>=20.0 in /usr/local/lib/python3.11/dist-packages (from matplotlib->mediapipe) (24.2)\n",
            "Requirement already satisfied: pillow>=8 in /usr/local/lib/python3.11/dist-packages (from matplotlib->mediapipe) (11.2.1)\n",
            "Requirement already satisfied: pyparsing>=2.3.1 in /usr/local/lib/python3.11/dist-packages (from matplotlib->mediapipe) (3.2.3)\n",
            "Requirement already satisfied: python-dateutil>=2.7 in /usr/local/lib/python3.11/dist-packages (from matplotlib->mediapipe) (2.9.0.post0)\n",
            "Requirement already satisfied: six>=1.5 in /usr/local/lib/python3.11/dist-packages (from python-dateutil>=2.7->matplotlib->mediapipe) (1.17.0)\n",
            "Downloading mediapipe-0.10.21-cp311-cp311-manylinux_2_28_x86_64.whl (35.6 MB)\n",
            "\u001b[2K   \u001b[90m━━━━━━━━━━━━━━━━━━━━━━━━━━━━━━━━━━━━━━━━\u001b[0m \u001b[32m35.6/35.6 MB\u001b[0m \u001b[31m51.6 MB/s\u001b[0m eta \u001b[36m0:00:00\u001b[0m\n",
            "\u001b[?25hDownloading numpy-1.26.4-cp311-cp311-manylinux_2_17_x86_64.manylinux2014_x86_64.whl (18.3 MB)\n",
            "\u001b[2K   \u001b[90m━━━━━━━━━━━━━━━━━━━━━━━━━━━━━━━━━━━━━━━━\u001b[0m \u001b[32m18.3/18.3 MB\u001b[0m \u001b[31m168.8 MB/s\u001b[0m eta \u001b[36m0:00:00\u001b[0m\n",
            "\u001b[?25hDownloading protobuf-4.25.7-cp37-abi3-manylinux2014_x86_64.whl (294 kB)\n",
            "Downloading sounddevice-0.5.1-py3-none-any.whl (32 kB)\n",
            "Installing collected packages: protobuf, numpy, sounddevice, mediapipe\n",
            "\u001b[2K  Attempting uninstall: protobuf\n",
            "\u001b[2K    Found existing installation: protobuf 5.29.4\n",
            "\u001b[2K    Uninstalling protobuf-5.29.4:\n",
            "\u001b[2K      Successfully uninstalled protobuf-5.29.4\n",
            "\u001b[2K  Attempting uninstall: numpy\n",
            "\u001b[2K    Found existing installation: numpy 2.0.2\n",
            "\u001b[2K    Uninstalling numpy-2.0.2:\n",
            "\u001b[2K      Successfully uninstalled numpy-2.0.2\n",
            "\u001b[2K   \u001b[90m━━━━━━━━━━━━━━━━━━━━━━━━━━━━━━━━━━━━━━━━\u001b[0m \u001b[32m4/4\u001b[0m [mediapipe]\n",
            "\u001b[1A\u001b[2K\u001b[31mERROR: pip's dependency resolver does not currently take into account all the packages that are installed. This behaviour is the source of the following dependency conflicts.\n",
            "thinc 8.3.6 requires numpy<3.0.0,>=2.0.0, but you have numpy 1.26.4 which is incompatible.\n",
            "grpcio-status 1.71.0 requires protobuf<6.0dev,>=5.26.1, but you have protobuf 4.25.7 which is incompatible.\n",
            "ydf 0.11.0 requires protobuf<6.0.0,>=5.29.1, but you have protobuf 4.25.7 which is incompatible.\u001b[0m\u001b[31m\n",
            "\u001b[0mSuccessfully installed mediapipe-0.10.21 numpy-1.26.4 protobuf-4.25.7 sounddevice-0.5.1\n"
          ]
        }
      ]
    },
    {
      "cell_type": "code",
      "source": [
        "import os\n",
        "import cv2\n",
        "import torch\n",
        "import torch.nn as nn\n",
        "from torch.utils.data import Dataset, DataLoader, random_split\n",
        "import torchvision.transforms as T\n",
        "import torchvision.models as models\n",
        "from PIL import Image\n",
        "import numpy as np\n",
        "from sklearn.metrics import accuracy_score\n",
        "import shutil\n",
        "import random\n",
        "import mediapipe as mp"
      ],
      "metadata": {
        "id": "Q6xVAAJg0FQs"
      },
      "execution_count": 4,
      "outputs": []
    },
    {
      "cell_type": "code",
      "source": [
        "print(\"CUDA available:\", torch.cuda.is_available())\n",
        "print(\"Device name:\", torch.cuda.get_device_name(0) if torch.cuda.is_available() else \"No GPU\")"
      ],
      "metadata": {
        "colab": {
          "base_uri": "https://localhost:8080/"
        },
        "id": "ScludcWY0Prb",
        "outputId": "49622ea7-fc4c-497e-c74a-4700f6eb2616"
      },
      "execution_count": 5,
      "outputs": [
        {
          "output_type": "stream",
          "name": "stdout",
          "text": [
            "CUDA available: False\n",
            "Device name: No GPU\n"
          ]
        }
      ]
    },
    {
      "cell_type": "code",
      "source": [
        "import os\n",
        "print(os.listdir('VIDEO_Skelet3D'))"
      ],
      "metadata": {
        "colab": {
          "base_uri": "https://localhost:8080/"
        },
        "id": "yT1KTNHe0SVc",
        "outputId": "ece8fd5a-e962-40db-efba-ed7fb4145384"
      },
      "execution_count": 6,
      "outputs": [
        {
          "output_type": "stream",
          "name": "stdout",
          "text": [
            "['smash', 'forehand_openstands', 'kick_service', 'slice_service', 'backhand', 'backhand_slice', 'flat_service', 'backhand_volley', 'forehand_volley', 'forehand_slice', 'forehand_flat', 'backhand2hands']\n"
          ]
        }
      ]
    },
    {
      "cell_type": "code",
      "source": [
        "#shows the videos in each folder\n",
        "data_path = 'VIDEO_Skelet3D'\n",
        "\n",
        "# Print out the directory structure\n",
        "for root, dirs, files in os.walk(data_path):\n",
        "    print(f\"Root: {root}\")\n",
        "    print(f\"Dirs: {dirs}\")\n",
        "    print(f\"Files: {files}\")\n",
        "    print(\"-\" * 40)"
      ],
      "metadata": {
        "colab": {
          "base_uri": "https://localhost:8080/"
        },
        "collapsed": true,
        "id": "RMN9JAsO0WYw",
        "outputId": "e5f8becd-90ff-401d-acec-274afe098db8"
      },
      "execution_count": 7,
      "outputs": [
        {
          "output_type": "stream",
          "name": "stdout",
          "text": [
            "Root: VIDEO_Skelet3D\n",
            "Dirs: ['smash', 'forehand_openstands', 'kick_service', 'slice_service', 'backhand', 'backhand_slice', 'flat_service', 'backhand_volley', 'forehand_volley', 'forehand_slice', 'forehand_flat', 'backhand2hands']\n",
            "Files: []\n",
            "----------------------------------------\n",
            "Root: VIDEO_Skelet3D/smash\n",
            "Dirs: []\n",
            "Files: ['p33_smash_skelet3D_s2.avi', 'p50_smash_skelet3D_s2.avi', 'p13_smash_skelet3D_s2.avi', 'p38_smash_skelet3D_s2.avi', 'p20_smash_skelet3D_s3.avi', 'p34_smash_skelet3D_s3.avi', 'p51_smash_skelet3D_s2.avi', 'p16_smash_skelet3D_s1.avi', 'p35_smash_skelet3D_s3.avi', 'p42_smash_skelet3D_s3.avi', 'p3_smash_skelet3D_s3.avi', 'p42_smash_skelet3D_s2.avi', 'p5_smash_skelet3D_s2.avi', 'p25_smash_skelet3D_s1.avi', 'p27_smash_skelet3D_s3.avi', 'p19_smash_skelet3D_s3.avi', 'p23_smash_skelet3D_s3.avi', 'p50_smash_skelet3D_s3.avi', 'p54_smash_skelet3D_s2.avi', 'p23_smash_skelet3D_s2.avi', 'p16_smash_skelet3D_s2.avi', 'p36_smash_skelet3D_s3.avi', 'p17_smash_skelet3D_s2.avi', 'p42_smash_skelet3D_s1.avi', 'p12_smash_skelet3D_s2.avi', 'p15_smash_skelet3D_s3.avi', 'p15_smash_skelet3D_s2.avi', 'p31_smash_skelet3D_s3.avi', 'p48_smash_skelet3D_s2.avi', 'p55_smash_skelet3D_s2.avi', 'p53_smash_skelet3D_s2.avi', 'p44_smash_skelet3D_s2.avi', 'p10_smash_skelet3D_s2.avi', 'p28_smash_skelet3D_s2.avi', 'p46_smash_skelet3D_s2.avi', 'p14_smash_skelet3D_s2.avi', 'p53_smash_skelet3D_s3.avi', 'p49_smash_skelet3D_s2.avi', 'p19_smash_skelet3D_s2.avi', 'p52_smash_skelet3D_s3.avi', 'p8_smash_skelet3D_s2.avi', 'p47_smash_skelet3D_s3.avi', 'p1_smash_skelet3D_s2.avi', 'p32_smash_skelet3D_s3.avi', 'p9_smash_skelet3D_s3.avi', 'p40_smash_skelet3D_s2.avi', 'p5_smash_skelet3D_s1.avi', 'p13_smash_skelet3D_s3.avi', 'p16_smash_skelet3D_s3.avi', 'p21_smash_skelet3D_s2.avi', 'p7_smash_skelet3D_s2.avi', 'p43_smash_skelet3D_s3.avi', 'p35_smash_skelet3D_s2.avi', 'p41_smash_skelet3D_s2.avi', 'p47_smash_skelet3D_s2.avi', 'p21_smash_skelet3D_s3.avi', 'p38_smash_skelet3D_s3.avi', 'p5_smash_skelet3D_s3.avi', 'p52_smash_skelet3D_s2.avi', 'p28_smash_skelet3D_s3.avi', 'p2_smash_skelet3D_s3.avi', 'p4_smash_skelet3D_s3.avi', 'p41_smash_skelet3D_s3.avi', 'p18_smash_skelet3D_s3.avi', 'p8_smash_skelet3D_s3.avi', 'p55_smash_skelet3D_s3.avi', 'p29_smash_skelet3D_s2.avi', 'p46_smash_skelet3D_s3.avi', 'p49_smash_skelet3D_s3.avi', 'p22_smash_skelet3D_s3.avi', 'p40_smash_skelet3D_s3.avi', 'p26_smash_skelet3D_s2.avi', 'p6_smash_skelet3D_s3.avi', 'p54_smash_skelet3D_s3.avi', 'p24_smash_skelet3D_s3.avi', 'p14_smash_skelet3D_s3.avi', 'p39_smash_skelet3D_s2.avi', 'p44_smash_skelet3D_s3.avi', 'p12_smash_skelet3D_s3.avi', 'p30_smash_skelet3D_s2.avi', 'p24_smash_skelet3D_s2.avi', 'p6_smash_skelet3D_s2.avi', 'p25_smash_skelet3D_s2.avi', 'p36_smash_skelet3D_s2.avi', 'p2_smash_skelet3D_s2.avi', 'p10_smash_skelet3D_s3.avi', 'p51_smash_skelet3D_s3.avi', 'p30_smash_skelet3D_s3.avi', 'p25_smash_skelet3D_s3.avi', 'p20_smash_skelet3D_s2.avi', 'p9_smash_skelet3D_s2.avi', 'p55_smash_skelet3D_s1.avi', 'p29_smash_skelet3D_s3.avi', 'p4_smash_skelet3D_s2.avi', 'p7_smash_skelet3D_s3.avi', 'p39_smash_skelet3D_s3.avi', 'p17_smash_skelet3D_s3.avi', 'p33_smash_skelet3D_s3.avi', 'p26_smash_skelet3D_s3.avi', 'p1_smash_skelet3D_s3.avi', 'p18_smash_skelet3D_s2.avi', 'p28_smash_skelet3D_s1.avi', 'p31_smash_skelet3D_s2.avi', 'p48_smash_skelet3D_s3.avi']\n",
            "----------------------------------------\n",
            "Root: VIDEO_Skelet3D/forehand_openstands\n",
            "Dirs: []\n",
            "Files: ['p23_foreopen_skelet3D_s2.avi', 'p9_foreopen_skelet3D_s1.avi', 'p19_foreopen_skelet3D_s2.avi', 'p7_foreopen_skelet3D_s3.avi', 'p17_foreopen_skelet3D_s2.avi', 'p8_foreopen_skelet3D_s2.avi', 'p39_foreopen_skelet3D_s3.avi', 'p19_foreopen_skelet3D_s3.avi', 'p30_foreopen_skelet3D_s3.avi', 'p2_foreopen_skelet3D_s3.avi', 'p48_foreopen_skelet3D_s3.avi', 'p15_foreopen_skelet3D_s3.avi', 'p45_foreopen_skelet3D_s3.avi', 'p18_foreopen_skelet3D_s3.avi', 'p3_foreopen_skelet3D_s1.avi', 'p39_foreopen_skelet3D_s2.avi', 'p14_foreopen_skelet3D_s3.avi', 'p55_foreopen_skelet3D_s2.avi', 'p4_foreopen_skelet3D_s1.avi', 'p49_foreopen_skelet3D_s3.avi', 'p52_foreopen_skelet3D_s3.avi', 'p10_foreopen_skelet3D_s2.avi', 'p6_foreopen_skelet3D_s2.avi', 'p11_foreopen_skelet3D_s3.avi', 'p27_foreopen_skelet3D_s3.avi', 'p29_foreopen_skelet3D_s2.avi', 'p42_foreopen_skelet3D_s2.avi', 'p24_foreopen_skelet3D_s2.avi', 'p40_foreopen_skelet3D_s2.avi', 'p42_foreopen_skelet3D_s3.avi', 'p46_foreopen_skelet3D_s3.avi', 'p20_foreopen_skelet3D_s2.avi', 'p26_foreopen_skelet3D_s2.avi', 'p12_foreopen_skelet3D_s3.avi', 'p49_foreopen_skelet3D_s2.avi', 'p1_foreopen_skelet3D_s2.avi', 'p31_foreopen_skelet3D_s3.avi', 'p32_foreopen_skelet3D_s3.avi', 'p38_foreopen_skelet3D_s2.avi', 'p2_foreopen_skelet3D_s2.avi', 'p25_foreopen_skelet3D_s3.avi', 'p55_foreopen_skelet3D_s1.avi', 'p34_foreopen_skelet3D_s2.avi', 'p50_foreopen_skelet3D_s3.avi', 'p40_foreopen_skelet3D_s3.avi', 'p4_foreopen_skelet3D_s2.avi', 'p9_foreopen_skelet3D_s3.avi', 'p27_foreopen_skelet3D_s2.avi', 'p26_foreopen_skelet3D_s3.avi', 'p53_foreopen_skelet3D_s3.avi', 'p16_foreopen_skelet3D_s3.avi', 'p43_foreopen_skelet3D_s2.avi', 'p4_foreopen_skelet3D_s3.avi', 'p6_foreopen_skelet3D_s3.avi', 'p45_foreopen_skelet3D_s2.avi', 'p22_foreopen_skelet3D_s3.avi', 'p5_foreopen_skelet3D_s3.avi', 'p21_foreopen_skelet3D_s3.avi', 'p54_foreopen_skelet3D_s3.avi', 'p53_foreopen_skelet3D_s2.avi', 'p13_foreopen_skelet3D_s3.avi', 'p47_foreopen_skelet3D_s3.avi', 'p23_foreopen_skelet3D_s3.avi', 'p30_foreopen_skelet3D_s2.avi', 'p13_foreopen_skelet3D_s2.avi', 'p14_foreopen_skelet3D_s2.avi', 'p11_foreopen_skelet3D_s2.avi', 'p35_foreopen_skelet3D_s3.avi', 'p16_foreopen_skelet3D_s2.avi', 'p54_foreopen_skelet3D_s2.avi', 'p5_foreopen_skelet3D_s2.avi', 'p8_foreopen_skelet3D_s3.avi', 'p33_foreopen_skelet3D_s3.avi', 'p20_foreopen_skelet3D_s3.avi', 'p31_foreopen_skelet3D_s2.avi', 'p3_foreopen_skelet3D_s2.avi', 'p51_foreopen_skelet3D_s2.avi', 'p29_foreopen_skelet3D_s3.avi', 'p37_foreopen_skelet3D_s3.avi', 'p10_foreopen_skelet3D_s3.avi', 'p36_foreopen_skelet3D_s3.avi', 'p44_foreopen_skelet3D_s3.avi', 'p53_foreopen_skelet3D_s1.avi', 'p24_foreopen_skelet3D_s3.avi', 'p17_foreopen_skelet3D_s3.avi', 'p18_foreopen_skelet3D_s2.avi', 'p3_foreopen_skelet3D_s3.avi', 'p46_foreopen_skelet3D_s2.avi', 'p1_foreopen_skelet3D_s3.avi', 'p25_foreopen_skelet3D_s2.avi', 'p38_foreopen_skelet3D_s3.avi', 'p34_foreopen_skelet3D_s3.avi', 'p32_foreopen_skelet3D_s2.avi', 'p44_foreopen_skelet3D_s2.avi', 'p28_foreopen_skelet3D_s3.avi', 'p37_foreopen_skelet3D_s2.avi', 'p41_foreopen_skelet3D_s3.avi', 'p43_foreopen_skelet3D_s3.avi', 'p9_foreopen_skelet3D_s2.avi', 'p41_foreopen_skelet3D_s2.avi', 'p51_foreopen_skelet3D_s3.avi']\n",
            "----------------------------------------\n",
            "Root: VIDEO_Skelet3D/kick_service\n",
            "Dirs: []\n",
            "Files: ['p3_serkick_skelet3D_s3.avi', 'p44_serkick_skelet3D_s1.avi', 'p35_serkick_skelet3D_s3.avi', 'p28_serkick_skelet3D_s3.avi', 'p45_serkick_skelet3D_s3.avi', 'p36_serkick_skelet3D_s2.avi', 'p55_serkick_skelet3D_s2.avi', 'p24_serkick_skelet3D_s3.avi', 'p4_serkick_skelet3D_s3.avi', 'p30_serkick_skelet3D_s2.avi', 'p25_serkick_skelet3D_s3.avi', 'p21_serkick_skelet3D_s3.avi', 'p31_serkick_skelet3D_s1.avi', 'p20_serkick_skelet3D_s3.avi', 'p41_serkick_skelet3D_s3.avi', 'p47_serkick_skelet3D_s2.avi', 'p1_serkick_skelet3D_s3.avi', 'p49_serkick_skelet3D_s3.avi', 'p17_serkick_skelet3D_s3.avi', 'p26_serkick_skelet3D_s2.avi', 'p15_serkick_skelet3D_s3.avi', 'p9_serkick_skelet3D_s2.avi', 'p29_serkick_skelet3D_s2.avi', 'p46_serkick_skelet3D_s2.avi', 'p11_serkick_skelet3D_s3.avi', 'p51_serkick_skelet3D_s3.avi', 'p23_serkick_skelet3D_s3.avi', 'p35_serkick_skelet3D_s2.avi', 'p33_serkick_skelet3D_s3.avi', 'p3_serkick_skelet3D_s2.avi', 'p34_serkick_skelet3D_s3.avi', 'p42_serkick_skelet3D_s2.avi', 'p54_serkick_skelet3D_s3.avi', 'p17_serkick_skelet3D_s2.avi', 'p2_serkick_skelet3D_s2.avi', 'p38_serkick_skelet3D_s3.avi', 'p48_serkick_skelet3D_s2.avi', 'p48_serkick_skelet3D_s3.avi', 'p29_serkick_skelet3D_s3.avi', 'p6_serkick_skelet3D_s3.avi', 'p10_serkick_skelet3D_s2.avi', 'p26_serkick_skelet3D_s3.avi', 'p48_serkick_skelet3D_s1.avi', 'p36_serkick_skelet3D_s3.avi', 'p14_serkick_skelet3D_s3.avi', 'p52_serkick_skelet3D_s2.avi', 'p11_serkick_skelet3D_s1.avi', 'p46_serkick_skelet3D_s3.avi', 'p15_serkick_skelet3D_s2.avi', 'p53_serkick_skelet3D_s3.avi', 'p12_serkick_skelet3D_s2.avi', 'p19_serkick_skelet3D_s3.avi', 'p9_serkick_skelet3D_s3.avi', 'p7_serkick_skelet3D_s3.avi', 'p40_serkick_skelet3D_s3.avi', 'p39_serkick_skelet3D_s3.avi', 'p2_serkick_skelet3D_s3.avi', 'p38_serkick_skelet3D_s2.avi', 'p44_serkick_skelet3D_s2.avi', 'p5_serkick_skelet3D_s2.avi', 'p53_serkick_skelet3D_s1.avi', 'p47_serkick_skelet3D_s3.avi', 'p20_serkick_skelet3D_s2.avi', 'p22_serkick_skelet3D_s3.avi', 'p30_serkick_skelet3D_s3.avi', 'p18_serkick_skelet3D_s2.avi', 'p44_serkick_skelet3D_s3.avi', 'p13_serkick_skelet3D_s2.avi', 'p7_serkick_skelet3D_s2.avi', 'p13_serkick_skelet3D_s3.avi', 'p32_serkick_skelet3D_s2.avi', 'p51_serkick_skelet3D_s2.avi', 'p34_serkick_skelet3D_s2.avi', 'p24_serkick_skelet3D_s2.avi', 'p11_serkick_skelet3D_s2.avi', 'p52_serkick_skelet3D_s3.avi', 'p18_serkick_skelet3D_s3.avi', 'p1_serkick_skelet3D_s2.avi', 'p40_serkick_skelet3D_s2.avi', 'p16_serkick_skelet3D_s2.avi', 'p12_serkick_skelet3D_s3.avi', 'p5_serkick_skelet3D_s3.avi', 'p16_serkick_skelet3D_s3.avi', 'p32_serkick_skelet3D_s3.avi', 'p25_serkick_skelet3D_s2.avi', 'p43_serkick_skelet3D_s3.avi', 'p19_serkick_skelet3D_s2.avi', 'p14_serkick_skelet3D_s2.avi', 'p7_serkick_skelet3D_s1.avi', 'p31_serkick_skelet3D_s3.avi', 'p10_serkick_skelet3D_s3.avi', 'p17_serkick_skelet3D_s1.avi', 'p49_serkick_skelet3D_s1.avi', 'p27_serkick_skelet3D_s3.avi', 'p53_serkick_skelet3D_s2.avi', 'p39_serkick_skelet3D_s2.avi', 'p1_serkick_skelet3D_s1.avi', 'p42_serkick_skelet3D_s3.avi', 'p31_serkick_skelet3D_s2.avi', 'p49_serkick_skelet3D_s2.avi', 'p4_serkick_skelet3D_s2.avi', 'p6_serkick_skelet3D_s2.avi', 'p23_serkick_skelet3D_s2.avi', 'p55_serkick_skelet3D_s3.avi', 'p43_serkick_skelet3D_s2.avi', 'p50_serkick_skelet3D_s2.avi', 'p50_serkick_skelet3D_s3.avi', 'p54_serkick_skelet3D_s2.avi', 'p8_serkick_skelet3D_s3.avi']\n",
            "----------------------------------------\n",
            "Root: VIDEO_Skelet3D/slice_service\n",
            "Dirs: []\n",
            "Files: ['p2_serslice_skelet3D_s3.avi', 'p19_serslice_skelet3D_s3.avi', 'p45_serslice_skelet3D_s3.avi', 'p48_serslice_skelet3D_s3.avi', 'p20_serslice_skelet3D_s3.avi', 'p15_serslice_skelet3D_s3.avi', 'p16_serslice_skelet3D_s3.avi', 'p53_serslice_skelet3D_s3.avi', 'p10_serslice_skelet3D_s3.avi', 'p30_serslice_skelet3D_s3.avi', 'p12_serslice_skelet3D_s3.avi', 'p47_serslice_skelet3D_s2.avi', 'p52_serslice_skelet3D_s3.avi', 'p41_serslice_skelet3D_s3.avi', 'p51_serslice_skelet3D_s1.avi', 'p25_serslice_skelet3D_s3.avi', 'p7_serslice_skelet3D_s3.avi', 'p46_serslice_skelet3D_s3.avi', 'p34_serslice_skelet3D_s3.avi', 'p49_serslice_skelet3D_s2.avi', 'p39_serslice_skelet3D_s3.avi', 'p17_serslice_skelet3D_s2.avi', 'p1_serslice_skelet3D_s3.avi', 'p28_serslice_skelet3D_s3.avi', 'p27_serslice_skelet3D_s2.avi', 'p14_serslice_skelet3D_s2.avi', 'p29_serslice_skelet3D_s3.avi', 'p21_serslice_skelet3D_s2.avi', 'p26_serslice_skelet3D_s2.avi', 'p8_serslice_skelet3D_s3.avi', 'p10_serslice_skelet3D_s2.avi', 'p44_serslice_skelet3D_s2.avi', 'p18_serslice_skelet3D_s3.avi', 'p11_serslice_skelet3D_s3.avi', 'p21_serslice_skelet3D_s3.avi', 'p54_serslice_skelet3D_s2.avi', 'p55_serslice_skelet3D_s3.avi', 'p5_serslice_skelet3D_s3.avi', 'p39_serslice_skelet3D_s2.avi', 'p51_serslice_skelet3D_s2.avi', 'p6_serslice_skelet3D_s3.avi', 'p16_serslice_skelet3D_s2.avi', 'p23_serslice_skelet3D_s3.avi', 'p18_serslice_skelet3D_s2.avi', 'p29_serslice_skelet3D_s2.avi', 'p36_serslice_skelet3D_s3.avi', 'p53_serslice_skelet3D_s2.avi', 'p42_serslice_skelet3D_s3.avi', 'p46_serslice_skelet3D_s2.avi', 'p13_serslice_skelet3D_s2.avi', 'p33_serslice_skelet3D_s2.avi', 'p4_serslice_skelet3D_s3.avi', 'p51_serslice_skelet3D_s3.avi', 'p35_serslice_skelet3D_s3.avi', 'p27_serslice_skelet3D_s3.avi', 'p3_serslice_skelet3D_s3.avi', 'p30_serslice_skelet3D_s2.avi', 'p49_serslice_skelet3D_s3.avi', 'p35_serslice_skelet3D_s2.avi', 'p40_serslice_skelet3D_s2.avi', 'p44_serslice_skelet3D_s3.avi', 'p26_serslice_skelet3D_s3.avi', 'p43_serslice_skelet3D_s2.avi', 'p15_serslice_skelet3D_s2.avi', 'p13_serslice_skelet3D_s3.avi', 'p31_serslice_skelet3D_s3.avi', 'p17_serslice_skelet3D_s3.avi', 'p20_serslice_skelet3D_s2.avi', 'p5_serslice_skelet3D_s2.avi', 'p9_serslice_skelet3D_s3.avi', 'p33_serslice_skelet3D_s3.avi', 'p48_serslice_skelet3D_s2.avi', 'p22_serslice_skelet3D_s3.avi', 'p32_serslice_skelet3D_s2.avi', 'p32_serslice_skelet3D_s3.avi', 'p21_serslice_skelet3D_s1.avi', 'p9_serslice_skelet3D_s1.avi', 'p9_serslice_skelet3D_s2.avi', 'p16_serslice_skelet3D_s1.avi', 'p34_serslice_skelet3D_s2.avi', 'p24_serslice_skelet3D_s2.avi', 'p47_serslice_skelet3D_s3.avi', 'p38_serslice_skelet3D_s2.avi', 'p28_serslice_skelet3D_s2.avi', 'p40_serslice_skelet3D_s3.avi', 'p3_serslice_skelet3D_s2.avi', 'p50_serslice_skelet3D_s3.avi', 'p54_serslice_skelet3D_s3.avi', 'p4_serslice_skelet3D_s2.avi', 'p24_serslice_skelet3D_s3.avi', 'p42_serslice_skelet3D_s2.avi', 'p6_serslice_skelet3D_s2.avi', 'p25_serslice_skelet3D_s2.avi', 'p50_serslice_skelet3D_s2.avi', 'p38_serslice_skelet3D_s3.avi', 'p14_serslice_skelet3D_s3.avi', 'p43_serslice_skelet3D_s3.avi', 'p8_serslice_skelet3D_s2.avi', 'p1_serslice_skelet3D_s2.avi', 'p23_serslice_skelet3D_s2.avi']\n",
            "----------------------------------------\n",
            "Root: VIDEO_Skelet3D/backhand\n",
            "Dirs: []\n",
            "Files: ['p35_backhand_skelet3D_s2.avi', 'p38_backhand_skelet3D_s2.avi', 'p55_backhand_skelet3D_s2.avi', 'p2_backhand_skelet3D_s3.avi', 'p19_backhand_skelet3D_s3.avi', 'p10_backhand_skelet3D_s3.avi', 'p2_backhand_skelet3D_s1.avi', 'p30_backhand_skelet3D_s3.avi', 'p26_backhand_skelet3D_s3.avi', 'p49_backhand_skelet3D_s2.avi', 'p54_backhand_skelet3D_s2.avi', 'p32_backhand_skelet3D_s3.avi', 'p16_backhand_skelet3D_s2.avi', 'p24_backhand_skelet3D_s2.avi', 'p21_backhand_skelet3D_s2.avi', 'p18_backhand_skelet3D_s3.avi', 'p3_backhand_skelet3D_s3.avi', 'p26_backhand_skelet3D_s1.avi', 'p23_backhand_skelet3D_s3.avi', 'p4_backhand_skelet3D_s3.avi', 'p14_backhand_skelet3D_s2.avi', 'p3_backhand_skelet3D_s2.avi', 'p47_backhand_skelet3D_s2.avi', 'p26_backhand_skelet3D_s2.avi', 'p16_backhand_skelet3D_s3.avi', 'p15_backhand_skelet3D_s2.avi', 'p47_backhand_skelet3D_s3.avi', 'p12_backhand_skelet3D_s3.avi', 'p13_backhand_skelet3D_s3.avi', 'p46_backhand_skelet3D_s2.avi', 'p51_backhand_skelet3D_s2.avi', 'p52_backhand_skelet3D_s3.avi', 'p30_backhand_skelet3D_s2.avi', 'p27_backhand_skelet3D_s3.avi', 'p4_backhand_skelet3D_s2.avi', 'p37_backhand_skelet3D_s3.avi', 'p21_backhand_skelet3D_s3.avi', 'p29_backhand_skelet3D_s3.avi', 'p23_backhand_skelet3D_s2.avi', 'p48_backhand_skelet3D_s2.avi', 'p11_backhand_skelet3D_s3.avi', 'p51_backhand_skelet3D_s3.avi', 'p55_backhand_skelet3D_s3.avi', 'p42_backhand_skelet3D_s3.avi', 'p6_backhand_skelet3D_s2.avi', 'p46_backhand_skelet3D_s1.avi', 'p53_backhand_skelet3D_s2.avi', 'p2_backhand_skelet3D_s2.avi', 'p48_backhand_skelet3D_s3.avi', 'p35_backhand_skelet3D_s3.avi', 'p50_backhand_skelet3D_s3.avi', 'p41_backhand_skelet3D_s2.avi', 'p25_backhand_skelet3D_s2.avi', 'p23_backhand_skelet3D_s1.avi', 'p52_backhand_skelet3D_s2.avi', 'p5_backhand_skelet3D_s3.avi', 'p46_backhand_skelet3D_s3.avi', 'p8_backhand_skelet3D_s2.avi', 'p41_backhand_skelet3D_s3.avi', 'p17_backhand_skelet3D_s3.avi', 'p51_backhand_skelet3D_s1.avi', 'p36_backhand_skelet3D_s3.avi', 'p24_backhand_skelet3D_s3.avi', 'p19_backhand_skelet3D_s2.avi', 'p54_backhand_skelet3D_s3.avi', 'p9_backhand_skelet3D_s3.avi', 'p9_backhand_skelet3D_s2.avi', 'p36_backhand_skelet3D_s2.avi', 'p49_backhand_skelet3D_s3.avi', 'p1_backhand_skelet3D_s3.avi', 'p31_backhand_skelet3D_s3.avi', 'p43_backhand_skelet3D_s2.avi', 'p38_backhand_skelet3D_s3.avi', 'p3_backhand_skelet3D_s1.avi', 'p40_backhand_skelet3D_s3.avi', 'p10_backhand_skelet3D_s2.avi', 'p14_backhand_skelet3D_s3.avi', 'p11_backhand_skelet3D_s2.avi', 'p34_backhand_skelet3D_s3.avi', 'p43_backhand_skelet3D_s3.avi', 'p53_backhand_skelet3D_s1.avi', 'p54_backhand_skelet3D_s1.avi', 'p27_backhand_skelet3D_s2.avi', 'p44_backhand_skelet3D_s3.avi', 'p15_backhand_skelet3D_s3.avi', 'p8_backhand_skelet3D_s3.avi', 'p44_backhand_skelet3D_s2.avi', 'p42_backhand_skelet3D_s2.avi', 'p25_backhand_skelet3D_s3.avi', 'p20_backhand_skelet3D_s2.avi', 'p37_backhand_skelet3D_s2.avi', 'p39_backhand_skelet3D_s3.avi', 'p22_backhand_skelet3D_s3.avi', 'p20_backhand_skelet3D_s3.avi', 'p53_backhand_skelet3D_s3.avi', 'p34_backhand_skelet3D_s2.avi', 'p39_backhand_skelet3D_s2.avi']\n",
            "----------------------------------------\n",
            "Root: VIDEO_Skelet3D/backhand_slice\n",
            "Dirs: []\n",
            "Files: ['p44_bslice_skelet3D_s3.avi', 'p15_bslice_skelet3D_s2.avi', 'p31_bslice_skelet3D_s3.avi', 'p22_bslice_skelet3D_s3.avi', 'p31_bslice_skelet3D_s2.avi', 'p20_bslice_skelet3D_s3.avi', 'p3_bslice_skelet3D_s3.avi', 'p45_bslice_skelet3D_s3.avi', 'p7_bslice_skelet3D_s3.avi', 'p34_bslice_skelet3D_s3.avi', 'p33_bslice_skelet3D_s3.avi', 'p30_bslice_skelet3D_s2.avi', 'p26_bslice_skelet3D_s3.avi', 'p25_bslice_skelet3D_s3.avi', 'p6_bslice_skelet3D_s2.avi', 'p9_bslice_skelet3D_s2.avi', 'p29_bslice_skelet3D_s2.avi', 'p53_bslice_skelet3D_s3.avi', 'p51_bslice_skelet3D_s2.avi', 'p11_bslice_skelet3D_s3.avi', 'p36_bslice_skelet3D_s2.avi', 'p4_bslice_skelet3D_s2.avi', 'p39_bslice_skelet3D_s3.avi', 'p42_bslice_skelet3D_s2.avi', 'p29_bslice_skelet3D_s3.avi', 'p46_bslice_skelet3D_s2.avi', 'p38_bslice_skelet3D_s3.avi', 'p18_bslice_skelet3D_s2.avi', 'p54_bslice_skelet3D_s3.avi', 'p23_bslice_skelet3D_s2.avi', 'p12_bslice_skelet3D_s3.avi', 'p30_bslice_skelet3D_s3.avi', 'p37_bslice_skelet3D_s2.avi', 'p34_bslice_skelet3D_s2.avi', 'p20_bslice_skelet3D_s1.avi', 'p1_bslice_skelet3D_s2.avi', 'p39_bslice_skelet3D_s2.avi', 'p1_bslice_skelet3D_s3.avi', 'p13_bslice_skelet3D_s3.avi', 'p33_bslice_skelet3D_s2.avi', 'p16_bslice_skelet3D_s3.avi', 'p55_bslice_skelet3D_s2.avi', 'p27_bslice_skelet3D_s3.avi', 'p17_bslice_skelet3D_s2.avi', 'p20_bslice_skelet3D_s2.avi', 'p22_bslice_skelet3D_s2.avi', 'p46_bslice_skelet3D_s3.avi', 'p14_bslice_skelet3D_s2.avi', 'p36_bslice_skelet3D_s3.avi', 'p15_bslice_skelet3D_s3.avi', 'p43_bslice_skelet3D_s3.avi', 'p6_bslice_skelet3D_s3.avi', 'p35_bslice_skelet3D_s2.avi', 'p54_bslice_skelet3D_s2.avi', 'p53_bslice_skelet3D_s1.avi', 'p14_bslice_skelet3D_s3.avi', 'p21_bslice_skelet3D_s2.avi', 'p10_bslice_skelet3D_s3.avi', 'p18_bslice_skelet3D_s3.avi', 'p42_bslice_skelet3D_s3.avi', 'p2_bslice_skelet3D_s3.avi', 'p24_bslice_skelet3D_s3.avi', 'p17_bslice_skelet3D_s3.avi', 'p24_bslice_skelet3D_s2.avi', 'p41_bslice_skelet3D_s3.avi', 'p28_bslice_skelet3D_s2.avi', 'p5_bslice_skelet3D_s3.avi', 'p51_bslice_skelet3D_s3.avi', 'p21_bslice_skelet3D_s3.avi', 'p49_bslice_skelet3D_s3.avi', 'p5_bslice_skelet3D_s2.avi', 'p28_bslice_skelet3D_s3.avi', 'p50_bslice_skelet3D_s3.avi', 'p19_bslice_skelet3D_s3.avi', 'p4_bslice_skelet3D_s3.avi', 'p32_bslice_skelet3D_s2.avi', 'p48_bslice_skelet3D_s2.avi', 'p40_bslice_skelet3D_s2.avi', 'p47_bslice_skelet3D_s3.avi', 'p3_bslice_skelet3D_s2.avi', 'p9_bslice_skelet3D_s3.avi', 'p32_bslice_skelet3D_s3.avi', 'p45_bslice_skelet3D_s2.avi', 'p6_bslice_skelet3D_s1.avi', 'p37_bslice_skelet3D_s3.avi', 'p50_bslice_skelet3D_s2.avi', 'p11_bslice_skelet3D_s2.avi', 'p23_bslice_skelet3D_s3.avi', 'p26_bslice_skelet3D_s2.avi', 'p49_bslice_skelet3D_s2.avi', 'p48_bslice_skelet3D_s3.avi', 'p52_bslice_skelet3D_s2.avi', 'p35_bslice_skelet3D_s3.avi', 'p38_bslice_skelet3D_s2.avi', 'p19_bslice_skelet3D_s2.avi', 'p13_bslice_skelet3D_s2.avi', 'p16_bslice_skelet3D_s2.avi', 'p40_bslice_skelet3D_s3.avi', 'p52_bslice_skelet3D_s3.avi', 'p53_bslice_skelet3D_s2.avi']\n",
            "----------------------------------------\n",
            "Root: VIDEO_Skelet3D/flat_service\n",
            "Dirs: []\n",
            "Files: ['p26_serflat_skelet3D_s2.avi', 'p54_serflat_skelet3D_s1.avi', 'p40_serflat_skelet3D_s3.avi', 'p43_serflat_skelet3D_s2.avi', 'p25_serflat_skelet3D_s3.avi', 'p29_serflat_skelet3D_s3.avi', 'p9_serflat_skelet3D_s2.avi', 'p49_serflat_skelet3D_s2.avi', 'p8_serflat_skelet3D_s2.avi', 'p52_serflat_skelet3D_s2.avi', 'p24_serflat_skelet3D_s2.avi', 'p18_serflat_skelet3D_s2.avi', 'p16_serflat_skelet3D_s2.avi', 'p32_serflat_skelet3D_s2.avi', 'p12_serflat_skelet3D_s2.avi', 'p19_serflat_skelet3D_s3.avi', 'p8_serflat_skelet3D_s3.avi', 'p36_serflat_skelet3D_s3.avi', 'p40_serflat_skelet3D_s2.avi', 'p40_serflat_skelet3D_s1.avi', 'p6_serflat_skelet3D_s3.avi', 'p5_serflat_skelet3D_s3.avi', 'p51_serflat_skelet3D_s3.avi', 'p2_serflat_skelet3D_s3.avi', 'p21_serflat_skelet3D_s2.avi', 'p43_serflat_skelet3D_s3.avi', 'p20_serflat_skelet3D_s2.avi', 'p21_serflat_skelet3D_s3.avi', 'p42_serflat_skelet3D_s2.avi', 'p31_serflat_skelet3D_s2.avi', 'p46_serflat_skelet3D_s2.avi', 'p6_serflat_skelet3D_s2.avi', 'p27_serflat_skelet3D_s3.avi', 'p23_serflat_skelet3D_s2.avi', 'p42_serflat_skelet3D_s3.avi', 'p48_serflat_skelet3D_s2.avi', 'p4_serflat_skelet3D_s2.avi', 'p35_serflat_skelet3D_s2.avi', 'p27_serflat_skelet3D_s2.avi', 'p23_serflat_skelet3D_s3.avi', 'p35_serflat_skelet3D_s3.avi', 'p2_serflat_skelet3D_s2.avi', 'p11_serflat_skelet3D_s3.avi', 'p32_serflat_skelet3D_s3.avi', 'p30_serflat_skelet3D_s3.avi', 'p46_serflat_skelet3D_s3.avi', 'p26_serflat_skelet3D_s3.avi', 'p4_serflat_skelet3D_s3.avi', 'p15_serflat_skelet3D_s2.avi', 'p38_serflat_skelet3D_s2.avi', 'p17_serflat_skelet3D_s3.avi', 'p13_serflat_skelet3D_s3.avi', 'p18_serflat_skelet3D_s3.avi', 'p54_serflat_skelet3D_s3.avi', 'p34_serflat_skelet3D_s3.avi', 'p44_serflat_skelet3D_s2.avi', 'p20_serflat_skelet3D_s3.avi', 'p10_serflat_skelet3D_s2.avi', 'p39_serflat_skelet3D_s3.avi', 'p14_serflat_skelet3D_s3.avi', 'p34_serflat_skelet3D_s2.avi', 'p28_serflat_skelet3D_s3.avi', 'p53_serflat_skelet3D_s3.avi', 'p38_serflat_skelet3D_s3.avi', 'p39_serflat_skelet3D_s2.avi', 'p15_serflat_skelet3D_s3.avi', 'p24_serflat_skelet3D_s3.avi', 'p3_serflat_skelet3D_s3.avi', 'p10_serflat_skelet3D_s3.avi', 'p9_serflat_skelet3D_s3.avi', 'p54_serflat_skelet3D_s2.avi', 'p29_serflat_skelet3D_s2.avi', 'p17_serflat_skelet3D_s2.avi', 'p2_serflat_skelet3D_s1.avi', 'p47_serflat_skelet3D_s3.avi', 'p28_serflat_skelet3D_s2.avi', 'p30_serflat_skelet3D_s2.avi', 'p16_serflat_skelet3D_s3.avi', 'p44_serflat_skelet3D_s1.avi', 'p31_serflat_skelet3D_s3.avi', 'p19_serflat_skelet3D_s2.avi', 'p53_serflat_skelet3D_s2.avi', 'p7_serflat_skelet3D_s3.avi', 'p12_serflat_skelet3D_s3.avi', 'p33_serflat_skelet3D_s3.avi', 'p49_serflat_skelet3D_s3.avi', 'p14_serflat_skelet3D_s2.avi', 'p11_serflat_skelet3D_s2.avi', 'p52_serflat_skelet3D_s3.avi', 'p25_serflat_skelet3D_s2.avi', 'p41_serflat_skelet3D_s3.avi', 'p1_serflat_skelet3D_s3.avi', 'p47_serflat_skelet3D_s2.avi', 'p48_serflat_skelet3D_s3.avi', 'p44_serflat_skelet3D_s3.avi', 'p45_serflat_skelet3D_s3.avi']\n",
            "----------------------------------------\n",
            "Root: VIDEO_Skelet3D/backhand_volley\n",
            "Dirs: []\n",
            "Files: ['p8_bvolley_skelet3D_s2.avi', 'p14_bvolley_skelet3D_s2.avi', 'p15_bvolley_skelet3D_s2.avi', 'p10_bvolley_skelet3D_s3.avi', 'p2_bvolley_skelet3D_s3.avi', 'p26_bvolley_skelet3D_s2.avi', 'p46_bvolley_skelet3D_s2.avi', 'p51_bvolley_skelet3D_s2.avi', 'p36_bvolley_skelet3D_s2.avi', 'p31_bvolley_skelet3D_s3.avi', 'p36_bvolley_skelet3D_s3.avi', 'p19_bvolley_skelet3D_s3.avi', 'p35_bvolley_skelet3D_s3.avi', 'p5_bvolley_skelet3D_s3.avi', 'p11_bvolley_skelet3D_s3.avi', 'p15_bvolley_skelet3D_s3.avi', 'p17_bvolley_skelet3D_s2.avi', 'p3_bvolley_skelet3D_s3.avi', 'p42_bvolley_skelet3D_s2.avi', 'p25_bvolley_skelet3D_s2.avi', 'p12_bvolley_skelet3D_s3.avi', 'p46_bvolley_skelet3D_s3.avi', 'p26_bvolley_skelet3D_s3.avi', 'p24_bvolley_skelet3D_s3.avi', 'p14_bvolley_skelet3D_s3.avi', 'p12_bvolley_skelet3D_s2.avi', 'p38_bvolley_skelet3D_s2.avi', 'p53_bvolley_skelet3D_s2.avi', 'p17_bvolley_skelet3D_s3.avi', 'p40_bvolley_skelet3D_s2.avi', 'p11_bvolley_skelet3D_s2.avi', 'p55_bvolley_skelet3D_s3.avi', 'p20_bvolley_skelet3D_s2.avi', 'p2_bvolley_skelet3D_s1.avi', 'p10_bvolley_skelet3D_s2.avi', 'p34_bvolley_skelet3D_s3.avi', 'p50_bvolley_skelet3D_s3.avi', 'p48_bvolley_skelet3D_s1.avi', 'p43_bvolley_skelet3D_s3.avi', 'p16_bvolley_skelet3D_s3.avi', 'p49_bvolley_skelet3D_s3.avi', 'p20_bvolley_skelet3D_s3.avi', 'p2_bvolley_skelet3D_s2.avi', 'p41_bvolley_skelet3D_s3.avi', 'p53_bvolley_skelet3D_s3.avi', 'p39_bvolley_skelet3D_s2.avi', 'p34_bvolley_skelet3D_s2.avi', 'p42_bvolley_skelet3D_s3.avi', 'p43_bvolley_skelet3D_s2.avi', 'p52_bvolley_skelet3D_s3.avi', 'p9_bvolley_skelet3D_s2.avi', 'p40_bvolley_skelet3D_s3.avi', 'p38_bvolley_skelet3D_s3.avi', 'p30_bvolley_skelet3D_s3.avi', 'p3_bvolley_skelet3D_s2.avi', 'p31_bvolley_skelet3D_s2.avi', 'p44_bvolley_skelet3D_s2.avi', 'p55_bvolley_skelet3D_s2.avi', 'p1_bvolley_skelet3D_s2.avi', 'p16_bvolley_skelet3D_s2.avi', 'p18_bvolley_skelet3D_s3.avi', 'p45_bvolley_skelet3D_s3.avi', 'p9_bvolley_skelet3D_s3.avi', 'p13_bvolley_skelet3D_s1.avi', 'p28_bvolley_skelet3D_s3.avi', 'p41_bvolley_skelet3D_s1.avi', 'p6_bvolley_skelet3D_s2.avi', 'p8_bvolley_skelet3D_s3.avi', 'p51_bvolley_skelet3D_s3.avi', 'p47_bvolley_skelet3D_s2.avi', 'p13_bvolley_skelet3D_s2.avi', 'p13_bvolley_skelet3D_s3.avi', 'p29_bvolley_skelet3D_s2.avi', 'p23_bvolley_skelet3D_s3.avi', 'p1_bvolley_skelet3D_s3.avi', 'p33_bvolley_skelet3D_s2.avi', 'p7_bvolley_skelet3D_s2.avi', 'p47_bvolley_skelet3D_s3.avi', 'p30_bvolley_skelet3D_s2.avi', 'p23_bvolley_skelet3D_s2.avi', 'p18_bvolley_skelet3D_s2.avi', 'p39_bvolley_skelet3D_s3.avi', 'p4_bvolley_skelet3D_s3.avi', 'p27_bvolley_skelet3D_s3.avi', 'p29_bvolley_skelet3D_s3.avi', 'p54_bvolley_skelet3D_s2.avi', 'p22_bvolley_skelet3D_s3.avi', 'p41_bvolley_skelet3D_s2.avi', 'p19_bvolley_skelet3D_s2.avi', 'p28_bvolley_skelet3D_s2.avi', 'p51_bvolley_skelet3D_s1.avi', 'p4_bvolley_skelet3D_s2.avi', 'p25_bvolley_skelet3D_s3.avi', 'p33_bvolley_skelet3D_s3.avi', 'p48_bvolley_skelet3D_s3.avi', 'p54_bvolley_skelet3D_s3.avi', 'p24_bvolley_skelet3D_s2.avi', 'p7_bvolley_skelet3D_s3.avi', 'p48_bvolley_skelet3D_s2.avi', 'p21_bvolley_skelet3D_s3.avi', 'p6_bvolley_skelet3D_s3.avi', 'p44_bvolley_skelet3D_s3.avi', 'p52_bvolley_skelet3D_s2.avi']\n",
            "----------------------------------------\n",
            "Root: VIDEO_Skelet3D/forehand_volley\n",
            "Dirs: []\n",
            "Files: ['p48_fvolley_skelet3D_s3.avi', 'p13_fvolley_skelet3D_s3.avi', 'p7_fvolley_skelet3D_s3.avi', 'p3_fvolley_skelet3D_s2.avi', 'p4_fvolley_skelet3D_s2.avi', 'p19_fvolley_skelet3D_s2.avi', 'p8_fvolley_skelet3D_s2.avi', 'p44_fvolley_skelet3D_s3.avi', 'p19_fvolley_skelet3D_s3.avi', 'p3_fvolley_skelet3D_s3.avi', 'p29_fvolley_skelet3D_s3.avi', 'p23_fvolley_skelet3D_s2.avi', 'p5_fvolley_skelet3D_s2.avi', 'p17_fvolley_skelet3D_s3.avi', 'p33_fvolley_skelet3D_s3.avi', 'p27_fvolley_skelet3D_s3.avi', 'p43_fvolley_skelet3D_s3.avi', 'p2_fvolley_skelet3D_s2.avi', 'p1_fvolley_skelet3D_s3.avi', 'p16_fvolley_skelet3D_s2.avi', 'p30_fvolley_skelet3D_s3.avi', 'p15_fvolley_skelet3D_s3.avi', 'p24_fvolley_skelet3D_s3.avi', 'p39_fvolley_skelet3D_s2.avi', 'p41_fvolley_skelet3D_s3.avi', 'p6_fvolley_skelet3D_s2.avi', 'p22_fvolley_skelet3D_s2.avi', 'p45_fvolley_skelet3D_s3.avi', 'p47_fvolley_skelet3D_s2.avi', 'p9_fvolley_skelet3D_s3.avi', 'p28_fvolley_skelet3D_s2.avi', 'p10_fvolley_skelet3D_s2.avi', 'p17_fvolley_skelet3D_s2.avi', 'p14_fvolley_skelet3D_s2.avi', 'p5_fvolley_skelet3D_s3.avi', 'p18_fvolley_skelet3D_s2.avi', 'p20_fvolley_skelet3D_s2.avi', 'p41_fvolley_skelet3D_s2.avi', 'p13_fvolley_skelet3D_s2.avi', 'p20_fvolley_skelet3D_s3.avi', 'p21_fvolley_skelet3D_s3.avi', 'p51_fvolley_skelet3D_s3.avi', 'p52_fvolley_skelet3D_s3.avi', 'p14_fvolley_skelet3D_s3.avi', 'p35_fvolley_skelet3D_s2.avi', 'p54_fvolley_skelet3D_s2.avi', 'p22_fvolley_skelet3D_s3.avi', 'p35_fvolley_skelet3D_s3.avi', 'p40_fvolley_skelet3D_s3.avi', 'p38_fvolley_skelet3D_s2.avi', 'p42_fvolley_skelet3D_s2.avi', 'p34_fvolley_skelet3D_s3.avi', 'p46_fvolley_skelet3D_s2.avi', 'p8_fvolley_skelet3D_s3.avi', 'p36_fvolley_skelet3D_s3.avi', 'p12_fvolley_skelet3D_s3.avi', 'p30_fvolley_skelet3D_s2.avi', 'p55_fvolley_skelet3D_s2.avi', 'p24_fvolley_skelet3D_s2.avi', 'p26_fvolley_skelet3D_s3.avi', 'p10_fvolley_skelet3D_s3.avi', 'p9_fvolley_skelet3D_s2.avi', 'p2_fvolley_skelet3D_s3.avi', 'p11_fvolley_skelet3D_s3.avi', 'p18_fvolley_skelet3D_s3.avi', 'p6_fvolley_skelet3D_s3.avi', 'p25_fvolley_skelet3D_s3.avi', 'p30_fvolley_skelet3D_s1.avi', 'p39_fvolley_skelet3D_s3.avi', 'p54_fvolley_skelet3D_s3.avi', 'p5_fvolley_skelet3D_s1.avi', 'p40_fvolley_skelet3D_s2.avi', 'p37_fvolley_skelet3D_s3.avi', 'p44_fvolley_skelet3D_s2.avi', 'p45_fvolley_skelet3D_s2.avi', 'p31_fvolley_skelet3D_s3.avi', 'p16_fvolley_skelet3D_s3.avi', 'p38_fvolley_skelet3D_s3.avi', 'p29_fvolley_skelet3D_s2.avi', 'p25_fvolley_skelet3D_s2.avi', 'p1_fvolley_skelet3D_s2.avi', 'p4_fvolley_skelet3D_s3.avi', 'p31_fvolley_skelet3D_s2.avi', 'p42_fvolley_skelet3D_s3.avi', 'p46_fvolley_skelet3D_s3.avi', 'p23_fvolley_skelet3D_s3.avi', 'p11_fvolley_skelet3D_s2.avi', 'p53_fvolley_skelet3D_s3.avi', 'p48_fvolley_skelet3D_s2.avi', 'p28_fvolley_skelet3D_s3.avi', 'p55_fvolley_skelet3D_s3.avi', 'p15_fvolley_skelet3D_s2.avi', 'p47_fvolley_skelet3D_s3.avi']\n",
            "----------------------------------------\n",
            "Root: VIDEO_Skelet3D/forehand_slice\n",
            "Dirs: []\n",
            "Files: ['p44_fslice_skelet3D_s3.avi', 'p19_fslice_skelet3D_s2.avi', 'p31_fslice_skelet3D_s3.avi', 'p2_fslice_skelet3D_s3.avi', 'p6_fslice_skelet3D_s3.avi', 'p39_fslice_skelet3D_s2.avi', 'p18_fslice_skelet3D_s3.avi', 'p41_fslice_skelet3D_s2.avi', 'p2_fslice_skelet3D_s2.avi', 'p33_fslice_skelet3D_s3.avi', 'p16_fslice_skelet3D_s3.avi', 'p43_fslice_skelet3D_s3.avi', 'p46_fslice_skelet3D_s3.avi', 'p39_fslice_skelet3D_s3.avi', 'p15_fslice_skelet3D_s2.avi', 'p16_fslice_skelet3D_s2.avi', 'p30_fslice_skelet3D_s2.avi', 'p51_fslice_skelet3D_s2.avi', 'p23_fslice_skelet3D_s2.avi', 'p29_fslice_skelet3D_s3.avi', 'p50_fslice_skelet3D_s3.avi', 'p25_fslice_skelet3D_s3.avi', 'p9_fslice_skelet3D_s2.avi', 'p14_fslice_skelet3D_s3.avi', 'p26_fslice_skelet3D_s3.avi', 'p17_fslice_skelet3D_s2.avi', 'p13_fslice_skelet3D_s2.avi', 'p29_fslice_skelet3D_s2.avi', 'p52_fslice_skelet3D_s3.avi', 'p11_fslice_skelet3D_s3.avi', 'p1_fslice_skelet3D_s1.avi', 'p24_fslice_skelet3D_s3.avi', 'p36_fslice_skelet3D_s2.avi', 'p45_fslice_skelet3D_s3.avi', 'p38_fslice_skelet3D_s2.avi', 'p8_fslice_skelet3D_s3.avi', 'p38_fslice_skelet3D_s3.avi', 'p32_fslice_skelet3D_s3.avi', 'p25_fslice_skelet3D_s2.avi', 'p46_fslice_skelet3D_s2.avi', 'p27_fslice_skelet3D_s3.avi', 'p4_fslice_skelet3D_s3.avi', 'p14_fslice_skelet3D_s2.avi', 'p53_fslice_skelet3D_s3.avi', 'p19_fslice_skelet3D_s3.avi', 'p28_fslice_skelet3D_s3.avi', 'p54_fslice_skelet3D_s3.avi', 'p17_fslice_skelet3D_s3.avi', 'p8_fslice_skelet3D_s2.avi', 'p1_fslice_skelet3D_s2.avi', 'p10_fslice_skelet3D_s3.avi', 'p12_fslice_skelet3D_s2.avi', 'p53_fslice_skelet3D_s2.avi', 'p7_fslice_skelet3D_s3.avi', 'p18_fslice_skelet3D_s2.avi', 'p9_fslice_skelet3D_s3.avi', 'p1_fslice_skelet3D_s3.avi', 'p7_fslice_skelet3D_s2.avi', 'p10_fslice_skelet3D_s2.avi', 'p22_fslice_skelet3D_s2.avi', 'p5_fslice_skelet3D_s2.avi', 'p43_fslice_skelet3D_s2.avi', 'p54_fslice_skelet3D_s2.avi', 'p12_fslice_skelet3D_s3.avi', 'p37_fslice_skelet3D_s3.avi', 'p42_fslice_skelet3D_s3.avi', 'p47_fslice_skelet3D_s3.avi', 'p49_fslice_skelet3D_s3.avi', 'p3_fslice_skelet3D_s3.avi', 'p3_fslice_skelet3D_s2.avi', 'p21_fslice_skelet3D_s2.avi', 'p20_fslice_skelet3D_s2.avi', 'p51_fslice_skelet3D_s3.avi', 'p36_fslice_skelet3D_s3.avi', 'p22_fslice_skelet3D_s3.avi', 'p34_fslice_skelet3D_s3.avi', 'p35_fslice_skelet3D_s3.avi', 'p21_fslice_skelet3D_s3.avi', 'p48_fslice_skelet3D_s3.avi', 'p4_fslice_skelet3D_s2.avi', 'p40_fslice_skelet3D_s3.avi', 'p42_fslice_skelet3D_s2.avi', 'p5_fslice_skelet3D_s3.avi', 'p37_fslice_skelet3D_s2.avi', 'p13_fslice_skelet3D_s3.avi', 'p15_fslice_skelet3D_s3.avi', 'p30_fslice_skelet3D_s3.avi', 'p26_fslice_skelet3D_s2.avi', 'p23_fslice_skelet3D_s3.avi', 'p55_fslice_skelet3D_s2.avi', 'p11_fslice_skelet3D_s2.avi', 'p20_fslice_skelet3D_s3.avi', 'p55_fslice_skelet3D_s1.avi', 'p31_fslice_skelet3D_s2.avi', 'p27_fslice_skelet3D_s2.avi', 'p52_fslice_skelet3D_s2.avi', 'p41_fslice_skelet3D_s3.avi']\n",
            "----------------------------------------\n",
            "Root: VIDEO_Skelet3D/forehand_flat\n",
            "Dirs: []\n",
            "Files: ['p43_foreflat_skelet3D_s3.avi', 'p51_foreflat_skelet3D_s2.avi', 'p46_foreflat_skelet3D_s3.avi', 'p53_foreflat_skelet3D_s3.avi', 'p8_foreflat_skelet3D_s1.avi', 'p10_foreflat_skelet3D_s3.avi', 'p13_foreflat_skelet3D_s2.avi', 'p9_foreflat_skelet3D_s3.avi', 'p11_foreflat_skelet3D_s3.avi', 'p25_foreflat_skelet3D_s3.avi', 'p45_foreflat_skelet3D_s3.avi', 'p37_foreflat_skelet3D_s3.avi', 'p46_foreflat_skelet3D_s2.avi', 'p23_foreflat_skelet3D_s2.avi', 'p18_foreflat_skelet3D_s2.avi', 'p27_foreflat_skelet3D_s3.avi', 'p47_foreflat_skelet3D_s2.avi', 'p8_foreflat_skelet3D_s3.avi', 'p32_foreflat_skelet3D_s3.avi', 'p48_foreflat_skelet3D_s2.avi', 'p3_foreflat_skelet3D_s2.avi', 'p36_foreflat_skelet3D_s3.avi', 'p30_foreflat_skelet3D_s3.avi', 'p20_foreflat_skelet3D_s2.avi', 'p12_foreflat_skelet3D_s2.avi', 'p45_foreflat_skelet3D_s2.avi', 'p23_foreflat_skelet3D_s3.avi', 'p52_foreflat_skelet3D_s3.avi', 'p20_foreflat_skelet3D_s3.avi', 'p5_foreflat_skelet3D_s2.avi', 'p26_foreflat_skelet3D_s3.avi', 'p9_foreflat_skelet3D_s2.avi', 'p54_foreflat_skelet3D_s2.avi', 'p13_foreflat_skelet3D_s3.avi', 'p33_foreflat_skelet3D_s3.avi', 'p4_foreflat_skelet3D_s3.avi', 'p3_foreflat_skelet3D_s1.avi', 'p31_foreflat_skelet3D_s1.avi', 'p16_foreflat_skelet3D_s3.avi', 'p48_foreflat_skelet3D_s3.avi', 'p50_foreflat_skelet3D_s3.avi', 'p31_foreflat_skelet3D_s2.avi', 'p37_foreflat_skelet3D_s2.avi', 'p29_foreflat_skelet3D_s2.avi', 'p38_foreflat_skelet3D_s3.avi', 'p12_foreflat_skelet3D_s3.avi', 'p42_foreflat_skelet3D_s3.avi', 'p15_foreflat_skelet3D_s2.avi', 'p40_foreflat_skelet3D_s2.avi', 'p4_foreflat_skelet3D_s1.avi', 'p24_foreflat_skelet3D_s2.avi', 'p54_foreflat_skelet3D_s3.avi', 'p16_foreflat_skelet3D_s2.avi', 'p33_foreflat_skelet3D_s2.avi', 'p49_foreflat_skelet3D_s3.avi', 'p2_foreflat_skelet3D_s3.avi', 'p18_foreflat_skelet3D_s3.avi', 'p38_foreflat_skelet3D_s2.avi', 'p49_foreflat_skelet3D_s1.avi', 'p22_foreflat_skelet3D_s2.avi', 'p27_foreflat_skelet3D_s2.avi', 'p31_foreflat_skelet3D_s3.avi', 'p17_foreflat_skelet3D_s2.avi', 'p21_foreflat_skelet3D_s3.avi', 'p11_foreflat_skelet3D_s2.avi', 'p22_foreflat_skelet3D_s3.avi', 'p55_foreflat_skelet3D_s2.avi', 'p7_foreflat_skelet3D_s3.avi', 'p10_foreflat_skelet3D_s2.avi', 'p40_foreflat_skelet3D_s3.avi', 'p3_foreflat_skelet3D_s3.avi', 'p11_foreflat_skelet3D_s1.avi', 'p52_foreflat_skelet3D_s2.avi', 'p39_foreflat_skelet3D_s2.avi', 'p28_foreflat_skelet3D_s2.avi', 'p49_foreflat_skelet3D_s2.avi', 'p8_foreflat_skelet3D_s2.avi', 'p35_foreflat_skelet3D_s2.avi', 'p14_foreflat_skelet3D_s2.avi', 'p1_foreflat_skelet3D_s2.avi', 'p39_foreflat_skelet3D_s3.avi', 'p41_foreflat_skelet3D_s2.avi', 'p4_foreflat_skelet3D_s2.avi', 'p17_foreflat_skelet3D_s3.avi', 'p41_foreflat_skelet3D_s3.avi', 'p30_foreflat_skelet3D_s2.avi', 'p14_foreflat_skelet3D_s3.avi', 'p6_foreflat_skelet3D_s3.avi', 'p42_foreflat_skelet3D_s2.avi', 'p25_foreflat_skelet3D_s2.avi', 'p26_foreflat_skelet3D_s2.avi', 'p1_foreflat_skelet3D_s3.avi', 'p29_foreflat_skelet3D_s3.avi', 'p34_foreflat_skelet3D_s2.avi', 'p35_foreflat_skelet3D_s3.avi', 'p19_foreflat_skelet3D_s3.avi', 'p47_foreflat_skelet3D_s3.avi', 'p34_foreflat_skelet3D_s3.avi', 'p24_foreflat_skelet3D_s3.avi', 'p7_foreflat_skelet3D_s2.avi', 'p51_foreflat_skelet3D_s3.avi', 'p53_foreflat_skelet3D_s2.avi', 'p5_foreflat_skelet3D_s3.avi', 'p2_foreflat_skelet3D_s2.avi', 'p44_foreflat_skelet3D_s2.avi', 'p36_foreflat_skelet3D_s2.avi', 'p28_foreflat_skelet3D_s3.avi', 'p15_foreflat_skelet3D_s3.avi', 'p44_foreflat_skelet3D_s3.avi', 'p43_foreflat_skelet3D_s2.avi']\n",
            "----------------------------------------\n",
            "Root: VIDEO_Skelet3D/backhand2hands\n",
            "Dirs: []\n",
            "Files: ['p13_backhand2h_skelet3D_s3.avi', 'p6_backhand2h_skelet3D_s1.avi', 'p46_backhand2h_skelet3D_s2.avi', 'p46_backhand2h_skelet3D_s3.avi', 'p9_backhand2h_skelet3D_s2.avi', 'p49_backhand2h_skelet3D_s3.avi', 'p18_backhand2h_skelet3D_s3.avi', 'p20_backhand2h_skelet3D_s2.avi', 'p24_backhand2h_skelet3D_s3.avi', 'p48_backhand2h_skelet3D_s3.avi', 'p37_backhand2h_skelet3D_s3.avi', 'p14_backhand2h_skelet3D_s3.avi', 'p33_backhand2h_skelet3D_s3.avi', 'p39_backhand2h_skelet3D_s2.avi', 'p16_backhand2h_skelet3D_s2.avi', 'p52_backhand2h_skelet3D_s2.avi', 'p29_backhand2h_skelet3D_s2.avi', 'p16_backhand2h_skelet3D_s3.avi', 'p31_backhand2h_skelet3D_s2.avi', 'p53_backhand2h_skelet3D_s2.avi', 'p21_backhand2h_skelet3D_s2.avi', 'p30_backhand2h_skelet3D_s2.avi', 'p36_backhand2h_skelet3D_s2.avi', 'p43_backhand2h_skelet3D_s3.avi', 'p26_backhand2h_skelet3D_s3.avi', 'p1_backhand2h_skelet3D_s2.avi', 'p17_backhand2h_skelet3D_s2.avi', 'p49_backhand2h_skelet3D_s2.avi', 'p3_backhand2h_skelet3D_s2.avi', 'p35_backhand2h_skelet3D_s2.avi', 'p52_backhand2h_skelet3D_s3.avi', 'p25_backhand2h_skelet3D_s2.avi', 'p30_backhand2h_skelet3D_s3.avi', 'p27_backhand2h_skelet3D_s2.avi', 'p51_backhand2h_skelet3D_s3.avi', 'p5_backhand2h_skelet3D_s3.avi', 'p8_backhand2h_skelet3D_s3.avi', 'p31_backhand2h_skelet3D_s1.avi', 'p22_backhand2h_skelet3D_s2.avi', 'p2_backhand2h_skelet3D_s3.avi', 'p1_backhand2h_skelet3D_s1.avi', 'p24_backhand2h_skelet3D_s2.avi', 'p28_backhand2h_skelet3D_s3.avi', 'p2_backhand2h_skelet3D_s2.avi', 'p42_backhand2h_skelet3D_s3.avi', 'p33_backhand2h_skelet3D_s2.avi', 'p50_backhand2h_skelet3D_s3.avi', 'p54_backhand2h_skelet3D_s2.avi', 'p44_backhand2h_skelet3D_s2.avi', 'p10_backhand2h_skelet3D_s3.avi', 'p43_backhand2h_skelet3D_s2.avi', 'p40_backhand2h_skelet3D_s3.avi', 'p35_backhand2h_skelet3D_s3.avi', 'p22_backhand2h_skelet3D_s3.avi', 'p55_backhand2h_skelet3D_s2.avi', 'p44_backhand2h_skelet3D_s3.avi', 'p10_backhand2h_skelet3D_s2.avi', 'p31_backhand2h_skelet3D_s3.avi', 'p40_backhand2h_skelet3D_s2.avi', 'p7_backhand2h_skelet3D_s3.avi', 'p13_backhand2h_skelet3D_s2.avi', 'p29_backhand2h_skelet3D_s3.avi', 'p38_backhand2h_skelet3D_s3.avi', 'p19_backhand2h_skelet3D_s3.avi', 'p15_backhand2h_skelet3D_s3.avi', 'p27_backhand2h_skelet3D_s3.avi', 'p37_backhand2h_skelet3D_s2.avi', 'p45_backhand2h_skelet3D_s3.avi', 'p50_backhand2h_skelet3D_s2.avi', 'p52_backhand2h_skelet3D_s1.avi', 'p47_backhand2h_skelet3D_s2.avi', 'p11_backhand2h_skelet3D_s3.avi', 'p23_backhand2h_skelet3D_s3.avi', 'p9_backhand2h_skelet3D_s3.avi', 'p1_backhand2h_skelet3D_s3.avi', 'p38_backhand2h_skelet3D_s2.avi', 'p12_backhand2h_skelet3D_s3.avi', 'p34_backhand2h_skelet3D_s3.avi', 'p53_backhand2h_skelet3D_s3.avi', 'p48_backhand2h_skelet3D_s2.avi', 'p51_backhand2h_skelet3D_s2.avi', 'p7_backhand2h_skelet3D_s2.avi', 'p26_backhand2h_skelet3D_s2.avi', 'p36_backhand2h_skelet3D_s3.avi', 'p8_backhand2h_skelet3D_s2.avi', 'p20_backhand2h_skelet3D_s3.avi', 'p21_backhand2h_skelet3D_s3.avi', 'p6_backhand2h_skelet3D_s2.avi', 'p3_backhand2h_skelet3D_s3.avi', 'p42_backhand2h_skelet3D_s2.avi', 'p28_backhand2h_skelet3D_s2.avi', 'p15_backhand2h_skelet3D_s2.avi', 'p45_backhand2h_skelet3D_s2.avi', 'p4_backhand2h_skelet3D_s2.avi', 'p41_backhand2h_skelet3D_s3.avi', 'p39_backhand2h_skelet3D_s3.avi', 'p54_backhand2h_skelet3D_s3.avi', 'p18_backhand2h_skelet3D_s2.avi', 'p5_backhand2h_skelet3D_s2.avi', 'p17_backhand2h_skelet3D_s3.avi', 'p47_backhand2h_skelet3D_s3.avi', 'p4_backhand2h_skelet3D_s3.avi', 'p25_backhand2h_skelet3D_s3.avi', 'p12_backhand2h_skelet3D_s2.avi', 'p41_backhand2h_skelet3D_s2.avi', 'p19_backhand2h_skelet3D_s2.avi', 'p6_backhand2h_skelet3D_s3.avi']\n",
            "----------------------------------------\n"
          ]
        }
      ]
    },
    {
      "cell_type": "code",
      "source": [
        "def convert_video_to_npy(video_path, resize_shape=(224, 224)):\n",
        "    \"\"\"\n",
        "    Converts a video to a numpy array of resized frames.\n",
        "\n",
        "    Parameters:\n",
        "    - video_path: The path to the video file.\n",
        "    - resize_shape: The desired frame size (default is 224x224).\n",
        "\n",
        "    Returns:\n",
        "    - frames_array: Numpy array containing all frames.\n",
        "    \"\"\"\n",
        "    cap = cv2.VideoCapture(video_path)\n",
        "    frames = []\n",
        "\n",
        "    if not cap.isOpened():\n",
        "        raise ValueError(f\"Error opening video file: {video_path}\")\n",
        "\n",
        "    while True:\n",
        "        ret, frame = cap.read()\n",
        "        if not ret:\n",
        "            break\n",
        "        # Resize frame to the desired shape\n",
        "        frame_resized = cv2.resize(frame, resize_shape)\n",
        "        frames.append(frame_resized)\n",
        "\n",
        "    cap.release()\n",
        "\n",
        "    # Convert list of frames into a numpy array\n",
        "    frames_array = np.array(frames)\n",
        "    return frames_array\n",
        "\n",
        "def create_subfolders(pastas_dir, output_dir):\n",
        "    \"\"\"\n",
        "    Creates subfolders in the output directory and processes .avi files.\n",
        "\n",
        "    Parameters:\n",
        "    - pastas_dir: The root directory containing class folders.\n",
        "    - output_dir: The directory where the .npy files will be saved.\n",
        "    \"\"\"\n",
        "    for pastas_filename in os.listdir(pastas_dir):\n",
        "        origem_path = os.path.join(pastas_dir, pastas_filename)\n",
        "\n",
        "        # Check if it's a directory (ignore files)\n",
        "        if os.path.isdir(origem_path):\n",
        "            nova_pasta_path = os.path.join(output_dir, pastas_filename)\n",
        "            os.makedirs(nova_pasta_path, exist_ok=True)\n",
        "\n",
        "            # Process each video file in the subfolder\n",
        "            videos_dir = os.path.join(pastas_dir, pastas_filename)\n",
        "            for video_filename in os.listdir(videos_dir):\n",
        "                if video_filename.endswith(\".avi\"):  # Process only .avi files\n",
        "                    video_path = os.path.join(videos_dir, video_filename)\n",
        "                    video_name = os.path.splitext(video_filename)[0]\n",
        "\n",
        "                    try:\n",
        "                        # Convert the video to numpy array\n",
        "                        frames_array = convert_video_to_npy(video_path)\n",
        "\n",
        "                        # Save the numpy array to a .npy file\n",
        "                        output_filename = os.path.join(nova_pasta_path, f\"{video_name}.npy\")\n",
        "                        np.save(output_filename, frames_array)\n",
        "                    except ValueError as e:\n",
        "                        print(f\"Error processing {video_filename}: {e}\")\n",
        "                    except Exception as e:\n",
        "                        print(f\"Unexpected error with {video_filename}: {e}\")\n",
        "\n",
        "# Example usage\n",
        "pastas_dir = 'VIDEO_Skelet3D'  # Directory with .avi videos\n",
        "npy_dir = 'npy_videos'  # Directory to save .npy files\n",
        "os.makedirs(npy_dir, exist_ok=True)\n",
        "\n",
        "# Process videos and maintain class folders\n",
        "create_subfolders(pastas_dir, npy_dir)"
      ],
      "metadata": {
        "id": "fvbjFQyiv_DK"
      },
      "execution_count": 8,
      "outputs": []
    },
    {
      "cell_type": "code",
      "source": [
        "# Pad/truncate to 120 frames\n",
        "def pad_or_truncate_keypoints(keypoints, target_length=120):\n",
        "    \"\"\"\n",
        "    Pads or truncates a keypoints array to a fixed number of frames (target_length).\n",
        "    If padding is needed, uses zeros.\n",
        "    \"\"\"\n",
        "    current_length = keypoints.shape[0]\n",
        "\n",
        "    if current_length == target_length:\n",
        "        return keypoints\n",
        "    elif current_length > target_length:\n",
        "        return keypoints[:target_length]  # Truncate\n",
        "    else:\n",
        "        # Pad with zeros\n",
        "        padding = np.zeros((target_length - current_length, keypoints.shape[1], keypoints.shape[2]))\n",
        "        return np.concatenate([keypoints, padding], axis=0)"
      ],
      "metadata": {
        "id": "4Kl8O3i9BQFz"
      },
      "execution_count": 9,
      "outputs": []
    },
    {
      "cell_type": "code",
      "source": [
        "# In theory this will extract the keypoints AND pad/truncate\n",
        "from tqdm import tqdm\n",
        "\n",
        "root_dir = \"npy_videos\"\n",
        "\n",
        "mp_pose = mp.solutions.pose\n",
        "pose = mp_pose.Pose(static_image_mode=True)\n",
        "\n",
        "all_keypoints = {}\n",
        "\n",
        "# Top-level loop with a single progress bar\n",
        "action_folders = sorted([d for d in os.listdir(root_dir) if os.path.isdir(os.path.join(root_dir, d))])\n",
        "for action_folder in tqdm(action_folders, desc=\"Processing actions\"):\n",
        "    action_path = os.path.join(root_dir, action_folder)\n",
        "    all_keypoints[action_folder] = {}\n",
        "\n",
        "    video_files = sorted([f for f in os.listdir(action_path) if f.endswith(\".npy\")])\n",
        "    for video_file in video_files:  # No tqdm here\n",
        "        video_path = os.path.join(action_path, video_file)\n",
        "        try:\n",
        "            sample = np.load(video_path)\n",
        "            video_keypoints = []\n",
        "\n",
        "            for frame in sample:\n",
        "                frame_rgb = cv2.cvtColor(frame, cv2.COLOR_BGR2RGB)\n",
        "                results = pose.process(frame_rgb)\n",
        "\n",
        "                if results.pose_landmarks:\n",
        "                    keypoints = [[lm.x, lm.y, lm.z] for lm in results.pose_landmarks.landmark]\n",
        "                else:\n",
        "                    keypoints = np.zeros((33, 3)).tolist()\n",
        "\n",
        "                video_keypoints.append(keypoints)\n",
        "\n",
        "            video_keypoints = np.array(video_keypoints)\n",
        "            video_keypoints = pad_or_truncate_keypoints(video_keypoints, target_length=120)\n",
        "            all_keypoints[action_folder][video_file] = video_keypoints\n",
        "\n",
        "        except Exception as e:\n",
        "            pass  # Suppress per-video error printing for a clean log\n",
        "\n",
        "# Final summary\n",
        "print(\"\\n Summary of extracted keypoints:\")\n",
        "for action, videos in all_keypoints.items():\n",
        "    print(f\"- {action}: {len(videos)} videos processed.\")"
      ],
      "metadata": {
        "colab": {
          "base_uri": "https://localhost:8080/"
        },
        "id": "8Yb1A2XfSFkd",
        "outputId": "fe323ee6-212e-42e0-d091-e9d2e583dacb"
      },
      "execution_count": null,
      "outputs": [
        {
          "output_type": "stream",
          "name": "stderr",
          "text": [
            "Processing actions:  25%|██▌       | 3/12 [10:01<29:42, 198.03s/it]"
          ]
        }
      ]
    }
  ]
}